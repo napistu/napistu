{
 "cells": [
  {
   "cell_type": "markdown",
   "id": "dimensional-palestine",
   "metadata": {},
   "source": [
    "# Reactome - Neo4j queries\n",
    "\n",
    "## Setup\n",
    "\n",
    "- Install Neo4j on the server or desktop\n",
    "- Download the reactome database.db file from downloads"
   ]
  },
  {
   "cell_type": "code",
   "execution_count": null,
   "id": "plain-arizona",
   "metadata": {},
   "outputs": [],
   "source": [
    "\"\"\"\n",
    "// this query will extract entity sets, their members and standard identifiers\n",
    "MATCH (es:EntitySet)-[:hasMember]->(mem:PhysicalEntity)-[:referenceEntity]->(re:ReferenceEntity)-[:referenceDatabase]->(rd:ReferenceDatabase)\n",
    "WHERE es.speciesName = 'Homo sapiens'\n",
    "RETURN \n",
    "  es.displayName as set_name,\n",
    "  es.stId as set_id,\n",
    "  mem.displayName as member_name,\n",
    "  mem.stId as member_id,\n",
    "  re.identifier as identifier,\n",
    "  rd.displayName as ontology\n",
    "\"\"\""
   ]
  },
  {
   "cell_type": "code",
   "execution_count": null,
   "id": "registered-beverage",
   "metadata": {},
   "outputs": [],
   "source": [
    "\"\"\"\n",
    "// this query will extract all molecules and their cross-referenced ontologies\n",
    "MATCH (mem:PhysicalEntity)-[:referenceEntity]->(re:ReferenceEntity)-[:crossReference]->(di:DatabaseIdentifier)-[:referenceDatabase]->(rd:ReferenceDatabase)\n",
    "WHERE mem.speciesName = 'Homo sapiens'\n",
    "RETURN \n",
    "  mem.displayName as member_name,\n",
    "  mem.stId as reactome_id,\n",
    "  re.identifier as uniprot,\n",
    "  di.identifier as identifier,\n",
    "  rd.displayName as ontology,\n",
    "  di.url as url\n",
    "\"\"\""
   ]
  },
  {
   "cell_type": "code",
   "execution_count": null,
   "id": "amino-contribution",
   "metadata": {},
   "outputs": [],
   "source": [
    "\"\"\"\n",
    "// this query will extract protein-protein interactions, including confidence scores, for pairs of uniprot proteins\n",
    "// each member of an interaction will be present as a separate row sharing a common edge_id\n",
    "MATCH (st:Interaction)-[r:interactor]->(en:ReferenceGeneProduct)-[s:species]->(spec:Species)\n",
    "WHERE spec.displayName = \"Homo sapiens\"\n",
    "RETURN\n",
    "  st.displayName as interaction_id,\n",
    "  st.score as interaction_score,\n",
    "  st.url as interaction_url,\n",
    "  st.schemaClass as interaction_type,\n",
    "  en.identifier as identifier,\n",
    "  en.databaseName as ontology\n",
    "\"\"\""
   ]
  },
  {
   "cell_type": "code",
   "execution_count": null,
   "id": "through-chapter",
   "metadata": {},
   "outputs": [],
   "source": []
  }
 ],
 "metadata": {
  "kernelspec": {
   "display_name": "CPR Tutorials",
   "language": "python",
   "name": "cpr_tutorials"
  },
  "language_info": {
   "codemirror_mode": {
    "name": "ipython",
    "version": 3
   },
   "file_extension": ".py",
   "mimetype": "text/x-python",
   "name": "python",
   "nbconvert_exporter": "python",
   "pygments_lexer": "ipython3",
   "version": "3.9.7"
  }
 },
 "nbformat": 4,
 "nbformat_minor": 5
}
