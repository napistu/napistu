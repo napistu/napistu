{
 "cells": [
  {
   "cell_type": "code",
   "execution_count": 4,
   "metadata": {},
   "outputs": [],
   "source": [
    "# Install the package in development mode if needed\n",
    "# !pip install -e '.[mcp]'\n",
    "\n",
    "import asyncio\n",
    "import os\n",
    "import sys\n",
    "import logging\n",
    "from pathlib import Path\n",
    "import json\n",
    "\n",
    "# Import the MCP components\n",
    "from napistu.mcp.server import create_server, start_server\n",
    "from napistu.mcp import documentation, codebase, tutorials, execution\n",
    "\n",
    "# Set up logging\n",
    "logging.basicConfig(level=logging.INFO)\n",
    "logger = logging.getLogger(\"napistu\")\n",
    "\n",
    "# Helper function to run async code in Jupyter\n",
    "async def run_async(coro):\n",
    "    return await coro\n",
    "\n",
    "# Create a dummy session context for execution components\n",
    "session_context = {}\n",
    "object_registry = {}"
   ]
  },
  {
   "cell_type": "code",
   "execution_count": 5,
   "metadata": {},
   "outputs": [],
   "source": [
    "from napistu.mcp.profiles import get_profile\n",
    "# define the types of assets to load\n",
    "profile = get_profile(\"full\")"
   ]
  },
  {
   "cell_type": "code",
   "execution_count": 6,
   "metadata": {},
   "outputs": [],
   "source": [
    "# register the relevant components\n",
    "mcp_server = create_server(profile)\n",
    "# initialize the relevant components\n",
    "live_server = start_server(mcp_server)"
   ]
  },
  {
   "cell_type": "code",
   "execution_count": 7,
   "metadata": {},
   "outputs": [],
   "source": [
    "from napistu.mcp import documentation_utils\n",
    "from napistu.mcp.documentation_utils import read_read_the_docs\n",
    "\n",
    "from napistu.mcp.constants import READMES\n",
    "from napistu.mcp.constants import NAPISTU_PY_READTHEDOCS_API"
   ]
  },
  {
   "cell_type": "code",
   "execution_count": null,
   "metadata": {},
   "outputs": [],
   "source": [
    "# readmes\n",
    "readme = await run_async(documentation_utils.load_readme_content(READMES[\"napistu\"]))\n",
    "readme\n"
   ]
  },
  {
   "cell_type": "code",
   "execution_count": null,
   "metadata": {},
   "outputs": [],
   "source": [
    "# read-the-docs module and function defs\n",
    "rtd_docs = await run_async(read_read_the_docs(package_toc_url = NAPISTU_PY_READTHEDOCS_API))\n",
    "rtd_docs\n"
   ]
  },
  {
   "cell_type": "code",
   "execution_count": 8,
   "metadata": {},
   "outputs": [],
   "source": [
    "# github wiki\n",
    "\n",
    "from napistu.mcp.github import list_wiki_pages\n",
    "from napistu.constants import PACKAGE_DEFS"
   ]
  },
  {
   "cell_type": "code",
   "execution_count": 10,
   "metadata": {},
   "outputs": [
    {
     "name": "stdout",
     "output_type": "stream",
     "text": [
      "Using token from environment variable GITHUB_TOKEN\n"
     ]
    },
    {
     "name": "stderr",
     "output_type": "stream",
     "text": [
      "INFO:httpx:HTTP Request: GET https://api.github.com/repos/napistu/napistu.wiki/contents/ \"HTTP/1.1 404 Not Found\"\n"
     ]
    },
    {
     "ename": "HTTPStatusError",
     "evalue": "Client error '404 Not Found' for url 'https://api.github.com/repos/napistu/napistu.wiki/contents/'\nFor more information check: https://developer.mozilla.org/en-US/docs/Web/HTTP/Status/404",
     "output_type": "error",
     "traceback": [
      "\u001b[31m---------------------------------------------------------------------------\u001b[39m",
      "\u001b[31mHTTPStatusError\u001b[39m                           Traceback (most recent call last)",
      "\u001b[36mCell\u001b[39m\u001b[36m \u001b[39m\u001b[32mIn[10]\u001b[39m\u001b[32m, line 1\u001b[39m\n\u001b[32m----> \u001b[39m\u001b[32m1\u001b[39m wiki_pages = \u001b[38;5;28;01mawait\u001b[39;00m run_async(list_wiki_pages(repo = PACKAGE_DEFS.GITHUB_PROJECT_REPO))\n",
      "\u001b[36mCell\u001b[39m\u001b[36m \u001b[39m\u001b[32mIn[4]\u001b[39m\u001b[32m, line 21\u001b[39m, in \u001b[36mrun_async\u001b[39m\u001b[34m(coro)\u001b[39m\n\u001b[32m     20\u001b[39m \u001b[38;5;28;01masync\u001b[39;00m \u001b[38;5;28;01mdef\u001b[39;00m\u001b[38;5;250m \u001b[39m\u001b[34mrun_async\u001b[39m(coro):\n\u001b[32m---> \u001b[39m\u001b[32m21\u001b[39m     \u001b[38;5;28;01mreturn\u001b[39;00m \u001b[38;5;28;01mawait\u001b[39;00m coro\n",
      "\u001b[36mFile \u001b[39m\u001b[32m~/Desktop/GITHUB/napistu/tutorials/.venv/lib/python3.11/site-packages/napistu/mcp/github.py:31\u001b[39m, in \u001b[36mlist_wiki_pages\u001b[39m\u001b[34m(repo, owner, github_api)\u001b[39m\n\u001b[32m     29\u001b[39m \u001b[38;5;28;01masync\u001b[39;00m \u001b[38;5;28;01mwith\u001b[39;00m httpx.AsyncClient(headers=_get_github_headers()) \u001b[38;5;28;01mas\u001b[39;00m client:\n\u001b[32m     30\u001b[39m     resp = \u001b[38;5;28;01mawait\u001b[39;00m client.get(url)\n\u001b[32m---> \u001b[39m\u001b[32m31\u001b[39m     \u001b[43mresp\u001b[49m\u001b[43m.\u001b[49m\u001b[43mraise_for_status\u001b[49m\u001b[43m(\u001b[49m\u001b[43m)\u001b[49m\n\u001b[32m     32\u001b[39m     \u001b[38;5;28;01mreturn\u001b[39;00m [item[\u001b[33m\"\u001b[39m\u001b[33mname\u001b[39m\u001b[33m\"\u001b[39m] \u001b[38;5;28;01mfor\u001b[39;00m item \u001b[38;5;129;01min\u001b[39;00m resp.json() \u001b[38;5;28;01mif\u001b[39;00m item[\u001b[33m\"\u001b[39m\u001b[33mname\u001b[39m\u001b[33m\"\u001b[39m].endswith(\u001b[33m\"\u001b[39m\u001b[33m.md\u001b[39m\u001b[33m\"\u001b[39m)]\n",
      "\u001b[36mFile \u001b[39m\u001b[32m~/Desktop/GITHUB/napistu/tutorials/.venv/lib/python3.11/site-packages/httpx/_models.py:829\u001b[39m, in \u001b[36mResponse.raise_for_status\u001b[39m\u001b[34m(self)\u001b[39m\n\u001b[32m    827\u001b[39m error_type = error_types.get(status_class, \u001b[33m\"\u001b[39m\u001b[33mInvalid status code\u001b[39m\u001b[33m\"\u001b[39m)\n\u001b[32m    828\u001b[39m message = message.format(\u001b[38;5;28mself\u001b[39m, error_type=error_type)\n\u001b[32m--> \u001b[39m\u001b[32m829\u001b[39m \u001b[38;5;28;01mraise\u001b[39;00m HTTPStatusError(message, request=request, response=\u001b[38;5;28mself\u001b[39m)\n",
      "\u001b[31mHTTPStatusError\u001b[39m: Client error '404 Not Found' for url 'https://api.github.com/repos/napistu/napistu.wiki/contents/'\nFor more information check: https://developer.mozilla.org/en-US/docs/Web/HTTP/Status/404"
     ]
    }
   ],
   "source": [
    "wiki_pages = await run_async(list_wiki_pages(repo = PACKAGE_DEFS.GITHUB_PROJECT_REPO))"
   ]
  },
  {
   "cell_type": "code",
   "execution_count": 11,
   "metadata": {},
   "outputs": [],
   "source": [
    "# github issues and PRs\n",
    "\n",
    "from napistu.mcp.github import list_issues\n",
    "from napistu.mcp.github import list_pull_requests\n",
    "from napistu.mcp.github import get_issue"
   ]
  },
  {
   "cell_type": "code",
   "execution_count": null,
   "metadata": {},
   "outputs": [
    {
     "name": "stdout",
     "output_type": "stream",
     "text": [
      "Using token from environment variable GITHUB_TOKEN\n"
     ]
    },
    {
     "name": "stderr",
     "output_type": "stream",
     "text": [
      "INFO:httpx:HTTP Request: GET https://api.github.com/repos/napistu/napistu/issues?state=all \"HTTP/1.1 200 OK\"\n"
     ]
    },
    {
     "name": "stdout",
     "output_type": "stream",
     "text": [
      "Using token from environment variable GITHUB_TOKEN\n"
     ]
    },
    {
     "name": "stderr",
     "output_type": "stream",
     "text": [
      "INFO:httpx:HTTP Request: GET https://api.github.com/repos/napistu/napistu/pulls?state=all \"HTTP/1.1 200 OK\"\n"
     ]
    }
   ],
   "source": [
    "GITHUB_ISSUES_INDEXED = \"all\"\n",
    "GITHUB_PRS_INDEXED = \"all\"\n",
    "\n",
    "# load issues (already includes the body)\n",
    "issue_list = await run_async(list_issues(PACKAGE_DEFS.GITHUB_PROJECT_REPO, state = GITHUB_ISSUES_INDEXED))\n",
    "\n",
    "# load PRs\n",
    "prs_list = await run_async(list_pull_requests(PACKAGE_DEFS.GITHUB_PROJECT_REPO, state = GITHUB_PRS_INDEXED))\n",
    "\n",
    "# there is probably no reason to use this since this info is captured in the lists\n",
    "prs_list = await run_async(get_issue(PACKAGE_DEFS.GITHUB_PROJECT_REPO, number = 11))\n",
    "\n"
   ]
  }
 ],
 "metadata": {
  "kernelspec": {
   "display_name": ".venv",
   "language": "python",
   "name": "python3"
  },
  "language_info": {
   "codemirror_mode": {
    "name": "ipython",
    "version": 3
   },
   "file_extension": ".py",
   "mimetype": "text/x-python",
   "name": "python",
   "nbconvert_exporter": "python",
   "pygments_lexer": "ipython3",
   "version": "3.11.11"
  }
 },
 "nbformat": 4,
 "nbformat_minor": 2
}
