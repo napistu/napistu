{
  "cells": [
    {
      "cell_type": "markdown",
      "metadata": {},
      "source": [
        "# Tutorial - Formatting an sbml_dfs as a cpr_graph\"\n",
        "\n",
        "`sbml_dfs` objects are stand-alone representations of pathways but they need to be formatted as a `cpr_graph` object if we want to use them as a network. Doing this will allow us to translate a range of biological questions into network operations - see **suggesting_mechanisms_with_networks.qmd**.\n",
        "\n",
        "Here, we will go through the process of translating pathways into graphs and how to precompute distances between molecular species (to speed up search). Its at this stage that we can also add high-dimensional data to our graph but that is discussed as a separate vignette - **adding_data_to_graphs.qmd**."
      ]
    },
    {
      "cell_type": "code",
      "execution_count": 1,
      "metadata": {},
      "outputs": [],
      "source": [
        "#| label: config\n",
        "import logging\n",
        "logger = logging.getLogger()\n",
        "logger.setLevel(\"INFO\")\n",
        "\n",
        "from napistu import utils\n",
        "\n",
        "from napistu.network import net_create\n",
        "from napistu.network import precompute\n",
        "\n",
        "import tutorial_utils\n",
        "config = tutorial_utils.NapistuConfig(\"config.yaml\", \"formatting_sbml_dfs_as_cpr_graphs\")"
      ]
    },
    {
      "cell_type": "markdown",
      "metadata": {},
      "source": [
        "## Load an `sbml_dfs` pathway representation\n",
        "\n",
        "A `sbml_dfs`, further described in the `understanding_sbml_dfs.qmd` vignette, is a stand-alone representation of a pathway. Here, we load a pickled `sbml_dfs` object that we will use to create a `cpr_graph`. The model here was created from a few metabolic pathways from Reactome merged into a consensus model."
      ]
    },
    {
      "cell_type": "code",
      "execution_count": 2,
      "metadata": {},
      "outputs": [
        {
          "ename": "ModuleNotFoundError",
          "evalue": "No module named 'cpr'",
          "output_type": "error",
          "traceback": [
            "\u001b[31m---------------------------------------------------------------------------\u001b[39m",
            "\u001b[31mModuleNotFoundError\u001b[39m                       Traceback (most recent call last)",
            "\u001b[36mCell\u001b[39m\u001b[36m \u001b[39m\u001b[32mIn[2]\u001b[39m\u001b[32m, line 5\u001b[39m\n\u001b[32m      2\u001b[39m \u001b[38;5;28;01mfrom\u001b[39;00m\u001b[38;5;250m \u001b[39m\u001b[34;01mnapistu\u001b[39;00m\u001b[38;5;250m \u001b[39m\u001b[38;5;28;01mimport\u001b[39;00m utils\n\u001b[32m      4\u001b[39m sbml_dfs_path = config.load_asset(\u001b[33m\"\u001b[39m\u001b[33mtest_pathway\u001b[39m\u001b[33m\"\u001b[39m, \u001b[33m\"\u001b[39m\u001b[33msbml_dfs\u001b[39m\u001b[33m\"\u001b[39m)\n\u001b[32m----> \u001b[39m\u001b[32m5\u001b[39m sbml_dfs = \u001b[43mutils\u001b[49m\u001b[43m.\u001b[49m\u001b[43mload_pickle\u001b[49m\u001b[43m(\u001b[49m\u001b[43msbml_dfs_path\u001b[49m\u001b[43m)\u001b[49m\n",
            "\u001b[36mFile \u001b[39m\u001b[32m~/Desktop/GITHUB/napistu/tutorials/.venv/lib/python3.11/site-packages/napistu/utils.py:451\u001b[39m, in \u001b[36mload_pickle\u001b[39m\u001b[34m(path)\u001b[39m\n\u001b[32m    449\u001b[39m \u001b[38;5;28;01mtry\u001b[39;00m:\n\u001b[32m    450\u001b[39m     \u001b[38;5;28;01mwith\u001b[39;00m source_fs.open(file, \u001b[33m\"\u001b[39m\u001b[33mrb\u001b[39m\u001b[33m\"\u001b[39m) \u001b[38;5;28;01mas\u001b[39;00m f:\n\u001b[32m--> \u001b[39m\u001b[32m451\u001b[39m         \u001b[38;5;28;01mreturn\u001b[39;00m \u001b[43mpickle\u001b[49m\u001b[43m.\u001b[49m\u001b[43mload\u001b[49m\u001b[43m(\u001b[49m\u001b[43mf\u001b[49m\u001b[43m)\u001b[49m\n\u001b[32m    452\u001b[39m \u001b[38;5;28;01mexcept\u001b[39;00m ResourceNotFound \u001b[38;5;28;01mas\u001b[39;00m e:\n\u001b[32m    453\u001b[39m     \u001b[38;5;28;01mif\u001b[39;00m \u001b[38;5;28mhasattr\u001b[39m(source_fs, \u001b[33m\"\u001b[39m\u001b[33mfix_storage\u001b[39m\u001b[33m\"\u001b[39m):\n",
            "\u001b[31mModuleNotFoundError\u001b[39m: No module named 'cpr'"
          ]
        }
      ],
      "source": [
        "#| label: load_data\n",
        "from napistu import utils\n",
        "\n",
        "sbml_dfs_path = config.load_asset(\"test_pathway\", \"sbml_dfs\")\n",
        "sbml_dfs = utils.load_pickle(sbml_dfs_path)"
      ]
    },
    {
      "cell_type": "markdown",
      "metadata": {},
      "source": [
        "## Create a Network\n",
        "\n",
        "CPR's strategy for translating an `sbml_dfs` object into a graph is thoroughly described in the  [CPR Wiki - CPR Graphs](https://github.com/calico/Open-CPR/wiki/CPR-Graphs). Briefly, we can create a graph using a single function `process_cpr_graph` which creates and weights the network or we can divide these calls up by `igraph_network` and `add_graph_weights`.\n",
        "\n",
        "Here, we will create a network using the `regulatory` graph specification which places an appropriate hierarchy over molecules participating in the same reaction so for instance an enzyme will be upstream of its substrate (since the enzyme regulates the substrate not the other way around). We'll also create a directed graph since the `sbml_dfs` pertains to a metabolic pathway where directionality can be appropriately inferred from reaction stoichiometry."
      ]
    },
    {
      "cell_type": "code",
      "execution_count": null,
      "metadata": {},
      "outputs": [],
      "source": [
        "#| label: sbml_dfs_to_cpr\n",
        "cpr_graph = net_create.process_cpr_graph(\n",
        "  sbml_dfs,\n",
        "  graph_type = \"regulatory\",\n",
        "  directed = True\n",
        ")"
      ]
    },
    {
      "cell_type": "markdown",
      "metadata": {},
      "source": [
        "## Inspecting the Network\n",
        "\n",
        "The `cpr_graph` is really just an `igraph` `Graph` object with some specific vertex and edge attributes. Let's take a look at the vertices and edges. To make this easier we'll do this in a tabular format."
      ]
    },
    {
      "cell_type": "code",
      "execution_count": null,
      "metadata": {},
      "outputs": [],
      "source": [
        "#| label: graph_to_dfs\n",
        "\n",
        "from napistu.network import net_utils\n",
        "vertices, edges = net_utils.cpr_graph_to_pandas_dfs(cpr_graph)"
      ]
    },
    {
      "cell_type": "markdown",
      "metadata": {},
      "source": [
        "### Vertices: Genes, Metabolites, Reactions, ..."
      ]
    },
    {
      "cell_type": "code",
      "execution_count": null,
      "metadata": {},
      "outputs": [],
      "source": [
        "#| label: vertices\n",
        "utils.style_df(vertices.head())"
      ]
    },
    {
      "cell_type": "markdown",
      "metadata": {},
      "source": [
        "### Edges: Linking Pairs of Vertices"
      ]
    },
    {
      "cell_type": "code",
      "execution_count": null,
      "metadata": {},
      "outputs": [],
      "source": [
        "#| label: edges\n",
        "utils.style_df(vertices.head())"
      ]
    },
    {
      "cell_type": "markdown",
      "metadata": {},
      "source": [
        "### Network Visualization\n",
        "\n",
        "The network visualization methods in CPR are better built-out on the R side. But for quick-and-dirty network visualization we can use the standard igraph visualization functions and some plotting wrappers within CPR."
      ]
    },
    {
      "cell_type": "code",
      "execution_count": null,
      "metadata": {},
      "outputs": [],
      "source": [
        "from napistu.network import neighborhoods\n",
        "\n",
        "neighborhoods.plot_neighborhood(\n",
        "    net_utils.filter_to_largest_subgraph(cpr_graph),\n",
        "    name_nodes = True,\n",
        "    plot_size = 2000,\n",
        "    network_layout = \"kk\" \n",
        ")"
      ]
    },
    {
      "cell_type": "markdown",
      "metadata": {},
      "source": [
        "## Precompute Distances\n",
        "\n",
        "Some network operations can be sped up by precomputing distances between nodes. This is particularly useful for shortest path algorithms. Here we precompute the shortest path distances and weighted shortest paths (if weights are present) between all pairs of nodes in the graph."
      ]
    },
    {
      "cell_type": "code",
      "execution_count": null,
      "metadata": {},
      "outputs": [],
      "source": [
        "#| label: precomputed_distances\n",
        "distances = precompute.precompute_distances(cpr_graph)\n",
        "\n",
        "utils.style_df(distances.head(5))"
      ]
    },
    {
      "cell_type": "markdown",
      "metadata": {},
      "source": [
        "As a quick look into this output we can create a table of the # of steps to progress from source to destination vertices."
      ]
    },
    {
      "cell_type": "code",
      "execution_count": null,
      "metadata": {},
      "outputs": [],
      "source": [
        "#| label: plot_precomputed_distance\n",
        "import numpy as np \n",
        "from pandas import DataFrame\n",
        "import seaborn as sns\n",
        "\n",
        "df = distances.pivot(index='sc_id_origin', columns='sc_id_dest', values='path_length')\n",
        "sns.heatmap(df, annot=False)"
      ]
    }
  ],
  "metadata": {
    "kernelspec": {
      "display_name": ".venv",
      "language": "python",
      "name": "python3"
    },
    "language_info": {
      "codemirror_mode": {
        "name": "ipython",
        "version": 3
      },
      "file_extension": ".py",
      "mimetype": "text/x-python",
      "name": "python",
      "nbconvert_exporter": "python",
      "pygments_lexer": "ipython3",
      "version": "3.11.11"
    }
  },
  "nbformat": 4,
  "nbformat_minor": 4
}
