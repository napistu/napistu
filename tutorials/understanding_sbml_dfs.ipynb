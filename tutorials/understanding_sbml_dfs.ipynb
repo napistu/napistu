{
  "cells": [
    {
      "cell_type": "markdown",
      "metadata": {},
      "source": [
        "---\n",
        "title: \"Tutorial - Understanding the SBML DFs Pathway Format\"\n",
        "author: \"Shackett\"\n",
        "date: \"May 9th 2025\"\n",
        "---"
      ]
    },
    {
      "cell_type": "code",
      "execution_count": 2,
      "metadata": {},
      "outputs": [],
      "source": [
        "#| label: config\n",
        "\n",
        "import logging\n",
        "import os\n",
        "\n",
        "import pandas as pd\n",
        "\n",
        "from napistu import utils\n",
        "\n",
        "import tutorial_utils\n",
        "\n",
        "logger = logging.getLogger()\n",
        "logger.setLevel(\"INFO\")\n",
        "\n",
        "config = tutorial_utils.NapistuConfig(\"config.yaml\", \"understanding_sbml_dfs\")\n",
        "_ = config.load_asset(\"test_pathway\", \"sbml_dfs\")"
      ]
    },
    {
      "cell_type": "markdown",
      "metadata": {},
      "source": [
        "# Overview\n",
        "\n",
        "This tutorial aims to cover:\n",
        "- What is the `SBML_dfs` format?\n",
        "- How are `SBML_dfs` created?\n",
        "- How can they be modified?\n",
        "\n",
        "# Basic Structure\n",
        "\n",
        "The [cpr wiki: sbml_dfs](https://github.com/calico/Open-CPR/wiki/SBML-DFs) provides a detailed overview of the `SBML_dfs` data structure. Here, we'll complement that description by showing the attributes of an actual pathway. To get up-and-running quickly we'll just load an existing `SBML_dfs` object constructed from merging multiple metabolic pathways into a consensus pathway."
      ]
    },
    {
      "cell_type": "code",
      "execution_count": 3,
      "metadata": {},
      "outputs": [],
      "source": [
        "#| label: load_data\n",
        "sbml_dfs = utils.load_pickle(config.artifacts[\"sbml_dfs\"])"
      ]
    },
    {
      "cell_type": "markdown",
      "metadata": {},
      "source": [
        "## Compartments"
      ]
    },
    {
      "cell_type": "code",
      "execution_count": 4,
      "metadata": {},
      "outputs": [
        {
          "data": {
            "text/html": [
              "<style type=\"text/css\">\n",
              "#T_9a636 th {\n",
              "  color: limegreen;\n",
              "}\n",
              "</style>\n",
              "<table id=\"T_9a636\">\n",
              "  <thead>\n",
              "    <tr>\n",
              "      <th class=\"blank level0\" >&nbsp;</th>\n",
              "      <th id=\"T_9a636_level0_col0\" class=\"col_heading level0 col0\" >c_name</th>\n",
              "      <th id=\"T_9a636_level0_col1\" class=\"col_heading level0 col1\" >c_Identifiers</th>\n",
              "      <th id=\"T_9a636_level0_col2\" class=\"col_heading level0 col2\" >c_Source</th>\n",
              "    </tr>\n",
              "    <tr>\n",
              "      <th class=\"index_name level0\" >c_id</th>\n",
              "      <th class=\"blank col0\" >&nbsp;</th>\n",
              "      <th class=\"blank col1\" >&nbsp;</th>\n",
              "      <th class=\"blank col2\" >&nbsp;</th>\n",
              "    </tr>\n",
              "  </thead>\n",
              "  <tbody>\n",
              "    <tr>\n",
              "      <th id=\"T_9a636_level0_row0\" class=\"row_heading level0 row0\" >C00000000</th>\n",
              "      <td id=\"T_9a636_row0_col0\" class=\"data row0 col0\" >mitochondrial matrix</td>\n",
              "      <td id=\"T_9a636_row0_col1\" class=\"data row0 col1\" ><napistu.identifiers.Identifiers object at 0x1583b5310></td>\n",
              "      <td id=\"T_9a636_row0_col2\" class=\"data row0 col2\" ><napistu.source.Source object at 0x1583b6210></td>\n",
              "    </tr>\n",
              "    <tr>\n",
              "      <th id=\"T_9a636_level0_row1\" class=\"row_heading level0 row1\" >C00000001</th>\n",
              "      <td id=\"T_9a636_row1_col0\" class=\"data row1 col0\" >mitochondrial inner membrane</td>\n",
              "      <td id=\"T_9a636_row1_col1\" class=\"data row1 col1\" ><napistu.identifiers.Identifiers object at 0x1583b5450></td>\n",
              "      <td id=\"T_9a636_row1_col2\" class=\"data row1 col2\" ><napistu.source.Source object at 0x1583b6c50></td>\n",
              "    </tr>\n",
              "    <tr>\n",
              "      <th id=\"T_9a636_level0_row2\" class=\"row_heading level0 row2\" >C00000002</th>\n",
              "      <td id=\"T_9a636_row2_col0\" class=\"data row2 col0\" >cytosol</td>\n",
              "      <td id=\"T_9a636_row2_col1\" class=\"data row2 col1\" ><napistu.identifiers.Identifiers object at 0x1583b55d0></td>\n",
              "      <td id=\"T_9a636_row2_col2\" class=\"data row2 col2\" ><napistu.source.Source object at 0x1583b7790></td>\n",
              "    </tr>\n",
              "    <tr>\n",
              "      <th id=\"T_9a636_level0_row3\" class=\"row_heading level0 row3\" >C00000003</th>\n",
              "      <td id=\"T_9a636_row3_col0\" class=\"data row3 col0\" >mitochondrion</td>\n",
              "      <td id=\"T_9a636_row3_col1\" class=\"data row3 col1\" ><napistu.identifiers.Identifiers object at 0x1583b5750></td>\n",
              "      <td id=\"T_9a636_row3_col2\" class=\"data row3 col2\" ><napistu.source.Source object at 0x1583c0290></td>\n",
              "    </tr>\n",
              "    <tr>\n",
              "      <th id=\"T_9a636_level0_row4\" class=\"row_heading level0 row4\" >C00000004</th>\n",
              "      <td id=\"T_9a636_row4_col0\" class=\"data row4 col0\" >endoplasmic reticulum membrane</td>\n",
              "      <td id=\"T_9a636_row4_col1\" class=\"data row4 col1\" ><napistu.identifiers.Identifiers object at 0x1583b58d0></td>\n",
              "      <td id=\"T_9a636_row4_col2\" class=\"data row4 col2\" ><napistu.source.Source object at 0x1583c0d90></td>\n",
              "    </tr>\n",
              "    <tr>\n",
              "      <th id=\"T_9a636_level0_row5\" class=\"row_heading level0 row5\" >C00000005</th>\n",
              "      <td id=\"T_9a636_row5_col0\" class=\"data row5 col0\" >nucleoplasm</td>\n",
              "      <td id=\"T_9a636_row5_col1\" class=\"data row5 col1\" ><napistu.identifiers.Identifiers object at 0x1583b5a50></td>\n",
              "      <td id=\"T_9a636_row5_col2\" class=\"data row5 col2\" ><napistu.source.Source object at 0x1583c18d0></td>\n",
              "    </tr>\n",
              "    <tr>\n",
              "      <th id=\"T_9a636_level0_row6\" class=\"row_heading level0 row6\" >C00000006</th>\n",
              "      <td id=\"T_9a636_row6_col0\" class=\"data row6 col0\" >nuclear envelope</td>\n",
              "      <td id=\"T_9a636_row6_col1\" class=\"data row6 col1\" ><napistu.identifiers.Identifiers object at 0x1583b5bd0></td>\n",
              "      <td id=\"T_9a636_row6_col2\" class=\"data row6 col2\" ><napistu.source.Source object at 0x1583c24d0></td>\n",
              "    </tr>\n",
              "    <tr>\n",
              "      <th id=\"T_9a636_level0_row7\" class=\"row_heading level0 row7\" >C00000007</th>\n",
              "      <td id=\"T_9a636_row7_col0\" class=\"data row7 col0\" >endoplasmic reticulum lumen</td>\n",
              "      <td id=\"T_9a636_row7_col1\" class=\"data row7 col1\" ><napistu.identifiers.Identifiers object at 0x1583b5d50></td>\n",
              "      <td id=\"T_9a636_row7_col2\" class=\"data row7 col2\" ><napistu.source.Source object at 0x1583c2f50></td>\n",
              "    </tr>\n",
              "    <tr>\n",
              "      <th id=\"T_9a636_level0_row8\" class=\"row_heading level0 row8\" >C00000008</th>\n",
              "      <td id=\"T_9a636_row8_col0\" class=\"data row8 col0\" >extracellular region</td>\n",
              "      <td id=\"T_9a636_row8_col1\" class=\"data row8 col1\" ><napistu.identifiers.Identifiers object at 0x1583b5ed0></td>\n",
              "      <td id=\"T_9a636_row8_col2\" class=\"data row8 col2\" ><napistu.source.Source object at 0x1583c3a50></td>\n",
              "    </tr>\n",
              "  </tbody>\n",
              "</table>\n"
            ],
            "text/plain": [
              "<pandas.io.formats.style.Styler at 0x1581e9210>"
            ]
          },
          "execution_count": 4,
          "metadata": {},
          "output_type": "execute_result"
        }
      ],
      "source": [
        "#| label: compartments\n",
        "utils.style_df(sbml_dfs.compartments)"
      ]
    },
    {
      "cell_type": "markdown",
      "metadata": {},
      "source": [
        "## Chemical Species (genes, metabolites, complexes, drugs)"
      ]
    },
    {
      "cell_type": "code",
      "execution_count": 5,
      "metadata": {},
      "outputs": [
        {
          "data": {
            "text/html": [
              "<style type=\"text/css\">\n",
              "#T_bfe35 th {\n",
              "  color: limegreen;\n",
              "}\n",
              "</style>\n",
              "<table id=\"T_bfe35\">\n",
              "  <thead>\n",
              "    <tr>\n",
              "      <th class=\"blank level0\" >&nbsp;</th>\n",
              "      <th id=\"T_bfe35_level0_col0\" class=\"col_heading level0 col0\" >s_name</th>\n",
              "      <th id=\"T_bfe35_level0_col1\" class=\"col_heading level0 col1\" >s_Identifiers</th>\n",
              "      <th id=\"T_bfe35_level0_col2\" class=\"col_heading level0 col2\" >s_Source</th>\n",
              "    </tr>\n",
              "    <tr>\n",
              "      <th class=\"index_name level0\" >s_id</th>\n",
              "      <th class=\"blank col0\" >&nbsp;</th>\n",
              "      <th class=\"blank col1\" >&nbsp;</th>\n",
              "      <th class=\"blank col2\" >&nbsp;</th>\n",
              "    </tr>\n",
              "  </thead>\n",
              "  <tbody>\n",
              "    <tr>\n",
              "      <th id=\"T_bfe35_level0_row0\" class=\"row_heading level0 row0\" >S00000000</th>\n",
              "      <td id=\"T_bfe35_row0_col0\" class=\"data row0 col0\" >MDH2 dimer</td>\n",
              "      <td id=\"T_bfe35_row0_col1\" class=\"data row0 col1\" ><napistu.identifiers.Identifiers object at 0x1583cab50></td>\n",
              "      <td id=\"T_bfe35_row0_col2\" class=\"data row0 col2\" ><napistu.source.Source object at 0x1584415d0></td>\n",
              "    </tr>\n",
              "    <tr>\n",
              "      <th id=\"T_bfe35_level0_row1\" class=\"row_heading level0 row1\" >S00000001</th>\n",
              "      <td id=\"T_bfe35_row1_col0\" class=\"data row1 col0\" >NAD+</td>\n",
              "      <td id=\"T_bfe35_row1_col1\" class=\"data row1 col1\" ><napistu.identifiers.Identifiers object at 0x1583cb390></td>\n",
              "      <td id=\"T_bfe35_row1_col2\" class=\"data row1 col2\" ><napistu.source.Source object at 0x158442090></td>\n",
              "    </tr>\n",
              "    <tr>\n",
              "      <th id=\"T_bfe35_level0_row2\" class=\"row_heading level0 row2\" >S00000002</th>\n",
              "      <td id=\"T_bfe35_row2_col0\" class=\"data row2 col0\" >MAL</td>\n",
              "      <td id=\"T_bfe35_row2_col1\" class=\"data row2 col1\" ><napistu.identifiers.Identifiers object at 0x1583cb690></td>\n",
              "      <td id=\"T_bfe35_row2_col2\" class=\"data row2 col2\" ><napistu.source.Source object at 0x158442c50></td>\n",
              "    </tr>\n",
              "    <tr>\n",
              "      <th id=\"T_bfe35_level0_row3\" class=\"row_heading level0 row3\" >S00000003</th>\n",
              "      <td id=\"T_bfe35_row3_col0\" class=\"data row3 col0\" >OAA</td>\n",
              "      <td id=\"T_bfe35_row3_col1\" class=\"data row3 col1\" ><napistu.identifiers.Identifiers object at 0x1583cb950></td>\n",
              "      <td id=\"T_bfe35_row3_col2\" class=\"data row3 col2\" ><napistu.source.Source object at 0x158443910></td>\n",
              "    </tr>\n",
              "    <tr>\n",
              "      <th id=\"T_bfe35_level0_row4\" class=\"row_heading level0 row4\" >S00000004</th>\n",
              "      <td id=\"T_bfe35_row4_col0\" class=\"data row4 col0\" >NADH</td>\n",
              "      <td id=\"T_bfe35_row4_col1\" class=\"data row4 col1\" ><napistu.identifiers.Identifiers object at 0x1583cbc10></td>\n",
              "      <td id=\"T_bfe35_row4_col2\" class=\"data row4 col2\" ><napistu.source.Source object at 0x15844c410></td>\n",
              "    </tr>\n",
              "  </tbody>\n",
              "</table>\n"
            ],
            "text/plain": [
              "<pandas.io.formats.style.Styler at 0x1582f0750>"
            ]
          },
          "execution_count": 5,
          "metadata": {},
          "output_type": "execute_result"
        }
      ],
      "source": [
        "#| label: species\n",
        "utils.style_df(sbml_dfs.species.head())"
      ]
    },
    {
      "cell_type": "markdown",
      "metadata": {},
      "source": [
        "## Compartmentalized Species (species in a compartment)"
      ]
    },
    {
      "cell_type": "code",
      "execution_count": 6,
      "metadata": {},
      "outputs": [
        {
          "data": {
            "text/html": [
              "<style type=\"text/css\">\n",
              "#T_362cb th {\n",
              "  color: limegreen;\n",
              "}\n",
              "</style>\n",
              "<table id=\"T_362cb\">\n",
              "  <thead>\n",
              "    <tr>\n",
              "      <th class=\"blank level0\" >&nbsp;</th>\n",
              "      <th id=\"T_362cb_level0_col0\" class=\"col_heading level0 col0\" >sc_name</th>\n",
              "      <th id=\"T_362cb_level0_col1\" class=\"col_heading level0 col1\" >s_id</th>\n",
              "      <th id=\"T_362cb_level0_col2\" class=\"col_heading level0 col2\" >c_id</th>\n",
              "      <th id=\"T_362cb_level0_col3\" class=\"col_heading level0 col3\" >sc_Source</th>\n",
              "    </tr>\n",
              "    <tr>\n",
              "      <th class=\"index_name level0\" >sc_id</th>\n",
              "      <th class=\"blank col0\" >&nbsp;</th>\n",
              "      <th class=\"blank col1\" >&nbsp;</th>\n",
              "      <th class=\"blank col2\" >&nbsp;</th>\n",
              "      <th class=\"blank col3\" >&nbsp;</th>\n",
              "    </tr>\n",
              "  </thead>\n",
              "  <tbody>\n",
              "    <tr>\n",
              "      <th id=\"T_362cb_level0_row0\" class=\"row_heading level0 row0\" >SC00000000</th>\n",
              "      <td id=\"T_362cb_row0_col0\" class=\"data row0 col0\" >MDH2 dimer [mitochondrial matrix]</td>\n",
              "      <td id=\"T_362cb_row0_col1\" class=\"data row0 col1\" >S00000000</td>\n",
              "      <td id=\"T_362cb_row0_col2\" class=\"data row0 col2\" >C00000000</td>\n",
              "      <td id=\"T_362cb_row0_col3\" class=\"data row0 col3\" ><napistu.source.Source object at 0x1582ce690></td>\n",
              "    </tr>\n",
              "    <tr>\n",
              "      <th id=\"T_362cb_level0_row1\" class=\"row_heading level0 row1\" >SC00000001</th>\n",
              "      <td id=\"T_362cb_row1_col0\" class=\"data row1 col0\" >NAD+ [mitochondrial matrix]</td>\n",
              "      <td id=\"T_362cb_row1_col1\" class=\"data row1 col1\" >S00000001</td>\n",
              "      <td id=\"T_362cb_row1_col2\" class=\"data row1 col2\" >C00000000</td>\n",
              "      <td id=\"T_362cb_row1_col3\" class=\"data row1 col3\" ><napistu.source.Source object at 0x1582cf110></td>\n",
              "    </tr>\n",
              "    <tr>\n",
              "      <th id=\"T_362cb_level0_row2\" class=\"row_heading level0 row2\" >SC00000002</th>\n",
              "      <td id=\"T_362cb_row2_col0\" class=\"data row2 col0\" >NAD+ [cytosol]</td>\n",
              "      <td id=\"T_362cb_row2_col1\" class=\"data row2 col1\" >S00000001</td>\n",
              "      <td id=\"T_362cb_row2_col2\" class=\"data row2 col2\" >C00000002</td>\n",
              "      <td id=\"T_362cb_row2_col3\" class=\"data row2 col3\" ><napistu.source.Source object at 0x1582cfe50></td>\n",
              "    </tr>\n",
              "    <tr>\n",
              "      <th id=\"T_362cb_level0_row3\" class=\"row_heading level0 row3\" >SC00000003</th>\n",
              "      <td id=\"T_362cb_row3_col0\" class=\"data row3 col0\" >MAL [mitochondrial matrix]</td>\n",
              "      <td id=\"T_362cb_row3_col1\" class=\"data row3 col1\" >S00000002</td>\n",
              "      <td id=\"T_362cb_row3_col2\" class=\"data row3 col2\" >C00000000</td>\n",
              "      <td id=\"T_362cb_row3_col3\" class=\"data row3 col3\" ><napistu.source.Source object at 0x1582d0910></td>\n",
              "    </tr>\n",
              "    <tr>\n",
              "      <th id=\"T_362cb_level0_row4\" class=\"row_heading level0 row4\" >SC00000004</th>\n",
              "      <td id=\"T_362cb_row4_col0\" class=\"data row4 col0\" >MAL [cytosol]</td>\n",
              "      <td id=\"T_362cb_row4_col1\" class=\"data row4 col1\" >S00000002</td>\n",
              "      <td id=\"T_362cb_row4_col2\" class=\"data row4 col2\" >C00000002</td>\n",
              "      <td id=\"T_362cb_row4_col3\" class=\"data row4 col3\" ><napistu.source.Source object at 0x1582d13d0></td>\n",
              "    </tr>\n",
              "  </tbody>\n",
              "</table>\n"
            ],
            "text/plain": [
              "<pandas.io.formats.style.Styler at 0x1582f9510>"
            ]
          },
          "execution_count": 6,
          "metadata": {},
          "output_type": "execute_result"
        }
      ],
      "source": [
        "#| label: cspecies\n",
        "utils.style_df(sbml_dfs.compartmentalized_species.head())"
      ]
    },
    {
      "cell_type": "markdown",
      "metadata": {},
      "source": [
        "## Reactions"
      ]
    },
    {
      "cell_type": "code",
      "execution_count": 7,
      "metadata": {},
      "outputs": [
        {
          "data": {
            "text/html": [
              "<style type=\"text/css\">\n",
              "#T_17f7d th {\n",
              "  color: limegreen;\n",
              "}\n",
              "</style>\n",
              "<table id=\"T_17f7d\">\n",
              "  <thead>\n",
              "    <tr>\n",
              "      <th class=\"blank level0\" >&nbsp;</th>\n",
              "      <th id=\"T_17f7d_level0_col0\" class=\"col_heading level0 col0\" >r_name</th>\n",
              "      <th id=\"T_17f7d_level0_col1\" class=\"col_heading level0 col1\" >r_Identifiers</th>\n",
              "      <th id=\"T_17f7d_level0_col2\" class=\"col_heading level0 col2\" >r_Source</th>\n",
              "      <th id=\"T_17f7d_level0_col3\" class=\"col_heading level0 col3\" >r_isreversible</th>\n",
              "    </tr>\n",
              "    <tr>\n",
              "      <th class=\"index_name level0\" >r_id</th>\n",
              "      <th class=\"blank col0\" >&nbsp;</th>\n",
              "      <th class=\"blank col1\" >&nbsp;</th>\n",
              "      <th class=\"blank col2\" >&nbsp;</th>\n",
              "      <th class=\"blank col3\" >&nbsp;</th>\n",
              "    </tr>\n",
              "  </thead>\n",
              "  <tbody>\n",
              "    <tr>\n",
              "      <th id=\"T_17f7d_level0_row0\" class=\"row_heading level0 row0\" >R00000000</th>\n",
              "      <td id=\"T_17f7d_row0_col0\" class=\"data row0 col0\" >(S)-Malate + NAD+ <=> Oxaloacetate + NADH + H+</td>\n",
              "      <td id=\"T_17f7d_row0_col1\" class=\"data row0 col1\" ><napistu.identifiers.Identifiers object at 0x1581c2150></td>\n",
              "      <td id=\"T_17f7d_row0_col2\" class=\"data row0 col2\" ><napistu.source.Source object at 0x158251f10></td>\n",
              "      <td id=\"T_17f7d_row0_col3\" class=\"data row0 col3\" >False</td>\n",
              "    </tr>\n",
              "    <tr>\n",
              "      <th id=\"T_17f7d_level0_row1\" class=\"row_heading level0 row1\" >R00000001</th>\n",
              "      <td id=\"T_17f7d_row1_col0\" class=\"data row1 col0\" >Oxaloacetate + NADH + H+ <=> (S)-Malate + NAD+</td>\n",
              "      <td id=\"T_17f7d_row1_col1\" class=\"data row1 col1\" ><napistu.identifiers.Identifiers object at 0x1581c2010></td>\n",
              "      <td id=\"T_17f7d_row1_col2\" class=\"data row1 col2\" ><napistu.source.Source object at 0x1581e41d0></td>\n",
              "      <td id=\"T_17f7d_row1_col3\" class=\"data row1 col3\" >False</td>\n",
              "    </tr>\n",
              "    <tr>\n",
              "      <th id=\"T_17f7d_level0_row2\" class=\"row_heading level0 row2\" >R00000002</th>\n",
              "      <td id=\"T_17f7d_row2_col0\" class=\"data row2 col0\" >ME2:Mg2+ tetramer oxidatively decarboxylates MAL to PYR</td>\n",
              "      <td id=\"T_17f7d_row2_col1\" class=\"data row2 col1\" ><napistu.identifiers.Identifiers object at 0x1581c2350></td>\n",
              "      <td id=\"T_17f7d_row2_col2\" class=\"data row2 col2\" ><napistu.source.Source object at 0x158253250></td>\n",
              "      <td id=\"T_17f7d_row2_col3\" class=\"data row2 col3\" >False</td>\n",
              "    </tr>\n",
              "    <tr>\n",
              "      <th id=\"T_17f7d_level0_row3\" class=\"row_heading level0 row3\" >R00000003</th>\n",
              "      <td id=\"T_17f7d_row3_col0\" class=\"data row3 col0\" >NADPH + NAD+ + H+ [cytosol] => NADP+ + NADH + H+ [mitochondrial matrix]</td>\n",
              "      <td id=\"T_17f7d_row3_col1\" class=\"data row3 col1\" ><napistu.identifiers.Identifiers object at 0x158184350></td>\n",
              "      <td id=\"T_17f7d_row3_col2\" class=\"data row3 col2\" ><napistu.source.Source object at 0x158253a50></td>\n",
              "      <td id=\"T_17f7d_row3_col3\" class=\"data row3 col3\" >False</td>\n",
              "    </tr>\n",
              "    <tr>\n",
              "      <th id=\"T_17f7d_level0_row4\" class=\"row_heading level0 row4\" >R00000004</th>\n",
              "      <td id=\"T_17f7d_row4_col0\" class=\"data row4 col0\" >isocitrate + NAD+ => alpha-ketoglutarate + CO2 + NADH + H+ [IDH3]</td>\n",
              "      <td id=\"T_17f7d_row4_col1\" class=\"data row4 col1\" ><napistu.identifiers.Identifiers object at 0x158185790></td>\n",
              "      <td id=\"T_17f7d_row4_col2\" class=\"data row4 col2\" ><napistu.source.Source object at 0x1582582d0></td>\n",
              "      <td id=\"T_17f7d_row4_col3\" class=\"data row4 col3\" >False</td>\n",
              "    </tr>\n",
              "  </tbody>\n",
              "</table>\n"
            ],
            "text/plain": [
              "<pandas.io.formats.style.Styler at 0x1582db250>"
            ]
          },
          "execution_count": 7,
          "metadata": {},
          "output_type": "execute_result"
        }
      ],
      "source": [
        "#| label: reactions\n",
        "utils.style_df(sbml_dfs.reactions.head())"
      ]
    },
    {
      "cell_type": "markdown",
      "metadata": {},
      "source": [
        "## Reactions"
      ]
    },
    {
      "cell_type": "code",
      "execution_count": 8,
      "metadata": {},
      "outputs": [
        {
          "data": {
            "text/html": [
              "<style type=\"text/css\">\n",
              "#T_5a612 th {\n",
              "  color: limegreen;\n",
              "}\n",
              "</style>\n",
              "<table id=\"T_5a612\">\n",
              "  <thead>\n",
              "    <tr>\n",
              "      <th class=\"blank level0\" >&nbsp;</th>\n",
              "      <th id=\"T_5a612_level0_col0\" class=\"col_heading level0 col0\" >r_id</th>\n",
              "      <th id=\"T_5a612_level0_col1\" class=\"col_heading level0 col1\" >sc_id</th>\n",
              "      <th id=\"T_5a612_level0_col2\" class=\"col_heading level0 col2\" >stoichiometry</th>\n",
              "      <th id=\"T_5a612_level0_col3\" class=\"col_heading level0 col3\" >sbo_term</th>\n",
              "    </tr>\n",
              "    <tr>\n",
              "      <th class=\"index_name level0\" >rsc_id</th>\n",
              "      <th class=\"blank col0\" >&nbsp;</th>\n",
              "      <th class=\"blank col1\" >&nbsp;</th>\n",
              "      <th class=\"blank col2\" >&nbsp;</th>\n",
              "      <th class=\"blank col3\" >&nbsp;</th>\n",
              "    </tr>\n",
              "  </thead>\n",
              "  <tbody>\n",
              "    <tr>\n",
              "      <th id=\"T_5a612_level0_row0\" class=\"row_heading level0 row0\" >RSC00000000</th>\n",
              "      <td id=\"T_5a612_row0_col0\" class=\"data row0 col0\" >R00000000</td>\n",
              "      <td id=\"T_5a612_row0_col1\" class=\"data row0 col1\" >SC00000000</td>\n",
              "      <td id=\"T_5a612_row0_col2\" class=\"data row0 col2\" >0.000</td>\n",
              "      <td id=\"T_5a612_row0_col3\" class=\"data row0 col3\" >SBO:0000013</td>\n",
              "    </tr>\n",
              "    <tr>\n",
              "      <th id=\"T_5a612_level0_row1\" class=\"row_heading level0 row1\" >RSC00000001</th>\n",
              "      <td id=\"T_5a612_row1_col0\" class=\"data row1 col0\" >R00000000</td>\n",
              "      <td id=\"T_5a612_row1_col1\" class=\"data row1 col1\" >SC00000001</td>\n",
              "      <td id=\"T_5a612_row1_col2\" class=\"data row1 col2\" >-1.000</td>\n",
              "      <td id=\"T_5a612_row1_col3\" class=\"data row1 col3\" >SBO:0000010</td>\n",
              "    </tr>\n",
              "    <tr>\n",
              "      <th id=\"T_5a612_level0_row2\" class=\"row_heading level0 row2\" >RSC00000002</th>\n",
              "      <td id=\"T_5a612_row2_col0\" class=\"data row2 col0\" >R00000000</td>\n",
              "      <td id=\"T_5a612_row2_col1\" class=\"data row2 col1\" >SC00000003</td>\n",
              "      <td id=\"T_5a612_row2_col2\" class=\"data row2 col2\" >-1.000</td>\n",
              "      <td id=\"T_5a612_row2_col3\" class=\"data row2 col3\" >SBO:0000010</td>\n",
              "    </tr>\n",
              "    <tr>\n",
              "      <th id=\"T_5a612_level0_row3\" class=\"row_heading level0 row3\" >RSC00000003</th>\n",
              "      <td id=\"T_5a612_row3_col0\" class=\"data row3 col0\" >R00000000</td>\n",
              "      <td id=\"T_5a612_row3_col1\" class=\"data row3 col1\" >SC00000005</td>\n",
              "      <td id=\"T_5a612_row3_col2\" class=\"data row3 col2\" >1.000</td>\n",
              "      <td id=\"T_5a612_row3_col3\" class=\"data row3 col3\" >SBO:0000011</td>\n",
              "    </tr>\n",
              "    <tr>\n",
              "      <th id=\"T_5a612_level0_row4\" class=\"row_heading level0 row4\" >RSC00000004</th>\n",
              "      <td id=\"T_5a612_row4_col0\" class=\"data row4 col0\" >R00000000</td>\n",
              "      <td id=\"T_5a612_row4_col1\" class=\"data row4 col1\" >SC00000007</td>\n",
              "      <td id=\"T_5a612_row4_col2\" class=\"data row4 col2\" >1.000</td>\n",
              "      <td id=\"T_5a612_row4_col3\" class=\"data row4 col3\" >SBO:0000011</td>\n",
              "    </tr>\n",
              "  </tbody>\n",
              "</table>\n"
            ],
            "text/plain": [
              "<pandas.io.formats.style.Styler at 0x108280fd0>"
            ]
          },
          "execution_count": 8,
          "metadata": {},
          "output_type": "execute_result"
        }
      ],
      "source": [
        "#| label: reaction_species\n",
        "utils.style_df(sbml_dfs.reaction_species.head())"
      ]
    },
    {
      "cell_type": "markdown",
      "metadata": {},
      "source": [
        "## Optional attributes (`species_data` and `reactions_data`)\n",
        "\n",
        "We can store additional data with species and reactions allowing us to connect molecular data to our graph. These tables `species_data` and `reactions_data` are discussed in the **adding_data_to_graphs** tutorial.\n",
        "\n",
        "# Identifiers and Sources\n",
        "\n",
        "Many of the core tables in `SBML_dfs` contain a column to track systematic identifiers and/or the information source. For example, `s_Identifiers` tracks a molecule's systematic identifiers while `s_Source` keeps track of the pathways including the molecules (this becomes relevant once we start merging network models; see the **merging_networks_as_a_consensus** tutorial).\n",
        "\n",
        "## Identifiers\n",
        "\n",
        "Identifiers are described in [cpr wiki: identifiers](https://github.com/calico/Open-CPR/wiki/SBML-DFs#identifiers) but here is an actual Identifiers object."
      ]
    },
    {
      "cell_type": "code",
      "execution_count": 9,
      "metadata": {},
      "outputs": [
        {
          "data": {
            "text/plain": [
              "napistu.identifiers.Identifiers"
            ]
          },
          "execution_count": 9,
          "metadata": {},
          "output_type": "execute_result"
        }
      ],
      "source": [
        "#| label: identifiers_a\n",
        "an_identifier = sbml_dfs.species[\"s_Identifiers\"][0]\n",
        "type(an_identifier)"
      ]
    },
    {
      "cell_type": "markdown",
      "metadata": {},
      "source": [
        "At its core `Identifiers` objects are list of dictionaries"
      ]
    },
    {
      "cell_type": "code",
      "execution_count": 10,
      "metadata": {},
      "outputs": [
        {
          "data": {
            "text/plain": [
              "[{'ontology': 'reactome',\n",
              "  'identifier': 'R-HSA-198511',\n",
              "  'url': 'https://reactome.org/content/detail/R-HSA-198511',\n",
              "  'bqb': 'BQB_IS'},\n",
              " {'ontology': 'uniprot',\n",
              "  'identifier': 'P40926',\n",
              "  'url': 'https://purl.uniprot.org/uniprot/P40926',\n",
              "  'bqb': 'BQB_HAS_PART'},\n",
              " {'ontology': 'reactome',\n",
              "  'identifier': 'R-MMU-198511',\n",
              "  'url': 'https://reactome.org/content/detail/R-MMU-198511',\n",
              "  'bqb': 'BQB_IS_HOMOLOG_TO'},\n",
              " {'ontology': 'reactome',\n",
              "  'identifier': 'R-RNO-198511',\n",
              "  'url': 'https://reactome.org/content/detail/R-RNO-198511',\n",
              "  'bqb': 'BQB_IS_HOMOLOG_TO'},\n",
              " {'ontology': 'reactome',\n",
              "  'identifier': 'R-CFA-198511',\n",
              "  'url': 'https://reactome.org/content/detail/R-CFA-198511',\n",
              "  'bqb': 'BQB_IS_HOMOLOG_TO'},\n",
              " {'ontology': 'reactome',\n",
              "  'identifier': 'R-BTA-198511',\n",
              "  'url': 'https://reactome.org/content/detail/R-BTA-198511',\n",
              "  'bqb': 'BQB_IS_HOMOLOG_TO'},\n",
              " {'ontology': 'reactome',\n",
              "  'identifier': 'R-DRE-198511',\n",
              "  'url': 'https://reactome.org/content/detail/R-DRE-198511',\n",
              "  'bqb': 'BQB_IS_HOMOLOG_TO'},\n",
              " {'ontology': 'reactome',\n",
              "  'identifier': 'R-XTR-198511',\n",
              "  'url': 'https://reactome.org/content/detail/R-XTR-198511',\n",
              "  'bqb': 'BQB_IS_HOMOLOG_TO'},\n",
              " {'ontology': 'reactome',\n",
              "  'identifier': 'R-GGA-198511',\n",
              "  'url': 'https://reactome.org/content/detail/R-GGA-198511',\n",
              "  'bqb': 'BQB_IS_HOMOLOG_TO'},\n",
              " {'ontology': 'reactome',\n",
              "  'identifier': 'R-DME-198511',\n",
              "  'url': 'https://reactome.org/content/detail/R-DME-198511',\n",
              "  'bqb': 'BQB_IS_HOMOLOG_TO'},\n",
              " {'ontology': 'reactome',\n",
              "  'identifier': 'R-CEL-198511',\n",
              "  'url': 'https://reactome.org/content/detail/R-CEL-198511',\n",
              "  'bqb': 'BQB_IS_HOMOLOG_TO'},\n",
              " {'ontology': 'reactome',\n",
              "  'identifier': 'R-SPO-198511',\n",
              "  'url': 'https://reactome.org/content/detail/R-SPO-198511',\n",
              "  'bqb': 'BQB_IS_HOMOLOG_TO'},\n",
              " {'ontology': 'reactome',\n",
              "  'identifier': 'R-SCE-198511',\n",
              "  'url': 'https://reactome.org/content/detail/R-SCE-198511',\n",
              "  'bqb': 'BQB_IS_HOMOLOG_TO'},\n",
              " {'ontology': 'reactome',\n",
              "  'identifier': 'R-PFA-198511',\n",
              "  'url': 'https://reactome.org/content/detail/R-PFA-198511',\n",
              "  'bqb': 'BQB_IS_HOMOLOG_TO'}]"
            ]
          },
          "execution_count": 10,
          "metadata": {},
          "output_type": "execute_result"
        }
      ],
      "source": [
        "#| label: identifiers_b\n",
        "an_identifier.ids"
      ]
    },
    {
      "cell_type": "markdown",
      "metadata": {},
      "source": [
        "Or, reformatted:"
      ]
    },
    {
      "cell_type": "code",
      "execution_count": 11,
      "metadata": {},
      "outputs": [
        {
          "data": {
            "text/html": [
              "<style type=\"text/css\">\n",
              "#T_6d7d8 th {\n",
              "  color: limegreen;\n",
              "}\n",
              "</style>\n",
              "<table id=\"T_6d7d8\">\n",
              "  <thead>\n",
              "    <tr>\n",
              "      <th class=\"blank level0\" >&nbsp;</th>\n",
              "      <th id=\"T_6d7d8_level0_col0\" class=\"col_heading level0 col0\" >ontology</th>\n",
              "      <th id=\"T_6d7d8_level0_col1\" class=\"col_heading level0 col1\" >identifier</th>\n",
              "      <th id=\"T_6d7d8_level0_col2\" class=\"col_heading level0 col2\" >url</th>\n",
              "      <th id=\"T_6d7d8_level0_col3\" class=\"col_heading level0 col3\" >bqb</th>\n",
              "    </tr>\n",
              "  </thead>\n",
              "  <tbody>\n",
              "    <tr>\n",
              "      <th id=\"T_6d7d8_level0_row0\" class=\"row_heading level0 row0\" >0</th>\n",
              "      <td id=\"T_6d7d8_row0_col0\" class=\"data row0 col0\" >reactome</td>\n",
              "      <td id=\"T_6d7d8_row0_col1\" class=\"data row0 col1\" >R-HSA-198511</td>\n",
              "      <td id=\"T_6d7d8_row0_col2\" class=\"data row0 col2\" >https://reactome.org/content/detail/R-HSA-198511</td>\n",
              "      <td id=\"T_6d7d8_row0_col3\" class=\"data row0 col3\" >BQB_IS</td>\n",
              "    </tr>\n",
              "    <tr>\n",
              "      <th id=\"T_6d7d8_level0_row1\" class=\"row_heading level0 row1\" >1</th>\n",
              "      <td id=\"T_6d7d8_row1_col0\" class=\"data row1 col0\" >uniprot</td>\n",
              "      <td id=\"T_6d7d8_row1_col1\" class=\"data row1 col1\" >P40926</td>\n",
              "      <td id=\"T_6d7d8_row1_col2\" class=\"data row1 col2\" >https://purl.uniprot.org/uniprot/P40926</td>\n",
              "      <td id=\"T_6d7d8_row1_col3\" class=\"data row1 col3\" >BQB_HAS_PART</td>\n",
              "    </tr>\n",
              "    <tr>\n",
              "      <th id=\"T_6d7d8_level0_row2\" class=\"row_heading level0 row2\" >2</th>\n",
              "      <td id=\"T_6d7d8_row2_col0\" class=\"data row2 col0\" >reactome</td>\n",
              "      <td id=\"T_6d7d8_row2_col1\" class=\"data row2 col1\" >R-MMU-198511</td>\n",
              "      <td id=\"T_6d7d8_row2_col2\" class=\"data row2 col2\" >https://reactome.org/content/detail/R-MMU-198511</td>\n",
              "      <td id=\"T_6d7d8_row2_col3\" class=\"data row2 col3\" >BQB_IS_HOMOLOG_TO</td>\n",
              "    </tr>\n",
              "    <tr>\n",
              "      <th id=\"T_6d7d8_level0_row3\" class=\"row_heading level0 row3\" >3</th>\n",
              "      <td id=\"T_6d7d8_row3_col0\" class=\"data row3 col0\" >reactome</td>\n",
              "      <td id=\"T_6d7d8_row3_col1\" class=\"data row3 col1\" >R-RNO-198511</td>\n",
              "      <td id=\"T_6d7d8_row3_col2\" class=\"data row3 col2\" >https://reactome.org/content/detail/R-RNO-198511</td>\n",
              "      <td id=\"T_6d7d8_row3_col3\" class=\"data row3 col3\" >BQB_IS_HOMOLOG_TO</td>\n",
              "    </tr>\n",
              "    <tr>\n",
              "      <th id=\"T_6d7d8_level0_row4\" class=\"row_heading level0 row4\" >4</th>\n",
              "      <td id=\"T_6d7d8_row4_col0\" class=\"data row4 col0\" >reactome</td>\n",
              "      <td id=\"T_6d7d8_row4_col1\" class=\"data row4 col1\" >R-CFA-198511</td>\n",
              "      <td id=\"T_6d7d8_row4_col2\" class=\"data row4 col2\" >https://reactome.org/content/detail/R-CFA-198511</td>\n",
              "      <td id=\"T_6d7d8_row4_col3\" class=\"data row4 col3\" >BQB_IS_HOMOLOG_TO</td>\n",
              "    </tr>\n",
              "    <tr>\n",
              "      <th id=\"T_6d7d8_level0_row5\" class=\"row_heading level0 row5\" >5</th>\n",
              "      <td id=\"T_6d7d8_row5_col0\" class=\"data row5 col0\" >reactome</td>\n",
              "      <td id=\"T_6d7d8_row5_col1\" class=\"data row5 col1\" >R-BTA-198511</td>\n",
              "      <td id=\"T_6d7d8_row5_col2\" class=\"data row5 col2\" >https://reactome.org/content/detail/R-BTA-198511</td>\n",
              "      <td id=\"T_6d7d8_row5_col3\" class=\"data row5 col3\" >BQB_IS_HOMOLOG_TO</td>\n",
              "    </tr>\n",
              "    <tr>\n",
              "      <th id=\"T_6d7d8_level0_row6\" class=\"row_heading level0 row6\" >6</th>\n",
              "      <td id=\"T_6d7d8_row6_col0\" class=\"data row6 col0\" >reactome</td>\n",
              "      <td id=\"T_6d7d8_row6_col1\" class=\"data row6 col1\" >R-DRE-198511</td>\n",
              "      <td id=\"T_6d7d8_row6_col2\" class=\"data row6 col2\" >https://reactome.org/content/detail/R-DRE-198511</td>\n",
              "      <td id=\"T_6d7d8_row6_col3\" class=\"data row6 col3\" >BQB_IS_HOMOLOG_TO</td>\n",
              "    </tr>\n",
              "    <tr>\n",
              "      <th id=\"T_6d7d8_level0_row7\" class=\"row_heading level0 row7\" >7</th>\n",
              "      <td id=\"T_6d7d8_row7_col0\" class=\"data row7 col0\" >reactome</td>\n",
              "      <td id=\"T_6d7d8_row7_col1\" class=\"data row7 col1\" >R-XTR-198511</td>\n",
              "      <td id=\"T_6d7d8_row7_col2\" class=\"data row7 col2\" >https://reactome.org/content/detail/R-XTR-198511</td>\n",
              "      <td id=\"T_6d7d8_row7_col3\" class=\"data row7 col3\" >BQB_IS_HOMOLOG_TO</td>\n",
              "    </tr>\n",
              "    <tr>\n",
              "      <th id=\"T_6d7d8_level0_row8\" class=\"row_heading level0 row8\" >8</th>\n",
              "      <td id=\"T_6d7d8_row8_col0\" class=\"data row8 col0\" >reactome</td>\n",
              "      <td id=\"T_6d7d8_row8_col1\" class=\"data row8 col1\" >R-GGA-198511</td>\n",
              "      <td id=\"T_6d7d8_row8_col2\" class=\"data row8 col2\" >https://reactome.org/content/detail/R-GGA-198511</td>\n",
              "      <td id=\"T_6d7d8_row8_col3\" class=\"data row8 col3\" >BQB_IS_HOMOLOG_TO</td>\n",
              "    </tr>\n",
              "    <tr>\n",
              "      <th id=\"T_6d7d8_level0_row9\" class=\"row_heading level0 row9\" >9</th>\n",
              "      <td id=\"T_6d7d8_row9_col0\" class=\"data row9 col0\" >reactome</td>\n",
              "      <td id=\"T_6d7d8_row9_col1\" class=\"data row9 col1\" >R-DME-198511</td>\n",
              "      <td id=\"T_6d7d8_row9_col2\" class=\"data row9 col2\" >https://reactome.org/content/detail/R-DME-198511</td>\n",
              "      <td id=\"T_6d7d8_row9_col3\" class=\"data row9 col3\" >BQB_IS_HOMOLOG_TO</td>\n",
              "    </tr>\n",
              "    <tr>\n",
              "      <th id=\"T_6d7d8_level0_row10\" class=\"row_heading level0 row10\" >10</th>\n",
              "      <td id=\"T_6d7d8_row10_col0\" class=\"data row10 col0\" >reactome</td>\n",
              "      <td id=\"T_6d7d8_row10_col1\" class=\"data row10 col1\" >R-CEL-198511</td>\n",
              "      <td id=\"T_6d7d8_row10_col2\" class=\"data row10 col2\" >https://reactome.org/content/detail/R-CEL-198511</td>\n",
              "      <td id=\"T_6d7d8_row10_col3\" class=\"data row10 col3\" >BQB_IS_HOMOLOG_TO</td>\n",
              "    </tr>\n",
              "    <tr>\n",
              "      <th id=\"T_6d7d8_level0_row11\" class=\"row_heading level0 row11\" >11</th>\n",
              "      <td id=\"T_6d7d8_row11_col0\" class=\"data row11 col0\" >reactome</td>\n",
              "      <td id=\"T_6d7d8_row11_col1\" class=\"data row11 col1\" >R-SPO-198511</td>\n",
              "      <td id=\"T_6d7d8_row11_col2\" class=\"data row11 col2\" >https://reactome.org/content/detail/R-SPO-198511</td>\n",
              "      <td id=\"T_6d7d8_row11_col3\" class=\"data row11 col3\" >BQB_IS_HOMOLOG_TO</td>\n",
              "    </tr>\n",
              "    <tr>\n",
              "      <th id=\"T_6d7d8_level0_row12\" class=\"row_heading level0 row12\" >12</th>\n",
              "      <td id=\"T_6d7d8_row12_col0\" class=\"data row12 col0\" >reactome</td>\n",
              "      <td id=\"T_6d7d8_row12_col1\" class=\"data row12 col1\" >R-SCE-198511</td>\n",
              "      <td id=\"T_6d7d8_row12_col2\" class=\"data row12 col2\" >https://reactome.org/content/detail/R-SCE-198511</td>\n",
              "      <td id=\"T_6d7d8_row12_col3\" class=\"data row12 col3\" >BQB_IS_HOMOLOG_TO</td>\n",
              "    </tr>\n",
              "    <tr>\n",
              "      <th id=\"T_6d7d8_level0_row13\" class=\"row_heading level0 row13\" >13</th>\n",
              "      <td id=\"T_6d7d8_row13_col0\" class=\"data row13 col0\" >reactome</td>\n",
              "      <td id=\"T_6d7d8_row13_col1\" class=\"data row13 col1\" >R-PFA-198511</td>\n",
              "      <td id=\"T_6d7d8_row13_col2\" class=\"data row13 col2\" >https://reactome.org/content/detail/R-PFA-198511</td>\n",
              "      <td id=\"T_6d7d8_row13_col3\" class=\"data row13 col3\" >BQB_IS_HOMOLOG_TO</td>\n",
              "    </tr>\n",
              "  </tbody>\n",
              "</table>\n"
            ],
            "text/plain": [
              "<pandas.io.formats.style.Styler at 0x1582f1410>"
            ]
          },
          "execution_count": 11,
          "metadata": {},
          "output_type": "execute_result"
        }
      ],
      "source": [
        "#| label: identifiers_c\n",
        "utils.style_df(pd.DataFrame(an_identifier.ids))"
      ]
    },
    {
      "cell_type": "markdown",
      "metadata": {},
      "source": [
        "## Sources\n",
        "\n",
        "While `Identifiers` track the systematic identifiers associated with entities `Source` objects track the pathway representation information came from. For a single-source `SBML_dfs` object its source's will be empty. For consensus model derived by combining multiple pathways, the `Source` object will track the upstream pathways. See [cpr wiki: sources](https://github.com/calico/Open-CPR/wiki/SBML-DFs#sources) for more details. Here, we can look more closely at a representative `Source` object to better understand its structure."
      ]
    },
    {
      "cell_type": "code",
      "execution_count": 12,
      "metadata": {},
      "outputs": [
        {
          "data": {
            "text/plain": [
              "napistu.source.Source"
            ]
          },
          "execution_count": 12,
          "metadata": {},
          "output_type": "execute_result"
        }
      ],
      "source": [
        "#| label: source_a\n",
        "a_source = sbml_dfs.species[\"s_Source\"][0]\n",
        "type(a_source)"
      ]
    },
    {
      "cell_type": "markdown",
      "metadata": {},
      "source": [
        "Source objects core attribute is their `source` pd.DataFrame. Since we are loading an `SBML_dfs` object which was constructed by merging multiple upstream `SBML_dfs` (see dev/create_test_pathway.qmd to see how this was done) the source table tracks which upstream pathway(s) entities came from:"
      ]
    },
    {
      "cell_type": "code",
      "execution_count": 13,
      "metadata": {},
      "outputs": [
        {
          "data": {
            "text/html": [
              "<style type=\"text/css\">\n",
              "#T_21f6f th {\n",
              "  color: limegreen;\n",
              "}\n",
              "</style>\n",
              "<table id=\"T_21f6f\">\n",
              "  <thead>\n",
              "    <tr>\n",
              "      <th class=\"blank level0\" >&nbsp;</th>\n",
              "      <th id=\"T_21f6f_level0_col0\" class=\"col_heading level0 col0\" >model</th>\n",
              "      <th id=\"T_21f6f_level0_col1\" class=\"col_heading level0 col1\" >s_id</th>\n",
              "      <th id=\"T_21f6f_level0_col2\" class=\"col_heading level0 col2\" >file</th>\n",
              "      <th id=\"T_21f6f_level0_col3\" class=\"col_heading level0 col3\" >source</th>\n",
              "      <th id=\"T_21f6f_level0_col4\" class=\"col_heading level0 col4\" >species</th>\n",
              "      <th id=\"T_21f6f_level0_col5\" class=\"col_heading level0 col5\" >pathway_id</th>\n",
              "      <th id=\"T_21f6f_level0_col6\" class=\"col_heading level0 col6\" >name</th>\n",
              "      <th id=\"T_21f6f_level0_col7\" class=\"col_heading level0 col7\" >date</th>\n",
              "    </tr>\n",
              "  </thead>\n",
              "  <tbody>\n",
              "    <tr>\n",
              "      <th id=\"T_21f6f_level0_row0\" class=\"row_heading level0 row0\" >0</th>\n",
              "      <td id=\"T_21f6f_row0_col0\" class=\"data row0 col0\" >tca</td>\n",
              "      <td id=\"T_21f6f_row0_col1\" class=\"data row0 col1\" >S00000000</td>\n",
              "      <td id=\"T_21f6f_row0_col2\" class=\"data row0 col2\" >reactome_tca.sbml</td>\n",
              "      <td id=\"T_21f6f_row0_col3\" class=\"data row0 col3\" >Reactome</td>\n",
              "      <td id=\"T_21f6f_row0_col4\" class=\"data row0 col4\" >Homo sapiens</td>\n",
              "      <td id=\"T_21f6f_row0_col5\" class=\"data row0 col5\" >tca</td>\n",
              "      <td id=\"T_21f6f_row0_col6\" class=\"data row0 col6\" >citric acid cycle</td>\n",
              "      <td id=\"T_21f6f_row0_col7\" class=\"data row0 col7\" >nan</td>\n",
              "    </tr>\n",
              "    <tr>\n",
              "      <th id=\"T_21f6f_level0_row1\" class=\"row_heading level0 row1\" >1</th>\n",
              "      <td id=\"T_21f6f_row1_col0\" class=\"data row1 col0\" >glucose metabolism</td>\n",
              "      <td id=\"T_21f6f_row1_col1\" class=\"data row1 col1\" >S00000015</td>\n",
              "      <td id=\"T_21f6f_row1_col2\" class=\"data row1 col2\" >reactome_glucose_metabolism.sbml</td>\n",
              "      <td id=\"T_21f6f_row1_col3\" class=\"data row1 col3\" >Reactome</td>\n",
              "      <td id=\"T_21f6f_row1_col4\" class=\"data row1 col4\" >Homo sapiens</td>\n",
              "      <td id=\"T_21f6f_row1_col5\" class=\"data row1 col5\" >glucose metabolism</td>\n",
              "      <td id=\"T_21f6f_row1_col6\" class=\"data row1 col6\" >glucose metabolism</td>\n",
              "      <td id=\"T_21f6f_row1_col7\" class=\"data row1 col7\" >nan</td>\n",
              "    </tr>\n",
              "  </tbody>\n",
              "</table>\n"
            ],
            "text/plain": [
              "<pandas.io.formats.style.Styler at 0x1582ff150>"
            ]
          },
          "execution_count": 13,
          "metadata": {},
          "output_type": "execute_result"
        }
      ],
      "source": [
        "#| label: source_b\n",
        "utils.style_df(a_source.source)"
      ]
    },
    {
      "cell_type": "markdown",
      "metadata": {},
      "source": [
        "When, an `SBML_dfs` model from a single-source is initialized its `Source.source` attributes are generally None. So the presense of source information indicates that the model has been created using the consensus module. This is module is described in the **merging_networks_as_a_consensus** tutorial.\n",
        "\n",
        "# Creating `SBML_dfs`\n",
        "\n",
        "## From a `.sbml` file\n",
        "\n",
        "`SBML_dfs` pathway models can be created in three ways (from a .sbml file, using an edgelist format, and from raw tables). The latter two modes of creating sbml_dfs are shown later in this document but first we'll demonstrate how to create sbml_dfs from .sbml files because it is straight-forward and the sbml convention is arguably the most expressive format for accurately describing molecular mechanisms: [cpr wiki: sbml](https://github.com/calico/Open-CPR/wiki/SBML).\n",
        "\n",
        "Here is how we can load and format the Reactome Glucose Metabolism pathway as an `SBML_dfs` object."
      ]
    },
    {
      "cell_type": "code",
      "execution_count": 14,
      "metadata": {},
      "outputs": [
        {
          "name": "stderr",
          "output_type": "stream",
          "text": [
            "INFO:napistu.utils:creating an edgelist linking index levels s_id, entry and linking it to levels defined by ontology, identifier\n",
            "DEBUG:napistu.utils:label is not defined in table_schema; adding a constant (1)\n"
          ]
        }
      ],
      "source": [
        "#| label: sbml_dfs_from_sbml\n",
        "\n",
        "from napistu import sbml_dfs_core\n",
        "from napistu.ingestion import sbml\n",
        "from napistu import utils\n",
        "\n",
        "EXAMPLE_MODEL = \"reactome_glucose_metabolism.sbml\"\n",
        "test_data = tutorial_utils.locate_test_data()\n",
        "\n",
        "#| label: create_sbml_dfs\n",
        "model_path = os.path.join(test_data, EXAMPLE_MODEL)\n",
        "sbml_model = sbml.SBML(model_path)\n",
        "sbml_dfs = sbml_dfs_core.SBML_dfs(sbml_model)"
      ]
    },
    {
      "cell_type": "markdown",
      "metadata": {},
      "source": [
        "## From the underlying tables"
      ]
    },
    {
      "cell_type": "code",
      "execution_count": 15,
      "metadata": {},
      "outputs": [
        {
          "data": {
            "text/html": [
              "<div>\n",
              "<style scoped>\n",
              "    .dataframe tbody tr th:only-of-type {\n",
              "        vertical-align: middle;\n",
              "    }\n",
              "\n",
              "    .dataframe tbody tr th {\n",
              "        vertical-align: top;\n",
              "    }\n",
              "\n",
              "    .dataframe thead th {\n",
              "        text-align: right;\n",
              "    }\n",
              "</style>\n",
              "<table border=\"1\" class=\"dataframe\">\n",
              "  <thead>\n",
              "    <tr style=\"text-align: right;\">\n",
              "      <th></th>\n",
              "      <th>s_name</th>\n",
              "      <th>s_Identifiers</th>\n",
              "      <th>s_Source</th>\n",
              "    </tr>\n",
              "    <tr>\n",
              "      <th>s_id</th>\n",
              "      <th></th>\n",
              "      <th></th>\n",
              "      <th></th>\n",
              "    </tr>\n",
              "  </thead>\n",
              "  <tbody>\n",
              "    <tr>\n",
              "      <th>S00000000</th>\n",
              "      <td>Glc</td>\n",
              "      <td>&lt;napistu.identifiers.Identifiers object at 0x1...</td>\n",
              "      <td>&lt;napistu.source.Source object at 0x1581610d0&gt;</td>\n",
              "    </tr>\n",
              "    <tr>\n",
              "      <th>S00000001</th>\n",
              "      <td>G6PC2</td>\n",
              "      <td>&lt;napistu.identifiers.Identifiers object at 0x1...</td>\n",
              "      <td>&lt;napistu.source.Source object at 0x158392150&gt;</td>\n",
              "    </tr>\n",
              "    <tr>\n",
              "      <th>S00000002</th>\n",
              "      <td>G6P</td>\n",
              "      <td>&lt;napistu.identifiers.Identifiers object at 0x1...</td>\n",
              "      <td>&lt;napistu.source.Source object at 0x15846c710&gt;</td>\n",
              "    </tr>\n",
              "    <tr>\n",
              "      <th>S00000003</th>\n",
              "      <td>H2O</td>\n",
              "      <td>&lt;napistu.identifiers.Identifiers object at 0x1...</td>\n",
              "      <td>&lt;napistu.source.Source object at 0x15846fed0&gt;</td>\n",
              "    </tr>\n",
              "    <tr>\n",
              "      <th>S00000004</th>\n",
              "      <td>Pi</td>\n",
              "      <td>&lt;napistu.identifiers.Identifiers object at 0x1...</td>\n",
              "      <td>&lt;napistu.source.Source object at 0x158456290&gt;</td>\n",
              "    </tr>\n",
              "    <tr>\n",
              "      <th>...</th>\n",
              "      <td>...</td>\n",
              "      <td>...</td>\n",
              "      <td>...</td>\n",
              "    </tr>\n",
              "    <tr>\n",
              "      <th>S00000075</th>\n",
              "      <td>PP2A-ABdeltaC complex</td>\n",
              "      <td>&lt;napistu.identifiers.Identifiers object at 0x1...</td>\n",
              "      <td>&lt;napistu.source.Source object at 0x1584947d0&gt;</td>\n",
              "    </tr>\n",
              "    <tr>\n",
              "      <th>S00000076</th>\n",
              "      <td>phosphoPFKFB1 dimer</td>\n",
              "      <td>&lt;napistu.identifiers.Identifiers object at 0x1...</td>\n",
              "      <td>&lt;napistu.source.Source object at 0x1584942d0&gt;</td>\n",
              "    </tr>\n",
              "    <tr>\n",
              "      <th>S00000077</th>\n",
              "      <td>PFKFB1 dimer</td>\n",
              "      <td>&lt;napistu.identifiers.Identifiers object at 0x1...</td>\n",
              "      <td>&lt;napistu.source.Source object at 0x1584949d0&gt;</td>\n",
              "    </tr>\n",
              "    <tr>\n",
              "      <th>S00000078</th>\n",
              "      <td>PFKFB dimers</td>\n",
              "      <td>&lt;napistu.identifiers.Identifiers object at 0x1...</td>\n",
              "      <td>&lt;napistu.source.Source object at 0x158494410&gt;</td>\n",
              "    </tr>\n",
              "    <tr>\n",
              "      <th>S00000079</th>\n",
              "      <td>PKA catalytic subunit</td>\n",
              "      <td>&lt;napistu.identifiers.Identifiers object at 0x1...</td>\n",
              "      <td>&lt;napistu.source.Source object at 0x158494490&gt;</td>\n",
              "    </tr>\n",
              "  </tbody>\n",
              "</table>\n",
              "<p>80 rows × 3 columns</p>\n",
              "</div>"
            ],
            "text/plain": [
              "                          s_name  \\\n",
              "s_id                               \n",
              "S00000000                    Glc   \n",
              "S00000001                  G6PC2   \n",
              "S00000002                    G6P   \n",
              "S00000003                    H2O   \n",
              "S00000004                     Pi   \n",
              "...                          ...   \n",
              "S00000075  PP2A-ABdeltaC complex   \n",
              "S00000076    phosphoPFKFB1 dimer   \n",
              "S00000077           PFKFB1 dimer   \n",
              "S00000078           PFKFB dimers   \n",
              "S00000079  PKA catalytic subunit   \n",
              "\n",
              "                                               s_Identifiers  \\\n",
              "s_id                                                           \n",
              "S00000000  <napistu.identifiers.Identifiers object at 0x1...   \n",
              "S00000001  <napistu.identifiers.Identifiers object at 0x1...   \n",
              "S00000002  <napistu.identifiers.Identifiers object at 0x1...   \n",
              "S00000003  <napistu.identifiers.Identifiers object at 0x1...   \n",
              "S00000004  <napistu.identifiers.Identifiers object at 0x1...   \n",
              "...                                                      ...   \n",
              "S00000075  <napistu.identifiers.Identifiers object at 0x1...   \n",
              "S00000076  <napistu.identifiers.Identifiers object at 0x1...   \n",
              "S00000077  <napistu.identifiers.Identifiers object at 0x1...   \n",
              "S00000078  <napistu.identifiers.Identifiers object at 0x1...   \n",
              "S00000079  <napistu.identifiers.Identifiers object at 0x1...   \n",
              "\n",
              "                                                s_Source  \n",
              "s_id                                                      \n",
              "S00000000  <napistu.source.Source object at 0x1581610d0>  \n",
              "S00000001  <napistu.source.Source object at 0x158392150>  \n",
              "S00000002  <napistu.source.Source object at 0x15846c710>  \n",
              "S00000003  <napistu.source.Source object at 0x15846fed0>  \n",
              "S00000004  <napistu.source.Source object at 0x158456290>  \n",
              "...                                                  ...  \n",
              "S00000075  <napistu.source.Source object at 0x1584947d0>  \n",
              "S00000076  <napistu.source.Source object at 0x1584942d0>  \n",
              "S00000077  <napistu.source.Source object at 0x1584949d0>  \n",
              "S00000078  <napistu.source.Source object at 0x158494410>  \n",
              "S00000079  <napistu.source.Source object at 0x158494490>  \n",
              "\n",
              "[80 rows x 3 columns]"
            ]
          },
          "execution_count": 15,
          "metadata": {},
          "output_type": "execute_result"
        }
      ],
      "source": [
        "#| label: sbml_dfs_from_tables\n",
        "\n",
        "sbml_tbl_dict = {\n",
        "    \"compartments\": sbml_dfs.compartments,\n",
        "    \"species\": sbml_dfs.species,\n",
        "    \"compartmentalized_species\": sbml_dfs.compartmentalized_species,\n",
        "    \"reactions\": sbml_dfs.reactions,\n",
        "    \"reaction_species\": sbml_dfs.reaction_species,\n",
        "}\n",
        "\n",
        "sbml_dfs_core.SBML_dfs(sbml_tbl_dict).species"
      ]
    },
    {
      "cell_type": "markdown",
      "metadata": {},
      "source": [
        "## From an edgelist\n",
        "\n",
        "**TO DO**\n",
        "\n",
        "\n",
        "# Modifying `sbml_dfs`\n",
        "\n",
        "## Dropping cofactors\n",
        "\n",
        "While cofactors such as ATP and NADH are biologically important they can generate confusion when we translate reactions into networks. For example, a dehydration reaction (X - H20) and a hydration reaction (Y + H20) would not really suggest regulation of Y by X via water. To deal with this issue, for many applications its helpful to remove cofactors."
      ]
    },
    {
      "cell_type": "code",
      "execution_count": 16,
      "metadata": {},
      "outputs": [
        {
          "name": "stderr",
          "output_type": "stream",
          "text": [
            "INFO:napistu.modify.pathwayannot:There were 13 cofactor species: H2O, Pi, NAD+, NADH, H+, L-Glu, CO2, ATP, ADP, Ac-CoA, GTP, GDP, AMP\n",
            "WARNING:napistu.modify.pathwayannot:26 of 39 cofactors were not located in the pathway model: ADP, ATP, HCO3, H2CO3, GSH, GSSG, Gln, H+, O2, NADH, NAD+, NADPH, NADP+, NADP+, PPi, PPi, SAH, SAM, water, Na+, Cl-, CoA, CoA, FAD, FADH2, UDP\n",
            "INFO:napistu.modify.pathwayannot:Cofactor species are present 70 times in reactions\n",
            "INFO:napistu.modify.pathwayannot:32 of 50 reactions include cofactor species\n",
            "INFO:napistu.modify.pathwayannot:60 of 250 reaction species will be filtered as cofactors\n",
            "INFO:napistu.modify.pathwayannot:<pandas.io.formats.style.Styler object at 0x15832dc50>\n"
          ]
        }
      ],
      "source": [
        "#| label: drop_cofactors\n",
        "from napistu.modify import pathwayannot\n",
        "\n",
        "filtered_pathway = pathwayannot.drop_cofactors(sbml_dfs)"
      ]
    },
    {
      "cell_type": "markdown",
      "metadata": {},
      "source": [
        "## Uncompartmentalizing\n",
        "\n",
        "Compartments are necessary to represent many mechanisms involving transport reactions such as creating a proton transport to fuel the electron transport chain. But, they add complexity which may be unecessary for some applications. By merging compartments we can create an uncompartmentalized model."
      ]
    },
    {
      "cell_type": "code",
      "execution_count": 17,
      "metadata": {},
      "outputs": [
        {
          "name": "stderr",
          "output_type": "stream",
          "text": [
            "INFO:napistu.consensus:Merging reactions based on identical membership (sc_id + stoichiometry)\n",
            "INFO:napistu.consensus:>>>> 2 r_id entries merged into 1\n",
            "INFO:napistu.consensus:Creating formulas for to-be-merged reactions to help with reporting merges of reactions with inconsistently named reactants\n",
            "INFO:napistu.consensus:Done creating reaction formulas\n",
            "INFO:napistu.consensus:Testing for identical formulas of to-be-merged reactions\n",
            "WARNING:napistu.consensus:\n",
            "1 merges were of entities with distinct names, including:\n",
            "\n",
            "WARNING:napistu.consensus:2OG [cytosol] + MAL [mitochondrial matrix] -> 2OG [mitochondrial matrix] + MAL [cytosol] ---- modifiers: SLC25A11 homodimer [mitochondrial inner membrane]] & 2OG [mitochondrial matrix] + MAL [cytosol] -> 2OG [cytosol] + MAL [mitochondrial matrix] ---- modifiers: SLC25A11 homodimer [mitochondrial inner membrane]]\n",
            "\n",
            "INFO:napistu.consensus:==============================\n",
            "\n",
            "INFO:napistu.consensus:Merging reactions identifiers\n",
            "INFO:napistu.consensus:Merging reactions sources\n",
            "INFO:napistu.consensus:Creating source table\n",
            "INFO:napistu.consensus:Aggregating old sources\n",
            "INFO:napistu.consensus:Returning new source table\n",
            "DEBUG:napistu.utils:label is not defined in table_schema; adding a constant (1)\n",
            "INFO:napistu.modify.uncompartmentalize:14 reactions species will be removed because they are substrates and products in the same reaction\n",
            "INFO:napistu.modify.uncompartmentalize:2 reactions where substrates and products cancel out were dropped including: Efflux of glucose from the endoplasmic reticulum & glucokinase [nucleoplasm] => glucokinase [cytosol]\n"
          ]
        }
      ],
      "source": [
        "#| label: uncompartmentalize\n",
        "from napistu.modify import uncompartmentalize\n",
        "\n",
        "one_compartment_sbml_dfs = uncompartmentalize.uncompartmentalize_sbml_dfs(sbml_dfs)"
      ]
    },
    {
      "cell_type": "markdown",
      "metadata": {},
      "source": [
        "## Gap-filling\n",
        "\n",
        "**TO DO**"
      ]
    }
  ],
  "metadata": {
    "kernelspec": {
      "display_name": ".venv",
      "language": "python",
      "name": "python3"
    },
    "language_info": {
      "codemirror_mode": {
        "name": "ipython",
        "version": 3
      },
      "file_extension": ".py",
      "mimetype": "text/x-python",
      "name": "python",
      "nbconvert_exporter": "python",
      "pygments_lexer": "ipython3",
      "version": "3.11.11"
    }
  },
  "nbformat": 4,
  "nbformat_minor": 4
}
