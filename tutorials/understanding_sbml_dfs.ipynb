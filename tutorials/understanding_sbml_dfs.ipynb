{
  "cells": [
    {
      "cell_type": "markdown",
      "metadata": {},
      "source": [
        "---\n",
        "title: \"Tutorial - Understanding the SBML DFs Pathway Format\"\n",
        "author: \"Shackett\"\n",
        "date: \"`r format(Sys.time(), '%d %B, %Y')`\"\n",
        "format:\n",
        "  html:\n",
        "    embed-resources: true\n",
        "    code-fold: true\n",
        "    code-summary: \"Show the code\"\n",
        "    toc: true\n",
        "    theme: minty\n",
        "    highlight: tango\n",
        "    code-block-bg: true\n",
        "    code-block-border-left: \"#5BB867\"\n",
        "jupyter: napistu_tutorials\n",
        "---"
      ]
    },
    {
      "cell_type": "code",
      "metadata": {},
      "source": [
        "#| label: config\n",
        "import logging\n",
        "logger = logging.getLogger()\n",
        "logger.setLevel(\"INFO\")\n",
        "\n",
        "import os\n",
        "import pandas as pd\n",
        "from napistu import utils\n",
        "\n",
        "import tutorial_utils\n",
        "\n",
        "config = tutorial_utils.CprConfig(\"config.yaml\", \"understanding_sbml_dfs\")"
      ],
      "execution_count": null,
      "outputs": []
    },
    {
      "cell_type": "markdown",
      "metadata": {},
      "source": [
        "# Overview\n",
        "\n",
        "This tutorial aims to cover:\n",
        "- What is the `SBML_dfs` format?\n",
        "- How are `SBML_dfs` created?\n",
        "- How can they be modified?\n",
        "\n",
        "# Basic Structure\n",
        "\n",
        "The [cpr wiki: sbml_dfs](https://github.com/calico/Open-CPR/wiki/SBML-DFs) provides a detailed overview of the `SBML_dfs` data structure. Here, we'll complement that description by showing the attributes of an actual pathway. To get up-and-running quickly we'll just load an existing `SBML_dfs` object constructed from merging multiple metabolic pathways into a consensus pathway."
      ]
    },
    {
      "cell_type": "code",
      "metadata": {},
      "source": [
        "#| label: load_data\n",
        "sbml_dfs = utils.load_pickle(config.artifacts[\"sbml_dfs\"])"
      ],
      "execution_count": null,
      "outputs": []
    },
    {
      "cell_type": "markdown",
      "metadata": {},
      "source": [
        "## Compartments"
      ]
    },
    {
      "cell_type": "code",
      "metadata": {},
      "source": [
        "#| label: compartments\n",
        "utils.style_df(sbml_dfs.compartments)"
      ],
      "execution_count": null,
      "outputs": []
    },
    {
      "cell_type": "markdown",
      "metadata": {},
      "source": [
        "## Chemical Species (genes, metabolites, complexes, drugs)"
      ]
    },
    {
      "cell_type": "code",
      "metadata": {},
      "source": [
        "#| label: species\n",
        "utils.style_df(sbml_dfs.species.head())"
      ],
      "execution_count": null,
      "outputs": []
    },
    {
      "cell_type": "markdown",
      "metadata": {},
      "source": [
        "## Compartmentalized Species (species in a compartment)"
      ]
    },
    {
      "cell_type": "code",
      "metadata": {},
      "source": [
        "#| label: cspecies\n",
        "utils.style_df(sbml_dfs.compartmentalized_species.head())"
      ],
      "execution_count": null,
      "outputs": []
    },
    {
      "cell_type": "markdown",
      "metadata": {},
      "source": [
        "## Reactions"
      ]
    },
    {
      "cell_type": "code",
      "metadata": {},
      "source": [
        "#| label: reactions\n",
        "utils.style_df(sbml_dfs.reactions.head())"
      ],
      "execution_count": null,
      "outputs": []
    },
    {
      "cell_type": "markdown",
      "metadata": {},
      "source": [
        "## Reactions"
      ]
    },
    {
      "cell_type": "code",
      "metadata": {},
      "source": [
        "#| label: reaction_species\n",
        "utils.style_df(sbml_dfs.reaction_species.head())"
      ],
      "execution_count": null,
      "outputs": []
    },
    {
      "cell_type": "markdown",
      "metadata": {},
      "source": [
        "## Optional attributes (`species_data` and `reactions_data`)\n",
        "\n",
        "We can store additional data with species and reactions allowing us to connect molecular data to our graph. These tables `species_data` and `reactions_data` are discussed in the **adding_data_to_graphs** tutorial.\n",
        "\n",
        "# Identifiers and Sources\n",
        "\n",
        "Many of the core tables in `SBML_dfs` contain a column to track systematic identifiers and/or the information source. For example, `s_Identifiers` tracks a molecule's systematic identifiers while `s_Source` keeps track of the pathways including the molecules (this becomes relevant once we start merging network models; see the **merging_networks_as_a_consensus** tutorial).\n",
        "\n",
        "## Identifiers\n",
        "\n",
        "Identifiers are described in [cpr wiki: identifiers](https://github.com/calico/Open-CPR/wiki/SBML-DFs#identifiers) but here is an actual Identifiers object."
      ]
    },
    {
      "cell_type": "code",
      "metadata": {},
      "source": [
        "#| label: identifiers_a\n",
        "an_identifier = sbml_dfs.species[\"s_Identifiers\"][0]\n",
        "type(an_identifier)"
      ],
      "execution_count": null,
      "outputs": []
    },
    {
      "cell_type": "markdown",
      "metadata": {},
      "source": [
        "At its core `Identifiers` objects are list of dictionaries"
      ]
    },
    {
      "cell_type": "code",
      "metadata": {},
      "source": [
        "#| label: identifiers_b\n",
        "an_identifier.ids"
      ],
      "execution_count": null,
      "outputs": []
    },
    {
      "cell_type": "markdown",
      "metadata": {},
      "source": [
        "Or, reformatted:"
      ]
    },
    {
      "cell_type": "code",
      "metadata": {},
      "source": [
        "#| label: identifiers_c\n",
        "utils.style_df(pd.DataFrame(an_identifier.ids))"
      ],
      "execution_count": null,
      "outputs": []
    },
    {
      "cell_type": "markdown",
      "metadata": {},
      "source": [
        "## Sources\n",
        "\n",
        "While `Identifiers` track the systematic identifiers associated with entities `Source` objects track the pathway representation information came from. For a single-source `SBML_dfs` object its source's will be empty. For consensus model derived by combining multiple pathways, the `Source` object will track the upstream pathways. See [cpr wiki: sources](https://github.com/calico/Open-CPR/wiki/SBML-DFs#sources) for more details. Here, we can look more closely at a representative `Source` object to better understand its structure."
      ]
    },
    {
      "cell_type": "code",
      "metadata": {},
      "source": [
        "#| label: source_a\n",
        "a_source = sbml_dfs.species[\"s_Source\"][0]\n",
        "type(a_source)"
      ],
      "execution_count": null,
      "outputs": []
    },
    {
      "cell_type": "markdown",
      "metadata": {},
      "source": [
        "Source objects core attribute is their `source` pd.DataFrame. Since we are loading an `SBML_dfs` object which was constructed by merging multiple upstream `SBML_dfs` (see dev/create_test_pathway.qmd to see how this was done) the source table tracks which upstream pathway(s) entities came from:"
      ]
    },
    {
      "cell_type": "code",
      "metadata": {},
      "source": [
        "#| label: source_b\n",
        "utils.style_df(a_source.source)"
      ],
      "execution_count": null,
      "outputs": []
    },
    {
      "cell_type": "markdown",
      "metadata": {},
      "source": [
        "When, an `SBML_dfs` model from a single-source is initialized its `Source.source` attributes are generally None. So the presense of source information indicates that the model has been created using the consensus module. This is module is described in the **merging_networks_as_a_consensus** tutorial.\n",
        "\n",
        "# Creating `SBML_dfs`\n",
        "\n",
        "## From a `.sbml` file\n",
        "\n",
        "`SBML_dfs` pathway models can be created in three ways (from a .sbml file, using an edgelist format, and from raw tables). The latter two modes of creating sbml_dfs are shown later in this document but first we'll demonstrate how to create sbml_dfs from .sbml files because it is straight-forward and the sbml convention is arguably the most expressive format for accurately describing molecular mechanisms: [cpr wiki: sbml](https://github.com/calico/Open-CPR/wiki/SBML).\n",
        "\n",
        "Here is how we can load and format the Reactome Glucose Metabolism pathway as an `SBML_dfs` object."
      ]
    },
    {
      "cell_type": "code",
      "metadata": {},
      "source": [
        "#| label: sbml_dfs_from_sbml\n",
        "\n",
        "from napistu import sbml_dfs_core\n",
        "from napistu.ingestion import sbml\n",
        "from napistu import utils\n",
        "\n",
        "EXAMPLE_MODEL = \"reactome_glucose_metabolism.sbml\"\n",
        "test_data = tutorial_utils.locate_test_data()\n",
        "\n",
        "#| label: create_sbml_dfs\n",
        "model_path = os.path.join(test_data, EXAMPLE_MODEL)\n",
        "sbml_model = sbml.SBML(model_path)\n",
        "sbml_dfs = sbml_dfs_core.SBML_dfs(sbml_model)"
      ],
      "execution_count": null,
      "outputs": []
    },
    {
      "cell_type": "markdown",
      "metadata": {},
      "source": [
        "## From the underlying tables"
      ]
    },
    {
      "cell_type": "code",
      "metadata": {},
      "source": [
        "#| label: sbml_dfs_from_tables\n",
        "\n",
        "sbml_tbl_dict = {\n",
        "    \"compartments\": sbml_dfs.compartments,\n",
        "    \"species\": sbml_dfs.species,\n",
        "    \"compartmentalized_species\": sbml_dfs.compartmentalized_species,\n",
        "    \"reactions\": sbml_dfs.reactions,\n",
        "    \"reaction_species\": sbml_dfs.reaction_species,\n",
        "}\n",
        "\n",
        "sbml_dfs_core.SBML_dfs(sbml_tbl_dict).species"
      ],
      "execution_count": null,
      "outputs": []
    },
    {
      "cell_type": "markdown",
      "metadata": {},
      "source": [
        "## From an edgelist\n",
        "\n",
        "**TO DO**\n",
        "\n",
        "\n",
        "# Modifying `sbml_dfs`\n",
        "\n",
        "## Dropping cofactors\n",
        "\n",
        "While cofactors such as ATP and NADH are biologically important they can generate confusion when we translate reactions into networks. For example, a dehydration reaction (X - H20) and a hydration reaction (Y + H20) would not really suggest regulation of Y by X via water. To deal with this issue, for many applications its helpful to remove cofactors."
      ]
    },
    {
      "cell_type": "code",
      "metadata": {},
      "source": [
        "#| label: drop_cofactors\n",
        "from napistu.modify import pathwayannot\n",
        "\n",
        "filtered_pathway = pathwayannot.drop_cofactors(sbml_dfs)"
      ],
      "execution_count": null,
      "outputs": []
    },
    {
      "cell_type": "markdown",
      "metadata": {},
      "source": [
        "## Uncompartmentalizing\n",
        "\n",
        "Compartments are necessary to represent many mechanisms involving transport reactions such as creating a proton transport to fuel the electron transport chain. But, they add complexity which may be unecessary for some applications. By merging compartments we can create an uncompartmentalized model."
      ]
    },
    {
      "cell_type": "code",
      "metadata": {},
      "source": [
        "#| label: uncompartmentalize\n",
        "from napistu.modify import uncompartmentalize\n",
        "\n",
        "one_compartment_sbml_dfs = uncompartmentalize.uncompartmentalize_sbml_dfs(sbml_dfs)"
      ],
      "execution_count": null,
      "outputs": []
    },
    {
      "cell_type": "markdown",
      "metadata": {},
      "source": [
        "## Gap-filling\n",
        "\n",
        "**TO DO**"
      ]
    }
  ],
  "metadata": {
    "kernelspec": {
      "name": "napistu_tutorials",
      "language": "python",
      "display_name": "Napistu - Tutorials",
      "path": "/Users/maya/Library/Jupyter/kernels/napistu_tutorials"
    }
  },
  "nbformat": 4,
  "nbformat_minor": 4
}