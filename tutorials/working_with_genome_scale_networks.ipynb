{
  "cells": [
    {
      "cell_type": "markdown",
      "metadata": {},
      "source": [
        "---\n",
        "title: \"Tutorial - Working with Genome-Scale Networks\"\n",
        "author: \"Shackett\"\n",
        "date: \"May 9th 2025\"\n",
        "---"
      ]
    },
    {
      "cell_type": "code",
      "execution_count": null,
      "metadata": {},
      "outputs": [],
      "source": [
        "#| label: config\n",
        "import logging\n",
        "\n",
        "import pandas as pd\n",
        "\n",
        "from napistu import utils\n",
        "\n",
        "import tutorial_utils\n",
        "\n",
        "logger = logging.getLogger()\n",
        "logger.setLevel(\"INFO\")\n",
        "\n",
        "config = tutorial_utils.CprConfig(\"config.yaml\", \"working_with_genome_scale_pathways\")"
      ]
    },
    {
      "cell_type": "markdown",
      "metadata": {},
      "source": [
        "This notebook demonstrates how to use CPR's network-based approaches to interrogate a prime-time human multi-source pathway model.\n",
        "\n",
        "This model, produced by running `1_workflow_cpr_cli.qmd` combines 5 distinct sources:\n",
        "- Reactome: 2,000+ Reactome pathways aggregated into a single graph of genes, complexes, and molecules.\n",
        "- TRRUST: TF->target regulatory relationships\n",
        "- Recon3D (aka BiGG): a genome-scale metabolic model\n",
        "- STRING: consensus, non-mechanistic interactions\n",
        "- Dogmatic Scaffold - a model which just links cognate, genes, transcript, and proteins to promote merging of like-species.\n",
        "\n",
        "First, we'll load the `sbml_dfs` pathway representation and a `cpr_graph` object which translates this information into a graph of vertices and edges.\n",
        "\n",
        "Then, we'll demo the shortest paths problem, where we try to find the shortest path between two molecular species. On a densely connected network there will be many equally lengths paths most of which are meaningless.\n",
        "\n",
        "TO DO - we need a notebook talking more about edge weighting and passing vertex attributes. When we are using a weighted networks there are few equivalent paths - in this case the shortest weighted paths is the path which minimizes the summed edge weights.\n",
        "\n",
        "Finally, we'll identify a set of neighbors around a focal vertex to build its molecular neighborhood.\n",
        "\n",
        "These approaches are often sped up by precomputing the distances between pairs of molecules. Look at the `1_precomputed_distances.ipynb` if you want to learn more."
      ]
    }
  ],
  "metadata": {
    "kernelspec": {
      "display_name": "Napistu - Tutorials",
      "language": "python",
      "name": "napistu_tutorials",
      "path": "/Users/maya/Library/Jupyter/kernels/napistu_tutorials"
    }
  },
  "nbformat": 4,
  "nbformat_minor": 4
}
