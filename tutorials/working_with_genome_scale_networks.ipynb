{
  "cells": [
    {
      "cell_type": "markdown",
      "metadata": {},
      "source": [
        "---\n",
        "title: \"Tutorial - Working with Genome-Scale Networks\"\n",
        "author: \"Shackett\"\n",
        "date: \"`r format(Sys.time(), '%d %B, %Y')`\"\n",
        "format:\n",
        "  html:\n",
        "    embed-resources: true\n",
        "    code-fold: true\n",
        "    code-summary: \"Show the code\"\n",
        "    toc: true\n",
        "    theme: minty\n",
        "    highlight: tango\n",
        "    code-block-bg: true\n",
        "    code-block-border-left: \"#5BB867\"\n",
        "jupyter: napistu_tutorials\n",
        "---"
      ]
    },
    {
      "cell_type": "code",
      "metadata": {},
      "source": [
        "#| label: config\n",
        "import logging\n",
        "logger = logging.getLogger()\n",
        "logger.setLevel(\"INFO\")\n",
        "\n",
        "import pandas as pd\n",
        "\n",
        "from napistu import utils\n",
        "\n",
        "import tutorial_utils\n",
        "\n",
        "config = tutorial_utils.CprConfig(\"config.yaml\", \"working_with_genome_scale_pathways\")\n",
        "# load Reactome xrefs\n",
        "tutorial_utils.load_tutorial_asset(\"reactome_members\", config)\n",
        "tutorial_utils.load_tutorial_asset(\"reactome_xrefs\", config)"
      ],
      "execution_count": null,
      "outputs": []
    },
    {
      "cell_type": "markdown",
      "metadata": {},
      "source": [
        "## Debugging"
      ]
    },
    {
      "cell_type": "code",
      "metadata": {},
      "source": [
        "sbml_dfs = utils.load_pickle(CONSENSUS_PKL)\n",
        "sbml_dfs.get_network_summary()[\"n_reactions\"]\n",
        "# 1.67 M reactions"
      ],
      "execution_count": null,
      "outputs": []
    },
    {
      "cell_type": "markdown",
      "metadata": {},
      "source": [
        "This notebook demonstrates how to use CPR's network-based approaches to interrogate a prime-time human multi-source pathway model.\n",
        "\n",
        "This model, produced by running `1_workflow_cpr_cli.qmd` combines 5 distinct sources:\n",
        "- Reactome: 2,000+ Reactome pathways aggregated into a single graph of genes, complexes, and molecules.\n",
        "- TRRUST: TF->target regulatory relationships\n",
        "- Recon3D (aka BiGG): a genome-scale metabolic model\n",
        "- STRING: consensus, non-mechanistic interactions\n",
        "- Dogmatic Scaffold - a model which just links cognate, genes, transcript, and proteins to promote merging of like-species.\n",
        "\n",
        "First, we'll load the `sbml_dfs` pathway representation and a `cpr_graph` object which translates this information into a graph of vertices and edges.\n",
        "\n",
        "Then, we'll demo the shortest paths problem, where we try to find the shortest path between two molecular species. On a densely connected network there will be many equally lengths paths most of which are meaningless.\n",
        "\n",
        "TO DO - we need a notebook talking more about edge weighting and passing vertex attributes. When we are using a weighted networks there are few equivalent paths - in this case the shortest weighted paths is the path which minimizes the summed edge weights.\n",
        "\n",
        "Finally, we'll identify a set of neighbors around a focal vertex to build its molecular neighborhood.\n",
        "\n",
        "These approaches are often sped up by precomputing the distances between pairs of molecules. Look at the `1_precomputed_distances.ipynb` if you want to learn more."
      ]
    }
  ],
  "metadata": {
    "kernelspec": {
      "name": "napistu_tutorials",
      "language": "python",
      "display_name": "Napistu - Tutorials",
      "path": "/Users/maya/Library/Jupyter/kernels/napistu_tutorials"
    }
  },
  "nbformat": 4,
  "nbformat_minor": 4
}