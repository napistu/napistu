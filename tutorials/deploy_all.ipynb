{
 "cells": [
  {
   "cell_type": "code",
   "execution_count": null,
   "metadata": {},
   "outputs": [],
   "source": [
    "import logging\n",
    "logger = logging.getLogger()\n",
    "logger.setLevel(\"DEBUG\")\n",
    "\n",
    "import tutorial_utils\n",
    "\n",
    "CONNECT_SERVERS_SETTINGS = {\n",
    "    \"public\": {\n",
    "        \"url\": \"<<PATH_TO_POSIT_CONNECT_SERVER\",\n",
    "        \"pat_secret_name\": \"<<API_KEY>>\"\n",
    "    }\n",
    "}"
   ]
  },
  {
   "cell_type": "code",
   "execution_count": null,
   "metadata": {},
   "outputs": [],
   "source": [
    "config = tutorial_utils.CprConfig(\"config.yaml\", \"understanding_sbml_dfs\")\n",
    "config.deploy(\"public\", CONNECT_SERVERS_SETTINGS, venv_path = \"env\")"
   ]
  },
  {
   "cell_type": "code",
   "execution_count": null,
   "metadata": {},
   "outputs": [],
   "source": []
  }
 ],
 "metadata": {
  "kernelspec": {
   "display_name": "Open CPR - Tutorials",
   "language": "python",
   "name": "open_cpr_tutorials"
  },
  "language_info": {
   "codemirror_mode": {
    "name": "ipython",
    "version": 3
   },
   "file_extension": ".py",
   "mimetype": "text/x-python",
   "name": "python",
   "nbconvert_exporter": "python",
   "pygments_lexer": "ipython3",
   "version": "3.11.9"
  }
 },
 "nbformat": 4,
 "nbformat_minor": 2
}
