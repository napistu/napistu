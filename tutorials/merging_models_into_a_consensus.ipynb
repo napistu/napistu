{
  "cells": [
    {
      "cell_type": "markdown",
      "metadata": {},
      "source": [
        "---\n",
        "title: \"Tutorial - Merging Networks into a Consensus\"\n",
        "author: \"Shackett\"\n",
        "date: \"`r format(Sys.time(), '%d %B, %Y')`\"\n",
        "format:\n",
        "  html:\n",
        "    embed-resources: true\n",
        "    code-fold: true\n",
        "    code-summary: \"Show the code\"\n",
        "    toc: true\n",
        "    theme: minty\n",
        "    highlight: tango\n",
        "    code-block-bg: true\n",
        "    code-block-border-left: \"#5BB867\"\n",
        "jupyter: napistu_tutorials\n",
        "---\n",
        "\n",
        "This notebook will show you how to use the `consensus` module to merge multiple pathway models into a single consensus. A description of the logic and algorithms underpinning the consensus model can be found in the [CPR Wiki](https://github.com/calico/Open-CPR/wiki/Consensus).\n",
        "\n",
        "First, we'll merge a few different Reactome .sbml files into a consensus which are conveniently located the CPR packages test data."
      ]
    },
    {
      "cell_type": "code",
      "metadata": {},
      "source": [
        "#| label: config\n",
        "import logging\n",
        "logger = logging.getLogger()\n",
        "logger.setLevel(\"INFO\")\n",
        "\n",
        "import tutorial_utils\n",
        "config = tutorial_utils.CprConfig(\"config.yaml\", \"merging_models_into_a_consensus\")"
      ],
      "execution_count": null,
      "outputs": []
    },
    {
      "cell_type": "code",
      "metadata": {},
      "source": [
        "pw_index = indices.PWIndex(os.path.join(test_data, \"pw_index.tsv\"))\n",
        "sbml_dfs_dict = consensus.construct_sbml_dfs_dict(pw_index)\n",
        "\n",
        "consensus_model = consensus.construct_consensus_model(sbml_dfs_dict, pw_index)"
      ],
      "execution_count": null,
      "outputs": []
    }
  ],
  "metadata": {
    "kernelspec": {
      "name": "napistu_tutorials",
      "language": "python",
      "display_name": "Napistu - Tutorials",
      "path": "/Users/maya/Library/Jupyter/kernels/napistu_tutorials"
    }
  },
  "nbformat": 4,
  "nbformat_minor": 4
}