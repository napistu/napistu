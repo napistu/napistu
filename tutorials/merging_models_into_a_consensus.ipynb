{
  "cells": [
    {
      "cell_type": "markdown",
      "metadata": {},
      "source": [
        "---\n",
        "title: \"Tutorial - Merging Networks into a Consensus\"\n",
        "author: \"Shackett\"\n",
        "date: \"May 9th 2025\"\n",
        "---\n",
        "\n",
        "This notebook will show you how to use the `consensus` module to merge multiple pathway models into a single consensus. A description of the logic and algorithms underpinning the consensus model can be found in the [CPR Wiki](https://github.com/calico/Open-CPR/wiki/Consensus).\n",
        "\n",
        "First, we'll merge a few different Reactome .sbml files into a consensus which are conveniently located the CPR packages test data."
      ]
    },
    {
      "cell_type": "code",
      "execution_count": 12,
      "metadata": {},
      "outputs": [],
      "source": [
        "#| label: config\n",
        "import logging\n",
        "logger = logging.getLogger()\n",
        "logger.setLevel(\"INFO\")\n",
        "\n",
        "import tutorial_utils\n",
        "config = tutorial_utils.NapistuConfig(\"config.yaml\", \"merging_models_into_a_consensus\")\n",
        "\n",
        "test_data = tutorial_utils.locate_test_data()"
      ]
    },
    {
      "cell_type": "code",
      "execution_count": 13,
      "metadata": {},
      "outputs": [],
      "source": [
        "import os\n",
        "\n",
        "from napistu import consensus\n",
        "from napistu import indices"
      ]
    },
    {
      "cell_type": "code",
      "execution_count": 14,
      "metadata": {},
      "outputs": [
        {
          "name": "stderr",
          "output_type": "stream",
          "text": [
            "  0%|          | 0/5 [00:00<?, ?it/s]INFO:napistu.consensus:processing Erythrocytes take up carbon dioxide and release oxygen\n",
            "INFO:napistu.utils:creating an edgelist linking index levels s_id, entry and linking it to levels defined by ontology, identifier\n",
            "INFO:napistu.consensus:processing Bicarbonate transporters\n",
            "INFO:napistu.utils:creating an edgelist linking index levels s_id, entry and linking it to levels defined by ontology, identifier\n",
            "INFO:napistu.consensus:processing Erythrocytes take up oxygen and release carbon dioxide\n",
            "INFO:napistu.utils:creating an edgelist linking index levels s_id, entry and linking it to levels defined by ontology, identifier\n",
            " 60%|██████    | 3/5 [00:00<00:00, 28.29it/s]INFO:napistu.consensus:processing Reversible hydration of carbon dioxide\n",
            "INFO:napistu.utils:creating an edgelist linking index levels s_id, entry and linking it to levels defined by ontology, identifier\n",
            "INFO:napistu.consensus:processing Aryl hydrocarbon receptor signalling\n",
            "INFO:napistu.utils:creating an edgelist linking index levels s_id, entry and linking it to levels defined by ontology, identifier\n",
            "100%|██████████| 5/5 [00:00<00:00, 27.14it/s]\n",
            "INFO:napistu.consensus:Reporting possible issues in component models\n",
            "INFO:napistu.sbml_dfs_utils:Running in dogmatic mode - differences genes, transcripts, and proteins will try to be maintained as separate species.\n",
            "INFO:napistu.consensus:Defining compartments based on unique ids\n",
            "INFO:napistu.utils:creating an edgelist linking index levels model, c_id, entry and linking it to levels defined by ontology, identifier\n",
            "INFO:napistu.consensus:Creating source table\n",
            "INFO:napistu.consensus:Aggregating old sources\n",
            "INFO:napistu.consensus:Returning new source table\n",
            "INFO:napistu.consensus:>>>> 13 c_id entries merged into 3\n",
            "INFO:napistu.consensus:Testing for identical formulas of to-be-merged reactions\n",
            "INFO:napistu.consensus:All merges names matched exactly\n",
            "INFO:napistu.consensus:==============================\n",
            "\n",
            "INFO:napistu.consensus:Defining species based on unique ids\n",
            "INFO:napistu.utils:creating an edgelist linking index levels model, s_id, entry and linking it to levels defined by ontology, identifier\n",
            "INFO:napistu.consensus:Creating source table\n",
            "INFO:napistu.consensus:Aggregating old sources\n",
            "INFO:napistu.consensus:Returning new source table\n",
            "INFO:napistu.consensus:>>>> 33 s_id entries merged into 13\n",
            "INFO:napistu.consensus:Testing for identical formulas of to-be-merged reactions\n",
            "INFO:napistu.consensus:All merges names matched exactly\n",
            "INFO:napistu.consensus:==============================\n",
            "\n",
            "INFO:napistu.consensus:Defining compartmentalized species based on unique species x compartments\n",
            "INFO:napistu.consensus:>>>> 50 sc_id entries merged into 18\n",
            "INFO:napistu.consensus:Testing for identical formulas of to-be-merged reactions\n",
            "INFO:napistu.consensus:All merges names matched exactly\n",
            "INFO:napistu.consensus:==============================\n",
            "\n",
            "INFO:napistu.consensus:Creating source table\n",
            "INFO:napistu.consensus:Aggregating old sources\n",
            "INFO:napistu.consensus:Returning new source table\n",
            "INFO:napistu.consensus:Define reactions based on membership of identical compartmentalized species\n",
            "INFO:napistu.consensus:Merging reactions based on identical membership (sc_id + stoichiometry)\n",
            "WARNING:napistu.consensus:No merging occurred for r_id\n",
            "INFO:napistu.consensus:Merging reactions identifiers\n",
            "INFO:napistu.consensus:Merging reactions sources\n",
            "INFO:napistu.consensus:Creating source table\n",
            "INFO:napistu.consensus:Aggregating old sources\n",
            "INFO:napistu.consensus:Returning new source table\n",
            "INFO:napistu.consensus:Annotating reversibility based on merged reactions\n",
            "INFO:napistu.consensus:Define reaction species based on reactions\n",
            "WARNING:napistu.consensus:No merging occurred for rsc_id\n"
          ]
        }
      ],
      "source": [
        "pw_index = indices.PWIndex(os.path.join(test_data, \"pw_index.tsv\"))\n",
        "sbml_dfs_dict = consensus.construct_sbml_dfs_dict(pw_index)\n",
        "\n",
        "consensus_model = consensus.construct_consensus_model(sbml_dfs_dict, pw_index)"
      ]
    }
  ],
  "metadata": {
    "kernelspec": {
      "display_name": ".venv",
      "language": "python",
      "name": "python3"
    },
    "language_info": {
      "codemirror_mode": {
        "name": "ipython",
        "version": 3
      },
      "file_extension": ".py",
      "mimetype": "text/x-python",
      "name": "python",
      "nbconvert_exporter": "python",
      "pygments_lexer": "ipython3",
      "version": "3.11.11"
    }
  },
  "nbformat": 4,
  "nbformat_minor": 4
}
