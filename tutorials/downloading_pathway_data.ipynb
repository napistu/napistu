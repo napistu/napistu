{
  "cells": [
    {
      "cell_type": "markdown",
      "metadata": {},
      "source": [
        "---\n",
        "title: Tutorial - Downloading and Formatting Pathway Data\n",
        "author: \"Shackett\"\n",
        "date: \"May 9th 2025\"\n",
        "---\n",
        "\n",
        "This notebook provides examples for downloading pathway information from a variety of data sources and formatting the results as `sbml_dfs` objects. Since it is often not possible to download just a subset of a data source for demonstration purposes, this notebook will download and cache raw and intermediate representations of each data source."
      ]
    },
    {
      "cell_type": "code",
      "execution_count": 1,
      "metadata": {},
      "outputs": [],
      "source": [
        "#| label: config\n",
        "\n",
        "import tutorial_utils\n",
        "logger = tutorial_utils.setup_clean_logging()\n",
        "config = tutorial_utils.NapistuConfig(\"config.yaml\", \"downloading_pathway_data\")"
      ]
    },
    {
      "cell_type": "code",
      "execution_count": 2,
      "metadata": {},
      "outputs": [],
      "source": [
        "#| label: environment\n",
        "\n",
        "import os\n",
        "import pickle\n",
        "\n",
        "import pandas as pd\n",
        "\n",
        "from napistu import utils\n",
        "from napistu.ingestion import bigg\n",
        "from napistu.ingestion import idea_yeast\n",
        "from napistu.ingestion import intact\n",
        "from napistu.ingestion import omnipath\n",
        "from napistu.ingestion import psi_mi\n",
        "from napistu.ingestion import reactome\n",
        "from napistu.ingestion import reactome_fi\n",
        "from napistu.ingestion import string\n",
        "from napistu.ingestion import trrust\n",
        "\n",
        "def _log(text: str):\n",
        "\n",
        "    banner_str = \"====================================\\n\"\n",
        "    logger.info(f\"\\n{banner_str}{text}\\n{banner_str}\")\n",
        "\n",
        "def _log_skipped(uri: str):\n",
        "    \"\"\" Log that a step was skipped. \"\"\"\n",
        "    logger.info(f\"{uri} exists or overwrite = False\")"
      ]
    },
    {
      "cell_type": "code",
      "execution_count": 3,
      "metadata": {},
      "outputs": [],
      "source": [
        "#| label: globals\n",
        "\n",
        "OVERWRITE = config.overwrite\n",
        "SPECIES = config.species\n",
        "FN_BIGG_SBML_DIR = config.artifacts[\"bigg_sbml_dir\"]\n",
        "FN_BIGG_SBML_DFS = config.artifacts[\"bigg_sbml_dfs\"]\n",
        "FN_IDEA_YEAST_RAW = config.artifacts[\"idea_yeast_raw\"]\n",
        "FN_IDEA_YEAST_SBML_DFS = config.artifacts[\"idea_yeast_sbml_dfs\"]\n",
        "FN_INTACT_DIR = config.artifacts[\"intact_dir\"]\n",
        "FN_INTACT_SBML_DFS = config.artifacts[\"intact_sbml_dfs\"]\n",
        "FN_OMNIPATH_SBML_DFS = config.artifacts[\"omnipath_sbml_dfs\"]\n",
        "FN_REACTOME_SBML_DIR = config.artifacts[\"reactome_sbml_dir\"]\n",
        "FN_REACTOME_SBML_DFS = config.artifacts[\"reactome_sbml_dfs\"]\n",
        "FN_REACTOME_FI_RAW = config.artifacts[\"reactome_fi_raw\"]\n",
        "FN_REACTOME_FI_SBML_DFS = config.artifacts[\"reactome_fi_sbml_dfs\"]\n",
        "FN_STRING_ALIASES = config.artifacts[\"string_aliases\"]\n",
        "FN_STRING_INTERACTIONS = config.artifacts[\"string_interactions\"]\n",
        "FN_STRING_SBML_DFS = config.artifacts[\"string_sbml_dfs\"]\n",
        "FN_TRRUST_RAW = config.artifacts[\"trrust_raw\"]\n",
        "FN_TRRUST_SBML_DFS = config.artifacts[\"trrust_sbml_dfs\"]"
      ]
    },
    {
      "cell_type": "markdown",
      "metadata": {},
      "source": [
        "# Species Agnostic Sources\n",
        "\n",
        "These sources include pathway information which can be broadly applied to a range of species. \n",
        "\n",
        "## STRING"
      ]
    },
    {
      "cell_type": "code",
      "execution_count": 4,
      "metadata": {},
      "outputs": [
        {
          "name": "stderr",
          "output_type": "stream",
          "text": [
            "INFO:__main__:napistu_data/string_interactions.txt exists or overwrite = False\n",
            "INFO:__main__:napistu_data/string_aliases.txt exists or overwrite = False\n",
            "INFO:__main__:napistu_data/string_sbml_dfs.pickle exists or overwrite = False\n"
          ]
        }
      ],
      "source": [
        "#| label: string\n",
        "\n",
        "if not utils.path_exists(FN_STRING_INTERACTIONS) or OVERWRITE:\n",
        "    _log(f\"Downloading STRING interactions to {FN_STRING_INTERACTIONS}\")\n",
        "    string.download_string(FN_STRING_INTERACTIONS, organismal_species = SPECIES)\n",
        "else:\n",
        "    _log_skipped(FN_STRING_INTERACTIONS)\n",
        "\n",
        "if not utils.path_exists(FN_STRING_ALIASES) or OVERWRITE:\n",
        "    _log(f\"Downloading STRING aliases (systematic identifiers) to {FN_STRING_ALIASES}\")\n",
        "    string.download_string_aliases(FN_STRING_ALIASES, organismal_species = SPECIES)\n",
        "else:\n",
        "    _log_skipped(FN_STRING_ALIASES)\n",
        "\n",
        "if not utils.path_exists(FN_STRING_SBML_DFS) or OVERWRITE:\n",
        "    _log(f\"Combining interactions and aliases to create the STRING sbml_dfs at {FN_STRING_SBML_DFS}\")\n",
        "\n",
        "    sbml_dfs = string.convert_string_to_sbml_dfs(\n",
        "        FN_STRING_INTERACTIONS,\n",
        "        FN_STRING_ALIASES,\n",
        "        organismal_species = SPECIES\n",
        "    )\n",
        "    sbml_dfs.validate()\n",
        "\n",
        "    utils.save_pickle(FN_STRING_SBML_DFS, sbml_dfs)\n",
        "\n",
        "else:\n",
        "    _log_skipped(FN_STRING_SBML_DFS)"
      ]
    },
    {
      "cell_type": "markdown",
      "metadata": {},
      "source": [
        "## IntAct"
      ]
    },
    {
      "cell_type": "code",
      "execution_count": 5,
      "metadata": {},
      "outputs": [
        {
          "name": "stderr",
          "output_type": "stream",
          "text": [
            "INFO:__main__:napistu_data/intact exists or overwrite = False\n",
            "INFO:__main__:napistu_data/intact_sbml_dfs.pickle exists or overwrite = False\n"
          ]
        }
      ],
      "source": [
        "#| label: intact\n",
        "\n",
        "if not utils.path_exists(FN_INTACT_DIR) or OVERWRITE:\n",
        "    _log(f\"Downloading IntAct PSI-MI XMLs to {FN_INTACT_DIR}\")\n",
        "    intact.download_intact_xmls(FN_INTACT_DIR, organismal_species = SPECIES)\n",
        "else:\n",
        "    _log_skipped(FN_INTACT_DIR)\n",
        "\n",
        "if not utils.path_exists(FN_INTACT_SBML_DFS) or OVERWRITE:\n",
        "    _log(f\"Aggregating PSI-MI interactions and formatting results as an sbml_dfs at {FN_INTACT_SBML_DFS}\")\n",
        "\n",
        "    formatted_psi_mis = psi_mi.format_psi_mis(FN_INTACT_DIR)\n",
        "    intact_summaries = psi_mi.aggregate_psi_mis(formatted_psi_mis)\n",
        "\n",
        "    sbml_dfs = intact.intact_to_sbml_dfs(\n",
        "        intact_summaries,\n",
        "        organismal_species = SPECIES\n",
        "    )\n",
        "\n",
        "    sbml_dfs.validate()\n",
        "\n",
        "    utils.save_pickle(FN_INTACT_SBML_DFS, sbml_dfs)\n",
        "\n",
        "else:\n",
        "    _log_skipped(FN_INTACT_SBML_DFS)"
      ]
    },
    {
      "cell_type": "markdown",
      "metadata": {},
      "source": [
        "# Species-Biased Sources\n",
        "\n",
        "These sources inform multiple species but their focal point is a single species or a few species. \n",
        "\n",
        "## Reactome"
      ]
    },
    {
      "cell_type": "code",
      "execution_count": 6,
      "metadata": {},
      "outputs": [
        {
          "name": "stderr",
          "output_type": "stream",
          "text": [
            "INFO:__main__:napistu_data/reactome_sbmls exists or overwrite = False\n",
            "INFO:__main__:napistu_data/reactome_sbml_dfs.pickle exists or overwrite = False\n"
          ]
        }
      ],
      "source": [
        "#| label: reactome\n",
        "\n",
        "if not os.path.isdir(FN_REACTOME_SBML_DIR) or OVERWRITE:\n",
        "    _log(f\"Downloading the Reactome pan-species tar-ball and unpacking to a directory of .sbml files at {FN_REACTOME_SBML_DIR}\")\n",
        "    reactome.reactome_sbml_download(FN_REACTOME_SBML_DIR, overwrite=OVERWRITE)\n",
        "else:\n",
        "    _log_skipped(FN_REACTOME_SBML_DIR)\n",
        "\n",
        "if not utils.path_exists(FN_REACTOME_SBML_DFS) or OVERWRITE:\n",
        "    _log(f\"Merging Reactome .sbml files into an sbml_dfs model at {FN_REACTOME_SBML_DFS}\")\n",
        "\n",
        "    pw_index_uri = os.path.join(FN_REACTOME_SBML_DIR, \"pw_index.tsv\")\n",
        "    sbml_dfs = reactome.construct_reactome_consensus(\n",
        "        pw_index_uri, organismal_species=SPECIES, strict=False\n",
        "    )\n",
        "    sbml_dfs.validate()\n",
        "\n",
        "    utils.save_pickle(FN_REACTOME_SBML_DFS, sbml_dfs)\n",
        "else:\n",
        "    _log_skipped(FN_REACTOME_SBML_DFS)\n",
        "    "
      ]
    },
    {
      "cell_type": "markdown",
      "metadata": {},
      "source": [
        "## BiGG (metabolic models)"
      ]
    },
    {
      "cell_type": "code",
      "execution_count": 7,
      "metadata": {},
      "outputs": [
        {
          "name": "stderr",
          "output_type": "stream",
          "text": [
            "INFO:__main__:napistu_data/bigg_sbmls exists or overwrite = False\n",
            "INFO:__main__:napistu_data/bigg_sbml_dfs.pickle exists or overwrite = False\n"
          ]
        }
      ],
      "source": [
        "#| label: bigg\n",
        "\n",
        "if not os.path.isdir(FN_BIGG_SBML_DIR) or OVERWRITE:\n",
        "    _log(f\"Download multiple BiGG metabolic models to {FN_BIGG_SBML_DIR}\")\n",
        "    bigg.bigg_sbml_download(FN_BIGG_SBML_DIR, overwrite = OVERWRITE)\n",
        "else:\n",
        "    _log_skipped(FN_BIGG_SBML_DIR)\n",
        "\n",
        "\n",
        "if not utils.path_exists(FN_BIGG_SBML_DFS) or OVERWRITE:\n",
        "    _log(f\"Formatting a BiGG .sbml model as a sbml_dfs model at {FN_BIGG_SBML_DFS}\")\n",
        "\n",
        "    pw_index_uri = os.path.join(FN_BIGG_SBML_DIR, \"pw_index.tsv\")\n",
        "    sbml_dfs = bigg.construct_bigg_consensus(pw_index_uri, organismal_species=SPECIES)\n",
        "    sbml_dfs.validate()\n",
        "\n",
        "    utils.save_pickle(FN_BIGG_SBML_DFS, sbml_dfs)\n",
        "else:\n",
        "    _log_skipped(FN_BIGG_SBML_DFS)\n"
      ]
    },
    {
      "cell_type": "markdown",
      "metadata": {},
      "source": [
        "## OmniPath - human, mouse, rat"
      ]
    },
    {
      "cell_type": "code",
      "execution_count": 8,
      "metadata": {},
      "outputs": [
        {
          "name": "stderr",
          "output_type": "stream",
          "text": [
            "INFO:__main__:napistu_data/omnipath_sbml_dfs.pickle exists or overwrite = False\n"
          ]
        }
      ],
      "source": [
        "#| label: omnipath\n",
        "\n",
        "if not utils.path_exists(FN_OMNIPATH_SBML_DFS) or OVERWRITE:\n",
        "    _log(f\"Downloading OmniPath data and formatting interactions as an sbml_dfs model at {FN_OMNIPATH_SBML_DFS}\")\n",
        "\n",
        "    sbml_dfs = omnipath.format_omnipath_as_sbml_dfs(\n",
        "        organismal_species=SPECIES,\n",
        "        preferred_method=\"bioconductor\",\n",
        "        allow_fallback=True,\n",
        "    )\n",
        "    sbml_dfs.validate()\n",
        "\n",
        "    utils.save_pickle(FN_OMNIPATH_SBML_DFS, sbml_dfs)\n",
        "else:\n",
        "    _log_skipped(FN_OMNIPATH_SBML_DFS)\n"
      ]
    },
    {
      "cell_type": "markdown",
      "metadata": {},
      "source": [
        "# Species-Specific Sources\n",
        "\n",
        "## TRRUST - human"
      ]
    },
    {
      "cell_type": "code",
      "execution_count": 9,
      "metadata": {},
      "outputs": [
        {
          "name": "stderr",
          "output_type": "stream",
          "text": [
            "INFO:__main__:napistu_data/trrust.csv exists or overwrite = False\n",
            "INFO:__main__:napistu_data/trrust_sbml_dfs.pickle exists or overwrite = False\n"
          ]
        }
      ],
      "source": [
        "#| label: trrust \n",
        "\n",
        "if not utils.path_exists(FN_TRRUST_RAW) or OVERWRITE:\n",
        "    _log(f\"Downloading TRRUST to {FN_TRRUST_RAW}\")\n",
        "    trrust.download_trrust(FN_TRRUST_RAW)\n",
        "else:\n",
        "    _log_skipped(FN_TRRUST_RAW)\n",
        "\n",
        "\n",
        "if not utils.path_exists(FN_TRRUST_SBML_DFS) or OVERWRITE:\n",
        "    _log(f\"Processing TRRUST as sbml_dfs at {FN_TRRUST_SBML_DFS}\")\n",
        "    sbml_dfs = trrust.convert_trrust_to_sbml_dfs(FN_TRRUST_RAW)\n",
        "    sbml_dfs.validate()\n",
        "\n",
        "    utils.save_pickle(FN_TRRUST_SBML_DFS, sbml_dfs)\n",
        "else:\n",
        "    _log_skipped(FN_TRRUST_SBML_DFS)\n"
      ]
    },
    {
      "cell_type": "markdown",
      "metadata": {},
      "source": [
        "## Reactome Functional Interactions - human"
      ]
    },
    {
      "cell_type": "code",
      "execution_count": 10,
      "metadata": {},
      "outputs": [
        {
          "name": "stderr",
          "output_type": "stream",
          "text": [
            "INFO:__main__:napistu_data/reactome_fi.tsv exists or overwrite = False\n",
            "INFO:__main__:napistu_data/reactome_fi_sbml_dfs.pickle exists or overwrite = False\n"
          ]
        }
      ],
      "source": [
        "#| label: reactome_fi \n",
        "\n",
        "if not utils.path_exists(FN_REACTOME_FI_RAW) or OVERWRITE:\n",
        "    _log(f\"Downloading Reactome FI to {FN_REACTOME_FI_RAW}\")\n",
        "    reactome_fi.download_reactome_fi(FN_REACTOME_FI_RAW)\n",
        "else:\n",
        "    _log_skipped(FN_REACTOME_FI_RAW)\n",
        "\n",
        "if not utils.path_exists(FN_REACTOME_FI_SBML_DFS) or OVERWRITE:\n",
        "    _log(f\"Processing Reactome FI as sbml_dfs at {FN_REACTOME_FI_SBML_DFS}\")\n",
        "    \n",
        "    interactions = pd.read_csv(FN_REACTOME_FI_RAW, sep = \"\\t\")\n",
        "    sbml_dfs = reactome_fi.convert_reactome_fi_to_sbml_dfs(interactions)\n",
        "    sbml_dfs.validate()\n",
        "\n",
        "    utils.save_pickle(FN_REACTOME_FI_SBML_DFS, sbml_dfs)\n",
        "else:\n",
        "    _log_skipped(FN_REACTOME_FI_SBML_DFS)\n"
      ]
    },
    {
      "cell_type": "markdown",
      "metadata": {},
      "source": [
        "## IDEA - yeast"
      ]
    },
    {
      "cell_type": "code",
      "execution_count": 11,
      "metadata": {},
      "outputs": [
        {
          "name": "stderr",
          "output_type": "stream",
          "text": [
            "INFO:__main__:napistu_data/idea_yeast.tsv exists or overwrite = False\n",
            "INFO:__main__:\n",
            "====================================\n",
            "Processing the yeast Induction Dynamics Expression Atlas as sbml_dfs at napistu_data/idea_yeast_sbml_dfs.pickle\n",
            "====================================\n",
            "\n",
            "/Users/sean/Desktop/GITHUB/napistu/dev/.venv/lib/python3.11/site-packages/napistu/ingestion/idea_yeast.py:90: FutureWarning: DataFrameGroupBy.apply operated on the grouping columns. This behavior is deprecated, and in a future version of pandas the grouping columns will be excluded from the operation. Either pass `include_groups=False` to exclude the groupings or explicitly select the grouping columns after groupby to silence this warning.\n",
            "  .apply(_summarize_idea_pairs)\n",
            "WARNING:napistu.sbml_dfs_utils:Replacing 94725 missing values with default value for upstream_compartment: cellular_component\n",
            "WARNING:napistu.sbml_dfs_utils:Replacing 94725 missing values with default value for downstream_compartment: cellular_component\n",
            "WARNING:napistu.sbml_dfs_utils:Replacing 94725 missing values with default value for upstream_sbo_term_name: modifier\n",
            "WARNING:napistu.sbml_dfs_utils:Replacing 94725 missing values with default value for downstream_sbo_term_name: modified\n",
            "WARNING:napistu.sbml_dfs_utils:Replacing 94725 missing values with default value for upstream_stoichiometry: 0\n",
            "WARNING:napistu.sbml_dfs_utils:Replacing 94725 missing values with default value for downstream_stoichiometry: 0\n",
            "WARNING:napistu.sbml_dfs_utils:Replacing 94725 missing values with default value for r_isreversible: False\n",
            "INFO:napistu.sbml_dfs_utils:Saving 6 extra reaction columns as reaction_data: ['v_inter', 'v_final', 't_rise', 't_fall', 'rate', 'directness']\n"
          ]
        }
      ],
      "source": [
        "#| label: idea_yeast \n",
        "\n",
        "if not utils.path_exists(FN_IDEA_YEAST_RAW) or OVERWRITE:\n",
        "    _log(f\"Downloading the yeast Induction Dynamics Expression Atlas to {FN_IDEA_YEAST_RAW}\")\n",
        "    idea_yeast.download_idea(FN_IDEA_YEAST_RAW)\n",
        "else:\n",
        "    _log_skipped(FN_IDEA_YEAST_RAW)\n",
        "\n",
        "if not utils.path_exists(FN_IDEA_YEAST_SBML_DFS) or OVERWRITE:\n",
        "    _log(f\"Processing the yeast Induction Dynamics Expression Atlas as sbml_dfs at {FN_IDEA_YEAST_SBML_DFS}\")\n",
        "    \n",
        "    idea_kinetics = pd.read_csv(FN_IDEA_YEAST_RAW, sep = \"\\t\")\n",
        "    sbml_dfs = idea_yeast.convert_idea_kinetics_to_sbml_dfs(idea_kinetics)\n",
        "    sbml_dfs.validate()\n",
        "\n",
        "    utils.save_pickle(FN_IDEA_YEAST_SBML_DFS, sbml_dfs)\n",
        "else:\n",
        "    _log_skipped(FN_IDEA_YEAST_SBML_DFS)\n"
      ]
    }
  ],
  "metadata": {
    "kernelspec": {
      "display_name": ".venv",
      "language": "python",
      "name": "python3"
    },
    "language_info": {
      "codemirror_mode": {
        "name": "ipython",
        "version": 3
      },
      "file_extension": ".py",
      "mimetype": "text/x-python",
      "name": "python",
      "nbconvert_exporter": "python",
      "pygments_lexer": "ipython3",
      "version": "3.11.13"
    }
  },
  "nbformat": 4,
  "nbformat_minor": 4
}
