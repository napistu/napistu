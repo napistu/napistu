{
  "cells": [
    {
      "cell_type": "markdown",
      "metadata": {},
      "source": [
        "---\n",
        "title: Tutorial - Downloading and Formatting Pathway Data\n",
        "author: \"Shackett\"\n",
        "date: \"August 26th 2025\"\n",
        "---\n",
        "\n",
        "This notebook provides examples for downloading pathway information from a variety of data sources and formatting the results as `sbml_dfs` objects. Since it is often not possible to download just a subset of a data source for demonstration purposes, this notebook will download and cache raw and intermediate representations of each data source."
      ]
    },
    {
      "cell_type": "code",
      "execution_count": 1,
      "metadata": {},
      "outputs": [],
      "source": [
        "#| label: config\n",
        "\n",
        "import tutorial_utils\n",
        "logger = tutorial_utils.setup_clean_logging()\n",
        "config = tutorial_utils.NapistuConfig(\"config.yaml\", \"downloading_pathway_data\")"
      ]
    },
    {
      "cell_type": "code",
      "execution_count": 2,
      "metadata": {},
      "outputs": [],
      "source": [
        "#| label: environment\n",
        "\n",
        "import os\n",
        "import pickle\n",
        "\n",
        "import pandas as pd\n",
        "\n",
        "from napistu import utils\n",
        "from napistu.ingestion import bigg\n",
        "from napistu.ingestion import idea_yeast\n",
        "from napistu.ingestion import intact\n",
        "from napistu.ingestion import omnipath\n",
        "from napistu.ingestion import psi_mi\n",
        "from napistu.ingestion import reactome\n",
        "from napistu.ingestion import reactome_fi\n",
        "from napistu.ingestion import string\n",
        "from napistu.ingestion import trrust\n",
        "\n",
        "def _log(text: str):\n",
        "\n",
        "    banner_str = \"====================================\\n\"\n",
        "    logger.info(f\"\\n{banner_str}{text}\\n{banner_str}\")\n",
        "\n",
        "def _log_skipped(uri: str):\n",
        "    \"\"\" Log that a step was skipped. \"\"\"\n",
        "    logger.info(f\"{uri} exists or overwrite = False\")"
      ]
    },
    {
      "cell_type": "code",
      "execution_count": 3,
      "metadata": {},
      "outputs": [],
      "source": [
        "#| label: globals\n",
        "\n",
        "OVERWRITE = config.overwrite\n",
        "SPECIES = config.species\n",
        "FN_BIGG_SBML_DIR = config.artifacts[\"bigg_sbml_dir\"]\n",
        "FN_BIGG_SBML_DFS = config.artifacts[\"bigg_sbml_dfs\"]\n",
        "FN_IDEA_YEAST_RAW = config.artifacts[\"idea_yeast_raw\"]\n",
        "FN_IDEA_YEAST_SBML_DFS = config.artifacts[\"idea_yeast_sbml_dfs\"]\n",
        "FN_INTACT_DIR = config.artifacts[\"intact_dir\"]\n",
        "FN_INTACT_SBML_DFS = config.artifacts[\"intact_sbml_dfs\"]\n",
        "FN_OMNIPATH_SBML_DFS = config.artifacts[\"omnipath_sbml_dfs\"]\n",
        "FN_REACTOME_SBML_DIR = config.artifacts[\"reactome_sbml_dir\"]\n",
        "FN_REACTOME_SBML_DFS = config.artifacts[\"reactome_sbml_dfs\"]\n",
        "FN_REACTOME_FI_RAW = config.artifacts[\"reactome_fi_raw\"]\n",
        "FN_REACTOME_FI_SBML_DFS = config.artifacts[\"reactome_fi_sbml_dfs\"]\n",
        "FN_STRING_ALIASES = config.artifacts[\"string_aliases\"]\n",
        "FN_STRING_INTERACTIONS = config.artifacts[\"string_interactions\"]\n",
        "FN_STRING_SBML_DFS = config.artifacts[\"string_sbml_dfs\"]\n",
        "FN_TRRUST_RAW = config.artifacts[\"trrust_raw\"]\n",
        "FN_TRRUST_SBML_DFS = config.artifacts[\"trrust_sbml_dfs\"]"
      ]
    },
    {
      "cell_type": "markdown",
      "metadata": {},
      "source": [
        "# Species Agnostic Sources\n",
        "\n",
        "These sources include pathway information which can be broadly applied to a range of species. \n",
        "\n",
        "## STRING"
      ]
    },
    {
      "cell_type": "code",
      "execution_count": 4,
      "metadata": {},
      "outputs": [
        {
          "name": "stderr",
          "output_type": "stream",
          "text": [
            "INFO:__main__:napistu_data/string_interactions.txt exists or overwrite = False\n",
            "INFO:__main__:napistu_data/string_aliases.txt exists or overwrite = False\n",
            "INFO:__main__:napistu_data/string_sbml_dfs.pickle exists or overwrite = False\n"
          ]
        }
      ],
      "source": [
        "#| label: string\n",
        "\n",
        "if not utils.path_exists(FN_STRING_INTERACTIONS) or OVERWRITE:\n",
        "    _log(f\"Downloading STRING interactions to {FN_STRING_INTERACTIONS}\")\n",
        "    string.download_string(FN_STRING_INTERACTIONS, organismal_species = SPECIES)\n",
        "else:\n",
        "    _log_skipped(FN_STRING_INTERACTIONS)\n",
        "\n",
        "if not utils.path_exists(FN_STRING_ALIASES) or OVERWRITE:\n",
        "    _log(f\"Downloading STRING aliases (systematic identifiers) to {FN_STRING_ALIASES}\")\n",
        "    string.download_string_aliases(FN_STRING_ALIASES, organismal_species = SPECIES)\n",
        "else:\n",
        "    _log_skipped(FN_STRING_ALIASES)\n",
        "\n",
        "if not utils.path_exists(FN_STRING_SBML_DFS) or OVERWRITE:\n",
        "    _log(f\"Combining interactions and aliases to create the STRING sbml_dfs at {FN_STRING_SBML_DFS}\")\n",
        "\n",
        "    sbml_dfs = string.convert_string_to_sbml_dfs(\n",
        "        FN_STRING_INTERACTIONS,\n",
        "        FN_STRING_ALIASES,\n",
        "        organismal_species = SPECIES\n",
        "    )\n",
        "    sbml_dfs.validate()\n",
        "\n",
        "    utils.save_pickle(FN_STRING_SBML_DFS, sbml_dfs)\n",
        "\n",
        "else:\n",
        "    _log_skipped(FN_STRING_SBML_DFS)"
      ]
    },
    {
      "cell_type": "markdown",
      "metadata": {},
      "source": [
        "## IntAct"
      ]
    },
    {
      "cell_type": "code",
      "execution_count": 5,
      "metadata": {},
      "outputs": [
        {
          "name": "stderr",
          "output_type": "stream",
          "text": [
            "INFO:__main__:napistu_data/intact exists or overwrite = False\n",
            "INFO:__main__:napistu_data/intact_sbml_dfs.pickle exists or overwrite = False\n"
          ]
        }
      ],
      "source": [
        "#| label: intact\n",
        "\n",
        "if not utils.path_exists(FN_INTACT_DIR) or OVERWRITE:\n",
        "    _log(f\"Downloading IntAct PSI-MI XMLs to {FN_INTACT_DIR}\")\n",
        "    intact.download_intact_xmls(FN_INTACT_DIR, organismal_species = SPECIES)\n",
        "else:\n",
        "    _log_skipped(FN_INTACT_DIR)\n",
        "\n",
        "if not utils.path_exists(FN_INTACT_SBML_DFS) or OVERWRITE:\n",
        "    _log(f\"Aggregating PSI-MI interactions and formatting results as an sbml_dfs at {FN_INTACT_SBML_DFS}\")\n",
        "\n",
        "    formatted_psi_mis = psi_mi.format_psi_mis(FN_INTACT_DIR)\n",
        "    intact_summaries = psi_mi.aggregate_psi_mis(formatted_psi_mis)\n",
        "\n",
        "    sbml_dfs = intact.intact_to_sbml_dfs(\n",
        "        intact_summaries,\n",
        "        organismal_species = SPECIES\n",
        "    )\n",
        "\n",
        "    sbml_dfs.validate()\n",
        "\n",
        "    utils.save_pickle(FN_INTACT_SBML_DFS, sbml_dfs)\n",
        "\n",
        "else:\n",
        "    _log_skipped(FN_INTACT_SBML_DFS)"
      ]
    },
    {
      "cell_type": "markdown",
      "metadata": {},
      "source": [
        "# Species-Biased Sources\n",
        "\n",
        "These sources inform multiple species but their focal point is a single species or a few species. \n",
        "\n",
        "## Reactome"
      ]
    },
    {
      "cell_type": "code",
      "execution_count": 6,
      "metadata": {},
      "outputs": [
        {
          "name": "stderr",
          "output_type": "stream",
          "text": [
            "INFO:__main__:napistu_data/reactome_sbmls exists or overwrite = False\n",
            "INFO:__main__:napistu_data/reactome_sbml_dfs.pickle exists or overwrite = False\n"
          ]
        }
      ],
      "source": [
        "#| label: reactome\n",
        "\n",
        "if not os.path.isdir(FN_REACTOME_SBML_DIR) or OVERWRITE:\n",
        "    _log(f\"Downloading the Reactome pan-species tar-ball and unpacking to a directory of .sbml files at {FN_REACTOME_SBML_DIR}\")\n",
        "    reactome.reactome_sbml_download(FN_REACTOME_SBML_DIR, overwrite=OVERWRITE)\n",
        "else:\n",
        "    _log_skipped(FN_REACTOME_SBML_DIR)\n",
        "\n",
        "if not utils.path_exists(FN_REACTOME_SBML_DFS) or OVERWRITE:\n",
        "    _log(f\"Merging Reactome .sbml files into an sbml_dfs model at {FN_REACTOME_SBML_DFS}\")\n",
        "\n",
        "    pw_index_uri = os.path.join(FN_REACTOME_SBML_DIR, \"pw_index.tsv\")\n",
        "    sbml_dfs = reactome.construct_reactome_consensus(\n",
        "        pw_index_uri, organismal_species=SPECIES, strict=False\n",
        "    )\n",
        "    sbml_dfs.validate()\n",
        "\n",
        "    utils.save_pickle(FN_REACTOME_SBML_DFS, sbml_dfs)\n",
        "else:\n",
        "    _log_skipped(FN_REACTOME_SBML_DFS)\n",
        "    "
      ]
    },
    {
      "cell_type": "markdown",
      "metadata": {},
      "source": [
        "## BiGG (metabolic models)"
      ]
    },
    {
      "cell_type": "code",
      "execution_count": 7,
      "metadata": {},
      "outputs": [
        {
          "name": "stderr",
          "output_type": "stream",
          "text": [
            "INFO:__main__:napistu_data/bigg_sbmls exists or overwrite = False\n",
            "INFO:__main__:napistu_data/bigg_sbml_dfs.pickle exists or overwrite = False\n"
          ]
        }
      ],
      "source": [
        "#| label: bigg\n",
        "\n",
        "if not os.path.isdir(FN_BIGG_SBML_DIR) or OVERWRITE:\n",
        "    _log(f\"Download multiple BiGG metabolic models to {FN_BIGG_SBML_DIR}\")\n",
        "    bigg.bigg_sbml_download(FN_BIGG_SBML_DIR, overwrite = OVERWRITE)\n",
        "else:\n",
        "    _log_skipped(FN_BIGG_SBML_DIR)\n",
        "\n",
        "\n",
        "if not utils.path_exists(FN_BIGG_SBML_DFS) or OVERWRITE:\n",
        "    _log(f\"Formatting a BiGG .sbml model as a sbml_dfs model at {FN_BIGG_SBML_DFS}\")\n",
        "\n",
        "    pw_index_uri = os.path.join(FN_BIGG_SBML_DIR, \"pw_index.tsv\")\n",
        "    sbml_dfs = bigg.construct_bigg_consensus(pw_index_uri, organismal_species=SPECIES)\n",
        "    sbml_dfs.validate()\n",
        "\n",
        "    utils.save_pickle(FN_BIGG_SBML_DFS, sbml_dfs)\n",
        "else:\n",
        "    _log_skipped(FN_BIGG_SBML_DFS)\n"
      ]
    },
    {
      "cell_type": "markdown",
      "metadata": {},
      "source": [
        "## OmniPath - human, mouse, rat"
      ]
    },
    {
      "cell_type": "code",
      "execution_count": 8,
      "metadata": {},
      "outputs": [
        {
          "name": "stderr",
          "output_type": "stream",
          "text": [
            "INFO:__main__:napistu_data/omnipath_sbml_dfs.pickle exists or overwrite = False\n"
          ]
        }
      ],
      "source": [
        "#| label: omnipath\n",
        "\n",
        "if not utils.path_exists(FN_OMNIPATH_SBML_DFS) or OVERWRITE:\n",
        "    _log(f\"Downloading OmniPath data and formatting interactions as an sbml_dfs model at {FN_OMNIPATH_SBML_DFS}\")\n",
        "\n",
        "    sbml_dfs = omnipath.format_omnipath_as_sbml_dfs(\n",
        "        organismal_species=SPECIES,\n",
        "        preferred_method=\"bioconductor\",\n",
        "        allow_fallback=True,\n",
        "    )\n",
        "    sbml_dfs.validate()\n",
        "\n",
        "    utils.save_pickle(FN_OMNIPATH_SBML_DFS, sbml_dfs)\n",
        "else:\n",
        "    _log_skipped(FN_OMNIPATH_SBML_DFS)\n"
      ]
    },
    {
      "cell_type": "markdown",
      "metadata": {},
      "source": [
        "# Species-Specific Sources\n",
        "\n",
        "## TRRUST - human"
      ]
    },
    {
      "cell_type": "code",
      "execution_count": 9,
      "metadata": {},
      "outputs": [
        {
          "name": "stderr",
          "output_type": "stream",
          "text": [
            "INFO:__main__:napistu_data/trrust.csv exists or overwrite = False\n",
            "INFO:__main__:napistu_data/trrust_sbml_dfs.pickle exists or overwrite = False\n"
          ]
        }
      ],
      "source": [
        "#| label: trrust \n",
        "\n",
        "if not utils.path_exists(FN_TRRUST_RAW) or OVERWRITE:\n",
        "    _log(f\"Downloading TRRUST to {FN_TRRUST_RAW}\")\n",
        "    trrust.download_trrust(FN_TRRUST_RAW)\n",
        "else:\n",
        "    _log_skipped(FN_TRRUST_RAW)\n",
        "\n",
        "\n",
        "if not utils.path_exists(FN_TRRUST_SBML_DFS) or OVERWRITE:\n",
        "    _log(f\"Processing TRRUST as sbml_dfs at {FN_TRRUST_SBML_DFS}\")\n",
        "    sbml_dfs = trrust.convert_trrust_to_sbml_dfs(FN_TRRUST_RAW)\n",
        "    sbml_dfs.validate()\n",
        "\n",
        "    utils.save_pickle(FN_TRRUST_SBML_DFS, sbml_dfs)\n",
        "else:\n",
        "    _log_skipped(FN_TRRUST_SBML_DFS)\n"
      ]
    },
    {
      "cell_type": "markdown",
      "metadata": {},
      "source": [
        "## Reactome Functional Interactions - human"
      ]
    },
    {
      "cell_type": "code",
      "execution_count": 10,
      "metadata": {},
      "outputs": [
        {
          "name": "stderr",
          "output_type": "stream",
          "text": [
            "INFO:__main__:napistu_data/reactome_fi.tsv exists or overwrite = False\n",
            "INFO:__main__:napistu_data/reactome_fi_sbml_dfs.pickle exists or overwrite = False\n"
          ]
        }
      ],
      "source": [
        "#| label: reactome_fi \n",
        "\n",
        "if not utils.path_exists(FN_REACTOME_FI_RAW) or OVERWRITE:\n",
        "    _log(f\"Downloading Reactome FI to {FN_REACTOME_FI_RAW}\")\n",
        "    reactome_fi.download_reactome_fi(FN_REACTOME_FI_RAW)\n",
        "else:\n",
        "    _log_skipped(FN_REACTOME_FI_RAW)\n",
        "\n",
        "if not utils.path_exists(FN_REACTOME_FI_SBML_DFS) or OVERWRITE:\n",
        "    _log(f\"Processing Reactome FI as sbml_dfs at {FN_REACTOME_FI_SBML_DFS}\")\n",
        "    \n",
        "    interactions = pd.read_csv(FN_REACTOME_FI_RAW, sep = \"\\t\")\n",
        "    sbml_dfs = reactome_fi.convert_reactome_fi_to_sbml_dfs(interactions)\n",
        "    sbml_dfs.validate()\n",
        "\n",
        "    utils.save_pickle(FN_REACTOME_FI_SBML_DFS, sbml_dfs)\n",
        "else:\n",
        "    _log_skipped(FN_REACTOME_FI_SBML_DFS)\n"
      ]
    },
    {
      "cell_type": "markdown",
      "metadata": {},
      "source": [
        "## IDEA - yeast"
      ]
    },
    {
      "cell_type": "code",
      "execution_count": 11,
      "metadata": {},
      "outputs": [
        {
          "name": "stderr",
          "output_type": "stream",
          "text": [
            "INFO:__main__:napistu_data/idea_yeast.tsv exists or overwrite = False\n",
            "INFO:__main__:napistu_data/idea_yeast_sbml_dfs.pickle exists or overwrite = False\n"
          ]
        }
      ],
      "source": [
        "#| label: idea_yeast \n",
        "\n",
        "if not utils.path_exists(FN_IDEA_YEAST_RAW) or OVERWRITE:\n",
        "    _log(f\"Downloading the yeast Induction Dynamics Expression Atlas to {FN_IDEA_YEAST_RAW}\")\n",
        "    idea_yeast.download_idea(FN_IDEA_YEAST_RAW)\n",
        "else:\n",
        "    _log_skipped(FN_IDEA_YEAST_RAW)\n",
        "\n",
        "if not utils.path_exists(FN_IDEA_YEAST_SBML_DFS) or OVERWRITE:\n",
        "    _log(f\"Processing the yeast Induction Dynamics Expression Atlas as sbml_dfs at {FN_IDEA_YEAST_SBML_DFS}\")\n",
        "    \n",
        "    idea_kinetics = pd.read_csv(FN_IDEA_YEAST_RAW, sep = \"\\t\")\n",
        "    sbml_dfs = idea_yeast.convert_idea_kinetics_to_sbml_dfs(idea_kinetics)\n",
        "    sbml_dfs.validate()\n",
        "\n",
        "    utils.save_pickle(FN_IDEA_YEAST_SBML_DFS, sbml_dfs)\n",
        "else:\n",
        "    _log_skipped(FN_IDEA_YEAST_SBML_DFS)\n"
      ]
    },
    {
      "cell_type": "code",
      "execution_count": 12,
      "metadata": {},
      "outputs": [],
      "source": [
        "from napistu.sbml_dfs_core import SBML_dfs\n",
        "from napistu import consensus"
      ]
    },
    {
      "cell_type": "code",
      "execution_count": 13,
      "metadata": {},
      "outputs": [
        {
          "name": "stderr",
          "output_type": "stream",
          "text": [
            "INFO:napistu.consensus:Reporting possible issues in component models\n",
            "INFO:napistu.consensus:Some defining identifiers are present multiple times in OmniPath and will likely result in species merging \n",
            "INFO:napistu.consensus:signor has 11 duplicates including: SIGNOR-C215 (3), SIGNOR-C496 (4), SIGNOR-C425 (6), SIGNOR-C430 (2), SIGNOR-C495 (4)\n",
            "smiles has 2 duplicates including: C1=CC(=CC=C1CCC2=CNC3=C2C(=O)NC(=N3)N)C(=O)N[C@@H](CCC(=O)[O-])C(=O)[O-].[Na+].[Na+] (2), C[N+](C)(C)CCOC(=O)N.[Cl-] (2)\n",
            "INFO:napistu.sbml_dfs_utils:Running in dogmatic mode - differences genes, transcripts, and proteins will try to be maintained as separate species.\n",
            "INFO:napistu.consensus:Defining compartments based on unique ids\n",
            "INFO:napistu.utils:creating an edgelist linking index levels model, c_id, entry and linking it to levels defined by ontology, identifier\n",
            "INFO:napistu.consensus:Creating source table\n",
            "INFO:napistu.consensus:Aggregating old sources\n",
            "INFO:napistu.consensus:Returning new source table\n",
            "INFO:napistu.consensus:>>>> 3 c_id entries merged into 1\n",
            "INFO:napistu.consensus:Testing for identical formulas of to-be-merged reactions\n",
            "INFO:napistu.consensus:All merges names matched exactly\n",
            "INFO:napistu.consensus:Defining species based on unique ids\n",
            "WARNING:napistu.consensus:3552 entries didn't possess identifiers and thus cannot be merged\n",
            "INFO:napistu.utils:creating an edgelist linking index levels model, s_id, entry and linking it to levels defined by ontology, identifier\n",
            "INFO:napistu.consensus:Creating source table\n",
            "INFO:napistu.consensus:Aggregating old sources\n",
            "INFO:napistu.consensus:Returning new source table\n",
            "INFO:napistu.consensus:>>>> 31712 s_id entries merged into 15697\n",
            "INFO:napistu.consensus:Testing for identical formulas of to-be-merged reactions\n",
            "WARNING:napistu.consensus:\n",
            "15697 merges were of entities with distinct names, including:\n",
            "\n",
            "WARNING:napistu.consensus:ribonuclease A family member 4 & rnas4_human\n",
            "\n",
            "pleckstrin homology like domain family A member 3 & phla3_human\n",
            "\n",
            "mitochondrial ribosomal protein L13 & rm13_human\n",
            "\n",
            "SHC adaptor protein 3 & shc3_human\n",
            "\n",
            "threonyl-tRNA synthetase 2, mitochondrial & sytm_human\n",
            "\n",
            "INFO:napistu.consensus:Defining compartmentalized species based on unique species x compartments\n",
            "INFO:napistu.consensus:>>>> 31060 sc_id entries merged into 15391\n",
            "INFO:napistu.consensus:Testing for identical formulas of to-be-merged reactions\n",
            "WARNING:napistu.consensus:\n",
            "15391 merges were of entities with distinct names, including:\n",
            "\n",
            "WARNING:napistu.consensus:cytochrome c oxidase assembly factor heme A:farnesyltransferase COX10 [cellular_component] & cox10_human [cellular_component]\n",
            "\n",
            "DNA topoisomerase II binding protein 1 [cellular_component] & topb1_human [cellular_component]\n",
            "\n",
            "WRN helicase interacting protein 1 [cellular_component] & wrip1_human [cellular_component]\n",
            "\n",
            "RAB17, member RAS oncogene family [cellular_component] & rab17_human [cellular_component]\n",
            "\n",
            "WD repeat domain 64 [cellular_component] & wdr64_human [cellular_component]\n",
            "\n",
            "INFO:napistu.consensus:Creating source table\n",
            "INFO:napistu.consensus:Aggregating old sources\n",
            "INFO:napistu.consensus:Returning new source table\n",
            "INFO:napistu.consensus:Define reactions based on membership of identical compartmentalized species\n",
            "INFO:napistu.consensus:Merging reactions based on identical membership (sc_id + stoichiometry)\n",
            "INFO:napistu.consensus:>>>> 809237 r_id entries merged into 338399\n",
            "INFO:napistu.consensus:Creating formulas for to-be-merged reactions to help with reporting merges of reactions with inconsistently named reactants\n",
            "/Users/sean/Desktop/GITHUB/napistu/dev/.venv/lib/python3.11/site-packages/napistu/sbml_dfs_core.py:1181: FutureWarning: DataFrameGroupBy.apply operated on the grouping columns. This behavior is deprecated, and in a future version of pandas the grouping columns will be excluded from the operation. Either pass `include_groups=False` to exclude the groupings or explicitly select the grouping columns after groupby to silence this warning.\n",
            "  ).apply(\n",
            "/Users/sean/Desktop/GITHUB/napistu/dev/.venv/lib/python3.11/site-packages/napistu/sbml_dfs_core.py:1181: FutureWarning: DataFrameGroupBy.apply operated on the grouping columns. This behavior is deprecated, and in a future version of pandas the grouping columns will be excluded from the operation. Either pass `include_groups=False` to exclude the groupings or explicitly select the grouping columns after groupby to silence this warning.\n",
            "  ).apply(\n",
            "/Users/sean/Desktop/GITHUB/napistu/dev/.venv/lib/python3.11/site-packages/napistu/sbml_dfs_core.py:1181: FutureWarning: DataFrameGroupBy.apply operated on the grouping columns. This behavior is deprecated, and in a future version of pandas the grouping columns will be excluded from the operation. Either pass `include_groups=False` to exclude the groupings or explicitly select the grouping columns after groupby to silence this warning.\n",
            "  ).apply(\n",
            "/Users/sean/Desktop/GITHUB/napistu/dev/.venv/lib/python3.11/site-packages/napistu/sbml_dfs_core.py:1181: FutureWarning: DataFrameGroupBy.apply operated on the grouping columns. This behavior is deprecated, and in a future version of pandas the grouping columns will be excluded from the operation. Either pass `include_groups=False` to exclude the groupings or explicitly select the grouping columns after groupby to silence this warning.\n",
            "  ).apply(\n",
            "INFO:napistu.consensus:Done creating reaction formulas\n",
            "INFO:napistu.consensus:Testing for identical formulas of to-be-merged reactions\n",
            "WARNING:napistu.consensus:\n",
            "52644 merges were of entities with distinct names, including:\n",
            "\n",
            "WARNING:napistu.consensus:cellular_component: hs71l_human ---- hsf1_human & cellular_component: heat shock protein family A (Hsp70) member 1 like ---- heat shock transcription factor 1\n",
            "\n",
            "cellular_component: bhe40_human ---- snf5_human & cellular_component:  -> SWI/SNF related BAF chromatin remodeling complex subunit B1 ---- modifiers: SWI/SNF related BAF chromatin remodeling complex subunit B1 + basic helix-loop-helix family member e40] & cellular_component:  -> basic helix-loop-helix family member e40 ---- modifiers: SWI/SNF related BAF chromatin remodeling complex subunit B1 + basic helix-loop-helix family member e40]\n",
            "\n",
            "cellular_component: bacd2_human ---- cul3_human & cellular_component:  ->  ---- modifiers: TNF alpha induced protein 1 + cullin 3]\n",
            "\n",
            "cellular_component:  -> YY1 transcription factor ---- modifiers: YY1 transcription factor + tubulin polyglutamylase complex subunit 1] & cellular_component:  -> tubulin polyglutamylase complex subunit 1 ---- modifiers: YY1 transcription factor + tubulin polyglutamylase complex subunit 1]\n",
            "\n",
            "cellular_component: UBB ---- WDR48 & cellular_component:  ->  ---- modifiers: UBB + WDR48]\n",
            "\n",
            "INFO:napistu.consensus:Merging reactions identifiers\n",
            "INFO:napistu.consensus:Merging reactions sources\n",
            "INFO:napistu.consensus:Creating source table\n",
            "INFO:napistu.consensus:Aggregating old sources\n",
            "INFO:napistu.consensus:Returning new source table\n",
            "INFO:napistu.consensus:Annotating reversibility based on merged reactions\n",
            "INFO:napistu.consensus:Define reaction species based on reactions\n",
            "INFO:napistu.consensus:Merging 1 models (OmniPath) with a \"source\" species_data table\n",
            "INFO:napistu.consensus:Merging 1 models (IntAct) with a \"intact\" reactions_data table\n",
            "INFO:napistu.consensus:Merging 1 models (Reactome-FI) with a \"reactome_fi\" reactions_data table\n",
            "INFO:napistu.consensus:Merging 1 models (OmniPath) with a \"source\" reactions_data table\n",
            "WARNING:napistu.consensus:4306 reactions contains multiple values for the is_directed variable in the reactions_data table of source: R00000009: True, False. R00000018: True, False. R00000082: True, False. R00000342: True, False. R00000352: True, False\n",
            "WARNING:napistu.consensus:3978 reactions contains multiple values for the is_stimulation variable in the reactions_data table of source: R00000014: False, True. R00000018: True, False. R00000082: True, False. R00000132: False, True. R00000235: False, True\n",
            "WARNING:napistu.consensus:2574 reactions contains multiple values for the is_inhibition variable in the reactions_data table of source: R00000014: True, False. R00000018: False, True. R00000235: True, False. R00000352: False, True. R00001399: True, False\n",
            "WARNING:napistu.consensus:4432 reactions contains multiple values for the consensus_direction variable in the reactions_data table of source: R00000009: True, False. R00000018: False, True. R00000082: False, True. R00000342: False, True. R00000352: True, False\n",
            "WARNING:napistu.consensus:3994 reactions contains multiple values for the consensus_stimulation variable in the reactions_data table of source: R00000014: False, True. R00000018: True, False. R00000132: False, True. R00000235: False, True. R00000342: False, True\n",
            "WARNING:napistu.consensus:2397 reactions contains multiple values for the consensus_inhibition variable in the reactions_data table of source: R00000014: True, False. R00000018: False, True. R00000235: True, False. R00000352: False, True. R00001399: True, False\n",
            "WARNING:napistu.consensus:6235 reactions contains multiple values for the n_primary_sources variable in the reactions_data table of source: R00000014: 2.0, 1.0. R00000082: 3.0, 2.0. R00000132: 6.0, 2.0. R00000342: 1.0, 3.0. R00000352: 2.0, 1.0\n",
            "WARNING:napistu.consensus:5194 reactions contains multiple values for the n_references variable in the reactions_data table of source: R00000009: 2, 1. R00000010: 1, 2. R00000014: 1, 2. R00000018: 3, 2. R00000082: 2, 1\n",
            "WARNING:napistu.consensus:7823 reactions contains multiple values for the n_sources variable in the reactions_data table of source: R00000008: 2.0, 1.0. R00000009: 5.0, 3.0. R00000010: 2.0, 3.0. R00000018: 4.0, 3.0. R00000082: 5.0, 3.0\n"
          ]
        }
      ],
      "source": [
        "# tmp - creating consensus just from sbml_dfs\n",
        "\n",
        "sbml_dfs_list = [\n",
        "    SBML_dfs.from_pickle(FN_TRRUST_SBML_DFS),\n",
        "    SBML_dfs.from_pickle(FN_OMNIPATH_SBML_DFS),\n",
        "    SBML_dfs.from_pickle(FN_REACTOME_FI_SBML_DFS),\n",
        "    SBML_dfs.from_pickle(FN_INTACT_SBML_DFS)\n",
        "]\n",
        "\n",
        "sbml_dfs_dict, pw_index = consensus.prepare_consensus_model(sbml_dfs_list)\n",
        "sbml_dfs = consensus.construct_consensus_model(sbml_dfs_dict, pw_index)\n",
        "sbml_dfs.validate()"
      ]
    },
    {
      "cell_type": "code",
      "execution_count": null,
      "metadata": {},
      "outputs": [
        {
          "data": {
            "text/plain": [
              "'==== Diagnostics which can be performed prior to merging models ===='"
            ]
          },
          "metadata": {},
          "output_type": "display_data"
        },
        {
          "name": "stderr",
          "output_type": "stream",
          "text": [
            "INFO:napistu.consensus:Shared compartments for compartments are [] before building a consensus model.\n"
          ]
        },
        {
          "data": {
            "text/plain": [
              "'Compartments shared across models: []'"
            ]
          },
          "metadata": {},
          "output_type": "display_data"
        },
        {
          "data": {
            "text/html": [
              "<style type=\"text/css\">\n",
              "#T_94ed0 th {\n",
              "  color: limegreen;\n",
              "}\n",
              "</style>\n",
              "<table id=\"T_94ed0\">\n",
              "  <thead>\n",
              "    <tr>\n",
              "      <th class=\"blank level0\" >&nbsp;</th>\n",
              "      <th id=\"T_94ed0_level0_col0\" class=\"col_heading level0 col0\" >single_sbml_dfs</th>\n",
              "      <th id=\"T_94ed0_level0_col1\" class=\"col_heading level0 col1\" >c_names</th>\n",
              "    </tr>\n",
              "  </thead>\n",
              "  <tbody>\n",
              "    <tr>\n",
              "      <th id=\"T_94ed0_level0_row0\" class=\"row_heading level0 row0\" >0</th>\n",
              "      <td id=\"T_94ed0_row0_col0\" class=\"data row0 col0\" >TRRUST</td>\n",
              "      <td id=\"T_94ed0_row0_col1\" class=\"data row0 col1\" >['nucleoplasm']</td>\n",
              "    </tr>\n",
              "    <tr>\n",
              "      <th id=\"T_94ed0_level0_row1\" class=\"row_heading level0 row1\" >1</th>\n",
              "      <td id=\"T_94ed0_row1_col0\" class=\"data row1 col0\" >OmniPath</td>\n",
              "      <td id=\"T_94ed0_row1_col1\" class=\"data row1 col1\" >['cellular_component']</td>\n",
              "    </tr>\n",
              "    <tr>\n",
              "      <th id=\"T_94ed0_level0_row2\" class=\"row_heading level0 row2\" >2</th>\n",
              "      <td id=\"T_94ed0_row2_col0\" class=\"data row2 col0\" >Reactome-FI</td>\n",
              "      <td id=\"T_94ed0_row2_col1\" class=\"data row2 col1\" >['cellular_component']</td>\n",
              "    </tr>\n",
              "    <tr>\n",
              "      <th id=\"T_94ed0_level0_row3\" class=\"row_heading level0 row3\" >3</th>\n",
              "      <td id=\"T_94ed0_row3_col0\" class=\"data row3 col0\" >IntAct</td>\n",
              "      <td id=\"T_94ed0_row3_col1\" class=\"data row3 col1\" >['cellular_component']</td>\n",
              "    </tr>\n",
              "  </tbody>\n",
              "</table>\n"
            ],
            "text/plain": [
              "<pandas.io.formats.style.Styler at 0x371b76f90>"
            ]
          },
          "metadata": {},
          "output_type": "display_data"
        },
        {
          "name": "stderr",
          "output_type": "stream",
          "text": [
            "INFO:napistu.consensus:Shared ontologies for species are [] before building a consensus model.\n"
          ]
        },
        {
          "data": {
            "text/plain": [
              "'Species ontologies in each among models: []'"
            ]
          },
          "metadata": {},
          "output_type": "display_data"
        },
        {
          "data": {
            "text/html": [
              "<style type=\"text/css\">\n",
              "#T_16c7d th {\n",
              "  color: limegreen;\n",
              "}\n",
              "</style>\n",
              "<table id=\"T_16c7d\">\n",
              "  <thead>\n",
              "    <tr>\n",
              "      <th class=\"blank level0\" >&nbsp;</th>\n",
              "      <th id=\"T_16c7d_level0_col0\" class=\"col_heading level0 col0\" >single_sbml_dfs</th>\n",
              "      <th id=\"T_16c7d_level0_col1\" class=\"col_heading level0 col1\" >ontology</th>\n",
              "    </tr>\n",
              "  </thead>\n",
              "  <tbody>\n",
              "    <tr>\n",
              "      <th id=\"T_16c7d_level0_row0\" class=\"row_heading level0 row0\" >0</th>\n",
              "      <td id=\"T_16c7d_row0_col0\" class=\"data row0 col0\" >TRRUST</td>\n",
              "      <td id=\"T_16c7d_row0_col1\" class=\"data row0 col1\" >['uniprot']</td>\n",
              "    </tr>\n",
              "    <tr>\n",
              "      <th id=\"T_16c7d_level0_row1\" class=\"row_heading level0 row1\" >1</th>\n",
              "      <td id=\"T_16c7d_row1_col0\" class=\"data row1 col0\" >OmniPath</td>\n",
              "      <td id=\"T_16c7d_row1_col1\" class=\"data row1 col1\" >['uniprot', 'pubchem', 'smiles', 'mirbase', 'signor', 'corum']</td>\n",
              "    </tr>\n",
              "    <tr>\n",
              "      <th id=\"T_16c7d_level0_row2\" class=\"row_heading level0 row2\" >2</th>\n",
              "      <td id=\"T_16c7d_row2_col0\" class=\"data row2 col0\" >Reactome-FI</td>\n",
              "      <td id=\"T_16c7d_row2_col1\" class=\"data row2 col1\" >['ncbi_entrez_gene']</td>\n",
              "    </tr>\n",
              "    <tr>\n",
              "      <th id=\"T_16c7d_level0_row3\" class=\"row_heading level0 row3\" >3</th>\n",
              "      <td id=\"T_16c7d_row3_col0\" class=\"data row3 col0\" >IntAct</td>\n",
              "      <td id=\"T_16c7d_row3_col1\" class=\"data row3 col1\" >['intact', 'uniprot']</td>\n",
              "    </tr>\n",
              "  </tbody>\n",
              "</table>\n"
            ],
            "text/plain": [
              "<pandas.io.formats.style.Styler at 0x4825ad490>"
            ]
          },
          "metadata": {},
          "output_type": "display_data"
        }
      ],
      "source": [
        "display(\"==== Diagnostics which can be performed prior to merging models ====\")\n",
        "\n",
        "shared_compartments_list, shared_compartments_df = consensus._pre_consensus_compartment_check(sbml_dfs_dict, \"compartments\")\n",
        "\n",
        "display(f\"Compartments shared by all models: {shared_compartments_list}\")\n",
        "display(utils.style_df(shared_compartments_df))\n",
        "\n",
        "shared_ontologies_list, shared_ontologies_df = consensus._pre_consensus_ontology_check(sbml_dfs_dict, \"species\")\n",
        "display(f\"Species ontologies shared by all models: {shared_ontologies_list}\")\n",
        "display(utils.style_df(shared_ontologies_df))"
      ]
    },
    {
      "cell_type": "code",
      "execution_count": 43,
      "metadata": {},
      "outputs": [
        {
          "data": {
            "text/plain": [
              "'==== Diagnostics which can be performed after merging models ===='"
            ]
          },
          "metadata": {},
          "output_type": "display_data"
        },
        {
          "data": {
            "text/plain": [
              "'Compartments merged from multiple models'"
            ]
          },
          "metadata": {},
          "output_type": "display_data"
        },
        {
          "data": {
            "text/html": [
              "<style type=\"text/css\">\n",
              "#T_791d9 th {\n",
              "  color: limegreen;\n",
              "}\n",
              "</style>\n",
              "<table id=\"T_791d9\">\n",
              "  <thead>\n",
              "    <tr>\n",
              "      <th class=\"blank level0\" >&nbsp;</th>\n",
              "      <th id=\"T_791d9_level0_col0\" class=\"col_heading level0 col0\" >count</th>\n",
              "    </tr>\n",
              "    <tr>\n",
              "      <th class=\"index_name level0\" >pathway</th>\n",
              "      <th class=\"blank col0\" >&nbsp;</th>\n",
              "    </tr>\n",
              "  </thead>\n",
              "  <tbody>\n",
              "    <tr>\n",
              "      <th id=\"T_791d9_level0_row0\" class=\"row_heading level0 row0\" >IntAct protein-protein interaction database + Reactome functional interactions + Intra- & intercellular signaling knowledge</th>\n",
              "      <td id=\"T_791d9_row0_col0\" class=\"data row0 col0\" >1</td>\n",
              "    </tr>\n",
              "    <tr>\n",
              "      <th id=\"T_791d9_level0_row1\" class=\"row_heading level0 row1\" >Transcriptional regulatory interactions database</th>\n",
              "      <td id=\"T_791d9_row1_col0\" class=\"data row1 col0\" >1</td>\n",
              "    </tr>\n",
              "  </tbody>\n",
              "</table>\n"
            ],
            "text/plain": [
              "<pandas.io.formats.style.Styler at 0x543100e90>"
            ]
          },
          "metadata": {},
          "output_type": "display_data"
        },
        {
          "data": {
            "text/plain": [
              "'Source(s) that each compartmentalized species came from'"
            ]
          },
          "metadata": {},
          "output_type": "display_data"
        },
        {
          "data": {
            "text/html": [
              "<style type=\"text/css\">\n",
              "#T_e95b9 th {\n",
              "  color: limegreen;\n",
              "}\n",
              "</style>\n",
              "<table id=\"T_e95b9\">\n",
              "  <thead>\n",
              "    <tr>\n",
              "      <th class=\"blank level0\" >&nbsp;</th>\n",
              "      <th id=\"T_e95b9_level0_col0\" class=\"col_heading level0 col0\" >count</th>\n",
              "    </tr>\n",
              "    <tr>\n",
              "      <th class=\"index_name level0\" >pathway</th>\n",
              "      <th class=\"blank col0\" >&nbsp;</th>\n",
              "    </tr>\n",
              "  </thead>\n",
              "  <tbody>\n",
              "    <tr>\n",
              "      <th id=\"T_e95b9_level0_row0\" class=\"row_heading level0 row0\" >IntAct protein-protein interaction database + Intra- & intercellular signaling knowledge</th>\n",
              "      <td id=\"T_e95b9_row0_col0\" class=\"data row0 col0\" >15378</td>\n",
              "    </tr>\n",
              "    <tr>\n",
              "      <th id=\"T_e95b9_level0_row1\" class=\"row_heading level0 row1\" >Reactome functional interactions</th>\n",
              "      <td id=\"T_e95b9_row1_col0\" class=\"data row1 col0\" >13733</td>\n",
              "    </tr>\n",
              "    <tr>\n",
              "      <th id=\"T_e95b9_level0_row2\" class=\"row_heading level0 row2\" >IntAct protein-protein interaction database</th>\n",
              "      <td id=\"T_e95b9_row2_col0\" class=\"data row2 col0\" >5924</td>\n",
              "    </tr>\n",
              "    <tr>\n",
              "      <th id=\"T_e95b9_level0_row3\" class=\"row_heading level0 row3\" >Intra- & intercellular signaling knowledge</th>\n",
              "      <td id=\"T_e95b9_row3_col0\" class=\"data row3 col0\" >3840</td>\n",
              "    </tr>\n",
              "    <tr>\n",
              "      <th id=\"T_e95b9_level0_row4\" class=\"row_heading level0 row4\" >Transcriptional regulatory interactions database</th>\n",
              "      <td id=\"T_e95b9_row4_col0\" class=\"data row4 col0\" >2862</td>\n",
              "    </tr>\n",
              "  </tbody>\n",
              "</table>\n"
            ],
            "text/plain": [
              "<pandas.io.formats.style.Styler at 0x364cb60d0>"
            ]
          },
          "metadata": {},
          "output_type": "display_data"
        }
      ],
      "source": [
        "\n",
        "display(\"==== Diagnostics which can be performed after merging models ====\")\n",
        "\n",
        "display(\"Compartments merged from multiple models\")\n",
        "display(utils.style_df(consensus._post_consensus_compartment_check(sbml_dfs, \"compartments\")))\n",
        "\n",
        "display(\"Source(s) that each compartmentalized species came from\")\n",
        "display(utils.style_df(consensus._post_consensus_source_check(sbml_dfs, \"compartmentalized_species\")))\n",
        "\n",
        "# consensus._post_consensus_species_ontology_check(sbml_dfs)"
      ]
    }
  ],
  "metadata": {
    "kernelspec": {
      "display_name": ".venv",
      "language": "python",
      "name": "python3"
    },
    "language_info": {
      "codemirror_mode": {
        "name": "ipython",
        "version": 3
      },
      "file_extension": ".py",
      "mimetype": "text/x-python",
      "name": "python",
      "nbconvert_exporter": "python",
      "pygments_lexer": "ipython3",
      "version": "3.11.13"
    }
  },
  "nbformat": 4,
  "nbformat_minor": 4
}
