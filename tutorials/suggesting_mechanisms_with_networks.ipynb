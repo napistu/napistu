{
  "cells": [
    {
      "cell_type": "markdown",
      "metadata": {},
      "source": [
        "---\n",
        "title: \"Tutorial - Suggesting mechanisms with networks\"\n",
        "author: \"Shackett\"\n",
        "date: \"`r format(Sys.time(), '%d %B, %Y')`\"\n",
        "format:\n",
        "  html:\n",
        "    embed-resources: true\n",
        "    code-fold: true\n",
        "    code-summary: \"Show the code\"\n",
        "    toc: true\n",
        "    theme: minty\n",
        "    highlight: tango\n",
        "    code-block-bg: true\n",
        "    code-block-border-left: \"#5BB867\"\n",
        "jupyter: napistu_tutorials\n",
        "---\n",
        "\n",
        "One of the primary goals of CPR is providing network-based answers to biological questions such as:\n",
        "- how are species *X* and *Y* connected?\n",
        "- what are the regulators of *X* and what are its downstream targets?\n",
        "- what are common patterns shared among a set of species: {*X*, *Y*, *Z*, ...}?"
      ]
    },
    {
      "cell_type": "code",
      "metadata": {},
      "source": [
        "#| label: config\n",
        "import logging\n",
        "logger = logging.getLogger()\n",
        "logger.setLevel(\"INFO\")\n",
        "\n",
        "import tutorial_utils\n",
        "config = tutorial_utils.CprConfig(\"config.yaml\", \"suggesting_mechanisms_with_networks\")\n",
        "tutorial_utils.load_tutorial_asset(\"test_pathway\", config)"
      ],
      "execution_count": null,
      "outputs": []
    },
    {
      "cell_type": "code",
      "metadata": {},
      "source": [
        "#| label: env\n",
        "import pandas as pd\n",
        "\n",
        "from napistu import sbml_dfs_core\n",
        "from napistu import mechanism_matching\n",
        "from napistu import utils\n",
        "\n",
        "from napistu.network import net_create\n",
        "from napistu.network import paths\n",
        "from napistu.network import neighborhoods\n",
        "from napistu.network import net_utils\n",
        "\n",
        "sbml_dfs = utils.load_pickle(config.artifacts[\"sbml_dfs\"])\n",
        "cpr_graph = utils.load_pickle(config.artifacts[\"cpr_graph\"])"
      ],
      "execution_count": null,
      "outputs": []
    },
    {
      "cell_type": "markdown",
      "metadata": {},
      "source": [
        "For this tutorial we will work with the \"test pathway\" which is bundled with Open CPR. This is small metabolic model covering human central carbon metabolism. \n",
        "\n",
        "## Overview of `cpr_graph`\n",
        "\n",
        "Before we start exploring the metabolic model as a graph, we can first visualize its overall structure. \n",
        "\n",
        "Doing this we'll create a version of the network using the `surrogate` layout. The key feature of this layout is that it places enzymes downstream of their substrates. This doesn't make sense from a regulatory perspective (the substrate is modified by the enzyme not the other way around), but it does make sense for descriptive visualization of networks. "
      ]
    },
    {
      "cell_type": "code",
      "metadata": {},
      "source": [
        "#| label: create_and_visualize_surrogate_graph\n",
        "# create the surrogate graph\n",
        "cpr_graph_surrogate = net_create.process_cpr_graph(sbml_dfs, graph_type = \"surrogate\")\n",
        "\n",
        "# network visualization\n",
        "neighborhoods.plot_neighborhood(\n",
        "    net_utils.filter_to_largest_subgraph(cpr_graph_surrogate),\n",
        "    name_nodes = True,\n",
        "    plot_size = 2000,\n",
        "    network_layout = \"kk\" \n",
        ")"
      ],
      "execution_count": null,
      "outputs": []
    },
    {
      "cell_type": "markdown",
      "metadata": {},
      "source": [
        "The networks used in cpr are just `igraph` `Graph` object with some additional vertex and edge attributes which are cpr-specific. This allows us to create, manipulate and visualize networks with igraph's extensive library, while also utilize the growing suite of network-based analysis approaches in CPR.\n",
        "\n",
        "## Shortest paths\n",
        "\n",
        "### Define source and destination species\n",
        "\n",
        "As an example we can try and find a pathway between glucose and pyruvate on the graph. "
      ]
    },
    {
      "cell_type": "code",
      "metadata": {},
      "source": [
        "#| label: select_origin_and_dest_species\n",
        "S_NAME_ORIGIN = \"Glc\"\n",
        "S_NAME_DEST = \"PYR\"\n",
        "\n",
        "all_species = sbml_dfs.species[\"s_name\"].tolist()\n",
        "all_species.sort()\n",
        "all_species_str = ', '.join([f\"'{x}'\" for x in all_species])\n",
        "print(all_species_str)"
      ],
      "execution_count": null,
      "outputs": []
    },
    {
      "cell_type": "code",
      "metadata": {},
      "source": [
        "#| label: inspect_source_and_dest\n",
        "species = sbml_dfs.species\n",
        "\n",
        "source_species = species[species[\"s_name\"] == S_NAME_ORIGIN]\n",
        "for spec in source_species.index:\n",
        "    print(\"\\n\" + spec + \"\\n\")\n",
        "    display(sbml_dfs_core.species_status(spec, sbml_dfs))\n",
        "\n",
        "dest_species = species[species[\"s_name\"] == S_NAME_DEST]\n",
        "for spec in dest_species.index:\n",
        "    print(\"\\n\" + spec + \"\\n\")\n",
        "    display(sbml_dfs_core.species_status(spec, sbml_dfs))"
      ],
      "execution_count": null,
      "outputs": []
    },
    {
      "cell_type": "markdown",
      "metadata": {},
      "source": [
        "Since CPR reactions relate molecular species in a specific compartment (compartmentalized species), we need to find the cspecies which match the source and target species. In a compartmentalized model the source and destination species may exist in multiple compartments so we'll try to identify the path from each source cspecies to each destination cspecies."
      ]
    },
    {
      "cell_type": "code",
      "metadata": {},
      "source": [
        "#| label: compartmentalize_for_paths\n",
        "target_species_paths = net_utils.compartmentalize_species_pairs(\n",
        "    sbml_dfs, source_species.index.tolist(), dest_species.index.tolist()\n",
        ")\n",
        "target_species_paths"
      ],
      "execution_count": null,
      "outputs": []
    },
    {
      "cell_type": "markdown",
      "metadata": {},
      "source": [
        "### Find all shortest weighted paths between the source and destination species"
      ]
    },
    {
      "cell_type": "code",
      "metadata": {},
      "source": [
        "#| label: find_shortest_paths\n",
        "(\n",
        "    all_shortest_reaction_paths_df,\n",
        "    all_shortest_reaction_path_edges_df,\n",
        "    edge_sources,\n",
        "    paths_graph,\n",
        ") = paths.find_all_shortest_reaction_paths(\n",
        "    cpr_graph, sbml_dfs, target_species_paths, weight_var=\"weights\"\n",
        ")"
      ],
      "execution_count": null,
      "outputs": []
    },
    {
      "cell_type": "code",
      "metadata": {},
      "source": [
        "#| label: shortest_path\n",
        "with pd.option_context(\n",
        "    \"display.max_rows\", None, \"display.max_columns\", None, \"display.max_colwidth\", None\n",
        "):  # more options can be specified also\n",
        "    display(all_shortest_reaction_path_edges_df.query(\"path == 0\"))\n",
        "    display(all_shortest_reaction_path_edges_df.query(\"path == 0\"))"
      ],
      "execution_count": null,
      "outputs": []
    },
    {
      "cell_type": "code",
      "metadata": {},
      "source": [
        "#| label: plot_shortest_paths\n",
        "paths.plot_shortest_paths(paths_graph)"
      ],
      "execution_count": null,
      "outputs": []
    },
    {
      "cell_type": "markdown",
      "metadata": {},
      "source": [
        "### Scaling Shortest Paths with Mechanism Matching"
      ]
    },
    {
      "cell_type": "code",
      "metadata": {},
      "source": [
        "#| label: mock_edgelist\n",
        "edgelist = pd.DataFrame([\n",
        "    {\"identifier_upstream\" : \"17925\", \"identifier_downstream\" : \"32966\"}, # glu, fbp\n",
        "    {\"identifier_upstream\" : \"57634\", \"identifier_downstream\" : \"32966\"}, # f6p, fbp\n",
        "    {\"identifier_upstream\" : \"32966\", \"identifier_downstream\" : \"57642\"}, # fbp, dhap\n",
        "    {\"identifier_upstream\" : \"17925\", \"identifier_downstream\" : \"15361\"}, # glu, pyr\n",
        "])\n",
        "\n",
        "species_identifiers = sbml_dfs.get_identifiers(\"species\")"
      ],
      "execution_count": null,
      "outputs": []
    },
    {
      "cell_type": "markdown",
      "metadata": {},
      "source": [
        "#### Direct interactions\n",
        "\n",
        "Participants in the same reaction"
      ]
    },
    {
      "cell_type": "code",
      "metadata": {},
      "source": [
        "#| label: direct_interactions\n",
        "direct_interactions = mechanism_matching.filter_to_direct_mechanistic_interactions(\n",
        "    formatted_edgelist=edgelist,\n",
        "    sbml_dfs=sbml_dfs,\n",
        "    species_identifiers=species_identifiers,\n",
        "    ontologies = {\"chebi\"}\n",
        ")\n",
        "\n",
        "utils.style_df(direct_interactions)"
      ],
      "execution_count": null,
      "outputs": []
    },
    {
      "cell_type": "markdown",
      "metadata": {},
      "source": [
        "#### Indirect interactions\n",
        "\n",
        "Finding paths between all pairs of vertices"
      ]
    },
    {
      "cell_type": "code",
      "metadata": {},
      "source": [
        "#| label: indirect_interactions\n",
        "indirect_interactions = mechanism_matching.filter_to_indirect_mechanistic_interactions(\n",
        "    formatted_edgelist=edgelist,\n",
        "    sbml_dfs=sbml_dfs,\n",
        "    species_identifiers=species_identifiers,\n",
        "    cpr_graph=cpr_graph,\n",
        "    ontologies = {\"chebi\"},\n",
        "    precomputed_distances=None,\n",
        "    max_path_length=10,\n",
        ")\n",
        "\n",
        "utils.style_df(indirect_interactions.assign(vpath = \"###\").assign(epath = \"###\"))"
      ],
      "execution_count": null,
      "outputs": []
    },
    {
      "cell_type": "markdown",
      "metadata": {},
      "source": [
        "## Find neighbors within N steps of a species"
      ]
    },
    {
      "cell_type": "code",
      "metadata": {},
      "source": [
        "#| label: create_hourglass\n",
        "# select the focal species to center the neighborhood on (like in the previous examples we'll use glucose\n",
        "\n",
        "focal_species = species[species[\"s_name\"] == S_NAME_ORIGIN].index.tolist()\n",
        "\n",
        "focal_sc_species = net_utils.compartmentalize_species(sbml_dfs, focal_species)[\"sc_id\"].tolist()\n",
        "\n",
        "neighbors = neighborhoods.find_neighborhoods(\n",
        "    sbml_dfs,\n",
        "    cpr_graph,\n",
        "    compartmentalized_species=focal_sc_species,\n",
        "    network_type=\"hourglass\",\n",
        "    order=6,\n",
        ")\n",
        "\n",
        "pruned_neighborhoods = neighborhoods.prune_neighborhoods(neighbors, top_n=10)\n",
        "\n",
        "neighborhoods.plot_neighborhood(\n",
        "    pruned_neighborhoods[focal_sc_species[0]][\"graph\"], True\n",
        ")"
      ],
      "execution_count": null,
      "outputs": []
    }
  ],
  "metadata": {
    "kernelspec": {
      "name": "napistu_tutorials",
      "language": "python",
      "display_name": "Napistu - Tutorials",
      "path": "/Users/maya/Library/Jupyter/kernels/napistu_tutorials"
    }
  },
  "nbformat": 4,
  "nbformat_minor": 4
}