{
  "cells": [
    {
      "cell_type": "markdown",
      "metadata": {},
      "source": [
        "---\n",
        "title: \"Tutorial - Suggesting mechanisms with networks\"\n",
        "author: \"Shackett\"\n",
        "date: \"May 9th 2025\"\n",
        "---\n",
        "\n",
        "One of the primary goals of CPR is providing network-based answers to biological questions such as:\n",
        "- how are species *X* and *Y* connected?\n",
        "- what are the regulators of *X* and what are its downstream targets?\n",
        "- what are common patterns shared among a set of species: {*X*, *Y*, *Z*, ...}?"
      ]
    },
    {
      "cell_type": "code",
      "execution_count": 4,
      "metadata": {},
      "outputs": [],
      "source": [
        "#| label: config\n",
        "import logging\n",
        "\n",
        "import tutorial_utils\n",
        "\n",
        "logger = logging.getLogger()\n",
        "logger.setLevel(\"INFO\")\n",
        "\n",
        "config = tutorial_utils.NapistuConfig(\"config.yaml\", \"suggesting_mechanisms_with_networks\")\n",
        "sbml_dfs_path = config.load_asset(\"test_pathway\", \"sbml_dfs\")\n",
        "sbml_dfs_path = config.load_asset(\"test_pathway\", \"regulatory_graph\")"
      ]
    },
    {
      "cell_type": "code",
      "execution_count": 5,
      "metadata": {},
      "outputs": [],
      "source": [
        "#| label: env\n",
        "import pandas as pd\n",
        "\n",
        "from napistu import sbml_dfs_core\n",
        "from napistu import mechanism_matching\n",
        "from napistu import utils\n",
        "\n",
        "from napistu.network import net_create\n",
        "from napistu.network import paths\n",
        "from napistu.network import neighborhoods\n",
        "from napistu.network import net_utils\n",
        "\n",
        "sbml_dfs = utils.load_pickle(config.artifacts[\"sbml_dfs\"])\n",
        "cpr_graph = utils.load_pickle(config.artifacts[\"cpr_graph\"])"
      ]
    },
    {
      "cell_type": "markdown",
      "metadata": {},
      "source": [
        "For this tutorial we will work with the \"test pathway\" which is bundled with Open CPR. This is small metabolic model covering human central carbon metabolism. \n",
        "\n",
        "## Overview of `cpr_graph`\n",
        "\n",
        "Before we start exploring the metabolic model as a graph, we can first visualize its overall structure. \n",
        "\n",
        "Doing this we'll create a version of the network using the `surrogate` layout. The key feature of this layout is that it places enzymes downstream of their substrates. This doesn't make sense from a regulatory perspective (the substrate is modified by the enzyme not the other way around), but it does make sense for descriptive visualization of networks. "
      ]
    },
    {
      "cell_type": "code",
      "execution_count": 6,
      "metadata": {},
      "outputs": [
        {
          "ename": "AttributeError",
          "evalue": "module 'napistu.network.net_create' has no attribute 'process_napistu_graph'",
          "output_type": "error",
          "traceback": [
            "\u001b[31m---------------------------------------------------------------------------\u001b[39m",
            "\u001b[31mAttributeError\u001b[39m                            Traceback (most recent call last)",
            "\u001b[36mCell\u001b[39m\u001b[36m \u001b[39m\u001b[32mIn[6]\u001b[39m\u001b[32m, line 3\u001b[39m\n\u001b[32m      1\u001b[39m \u001b[38;5;66;03m#| label: create_and_visualize_surrogate_graph\u001b[39;00m\n\u001b[32m      2\u001b[39m \u001b[38;5;66;03m# create the surrogate graph\u001b[39;00m\n\u001b[32m----> \u001b[39m\u001b[32m3\u001b[39m cpr_graph_surrogate = \u001b[43mnet_create\u001b[49m\u001b[43m.\u001b[49m\u001b[43mprocess_napistu_graph\u001b[49m(sbml_dfs, graph_type = \u001b[33m\"\u001b[39m\u001b[33msurrogate\u001b[39m\u001b[33m\"\u001b[39m)\n\u001b[32m      5\u001b[39m \u001b[38;5;66;03m# network visualization\u001b[39;00m\n\u001b[32m      6\u001b[39m neighborhoods.plot_neighborhood(\n\u001b[32m      7\u001b[39m     net_utils.filter_to_largest_subgraph(cpr_graph_surrogate),\n\u001b[32m      8\u001b[39m     name_nodes = \u001b[38;5;28;01mTrue\u001b[39;00m,\n\u001b[32m      9\u001b[39m     plot_size = \u001b[32m2000\u001b[39m,\n\u001b[32m     10\u001b[39m     network_layout = \u001b[33m\"\u001b[39m\u001b[33mkk\u001b[39m\u001b[33m\"\u001b[39m \n\u001b[32m     11\u001b[39m )\n",
            "\u001b[31mAttributeError\u001b[39m: module 'napistu.network.net_create' has no attribute 'process_napistu_graph'"
          ]
        }
      ],
      "source": [
        "#| label: create_and_visualize_surrogate_graph\n",
        "# create the surrogate graph\n",
        "cpr_graph_surrogate = net_create.create_cpr_graph(sbml_dfs, graph_type = \"surrogate\")\n",
        "\n",
        "# network visualization\n",
        "neighborhoods.plot_neighborhood(\n",
        "    net_utils.filter_to_largest_subgraph(cpr_graph_surrogate),\n",
        "    name_nodes = True,\n",
        "    plot_size = 2000,\n",
        "    network_layout = \"kk\" \n",
        ")"
      ]
    },
    {
      "cell_type": "markdown",
      "metadata": {},
      "source": [
        "The networks used in cpr are just `igraph` `Graph` object with some additional vertex and edge attributes which are cpr-specific. This allows us to create, manipulate and visualize networks with igraph's extensive library, while also utilize the growing suite of network-based analysis approaches in CPR.\n",
        "\n",
        "## Shortest paths\n",
        "\n",
        "### Define source and destination species\n",
        "\n",
        "As an example we can try and find a pathway between glucose and pyruvate on the graph. "
      ]
    },
    {
      "cell_type": "code",
      "execution_count": null,
      "metadata": {},
      "outputs": [],
      "source": [
        "#| label: select_origin_and_dest_species\n",
        "S_NAME_ORIGIN = \"Glc\"\n",
        "S_NAME_DEST = \"PYR\"\n",
        "\n",
        "all_species = sbml_dfs.species[\"s_name\"].tolist()\n",
        "all_species.sort()\n",
        "all_species_str = ', '.join([f\"'{x}'\" for x in all_species])\n",
        "print(all_species_str)"
      ]
    },
    {
      "cell_type": "code",
      "execution_count": null,
      "metadata": {},
      "outputs": [],
      "source": [
        "#| label: inspect_source_and_dest\n",
        "species = sbml_dfs.species\n",
        "\n",
        "source_species = species[species[\"s_name\"] == S_NAME_ORIGIN]\n",
        "for spec in source_species.index:\n",
        "    print(\"\\n\" + spec + \"\\n\")\n",
        "    display(sbml_dfs_core.species_status(spec, sbml_dfs))\n",
        "\n",
        "dest_species = species[species[\"s_name\"] == S_NAME_DEST]\n",
        "for spec in dest_species.index:\n",
        "    print(\"\\n\" + spec + \"\\n\")\n",
        "    display(sbml_dfs_core.species_status(spec, sbml_dfs))"
      ]
    },
    {
      "cell_type": "markdown",
      "metadata": {},
      "source": [
        "Since CPR reactions relate molecular species in a specific compartment (compartmentalized species), we need to find the cspecies which match the source and target species. In a compartmentalized model the source and destination species may exist in multiple compartments so we'll try to identify the path from each source cspecies to each destination cspecies."
      ]
    },
    {
      "cell_type": "code",
      "execution_count": null,
      "metadata": {},
      "outputs": [],
      "source": [
        "#| label: compartmentalize_for_paths\n",
        "target_species_paths = net_utils.compartmentalize_species_pairs(\n",
        "    sbml_dfs, source_species.index.tolist(), dest_species.index.tolist()\n",
        ")\n",
        "target_species_paths"
      ]
    },
    {
      "cell_type": "markdown",
      "metadata": {},
      "source": [
        "### Find all shortest weighted paths between the source and destination species"
      ]
    },
    {
      "cell_type": "code",
      "execution_count": null,
      "metadata": {},
      "outputs": [],
      "source": [
        "#| label: find_shortest_paths\n",
        "(\n",
        "    all_shortest_reaction_paths_df,\n",
        "    all_shortest_reaction_path_edges_df,\n",
        "    edge_sources,\n",
        "    paths_graph,\n",
        ") = paths.find_all_shortest_reaction_paths(\n",
        "    cpr_graph, sbml_dfs, target_species_paths, weight_var=\"weights\"\n",
        ")"
      ]
    },
    {
      "cell_type": "code",
      "execution_count": null,
      "metadata": {},
      "outputs": [],
      "source": [
        "#| label: shortest_path\n",
        "with pd.option_context(\n",
        "    \"display.max_rows\", None, \"display.max_columns\", None, \"display.max_colwidth\", None\n",
        "):  # more options can be specified also\n",
        "    display(all_shortest_reaction_path_edges_df.query(\"path == 0\"))\n",
        "    display(all_shortest_reaction_path_edges_df.query(\"path == 0\"))"
      ]
    },
    {
      "cell_type": "code",
      "execution_count": null,
      "metadata": {},
      "outputs": [],
      "source": [
        "#| label: plot_shortest_paths\n",
        "paths.plot_shortest_paths(paths_graph)"
      ]
    },
    {
      "cell_type": "markdown",
      "metadata": {},
      "source": [
        "### Scaling Shortest Paths with Mechanism Matching"
      ]
    },
    {
      "cell_type": "code",
      "execution_count": null,
      "metadata": {},
      "outputs": [],
      "source": [
        "#| label: mock_edgelist\n",
        "edgelist = pd.DataFrame([\n",
        "    {\"identifier_upstream\" : \"17925\", \"identifier_downstream\" : \"32966\"}, # glu, fbp\n",
        "    {\"identifier_upstream\" : \"57634\", \"identifier_downstream\" : \"32966\"}, # f6p, fbp\n",
        "    {\"identifier_upstream\" : \"32966\", \"identifier_downstream\" : \"57642\"}, # fbp, dhap\n",
        "    {\"identifier_upstream\" : \"17925\", \"identifier_downstream\" : \"15361\"}, # glu, pyr\n",
        "])\n",
        "\n",
        "species_identifiers = sbml_dfs.get_identifiers(\"species\")"
      ]
    },
    {
      "cell_type": "markdown",
      "metadata": {},
      "source": [
        "#### Direct interactions\n",
        "\n",
        "Participants in the same reaction"
      ]
    },
    {
      "cell_type": "code",
      "execution_count": null,
      "metadata": {},
      "outputs": [],
      "source": [
        "#| label: direct_interactions\n",
        "direct_interactions = mechanism_matching.filter_to_direct_mechanistic_interactions(\n",
        "    formatted_edgelist=edgelist,\n",
        "    sbml_dfs=sbml_dfs,\n",
        "    species_identifiers=species_identifiers,\n",
        "    ontologies = {\"chebi\"}\n",
        ")\n",
        "\n",
        "utils.style_df(direct_interactions)"
      ]
    },
    {
      "cell_type": "markdown",
      "metadata": {},
      "source": [
        "#### Indirect interactions\n",
        "\n",
        "Finding paths between all pairs of vertices"
      ]
    },
    {
      "cell_type": "code",
      "execution_count": null,
      "metadata": {},
      "outputs": [],
      "source": [
        "#| label: indirect_interactions\n",
        "indirect_interactions = mechanism_matching.filter_to_indirect_mechanistic_interactions(\n",
        "    formatted_edgelist=edgelist,\n",
        "    sbml_dfs=sbml_dfs,\n",
        "    species_identifiers=species_identifiers,\n",
        "    cpr_graph=cpr_graph,\n",
        "    ontologies = {\"chebi\"},\n",
        "    precomputed_distances=None,\n",
        "    max_path_length=10,\n",
        ")\n",
        "\n",
        "utils.style_df(indirect_interactions.assign(vpath = \"###\").assign(epath = \"###\"))"
      ]
    },
    {
      "cell_type": "markdown",
      "metadata": {},
      "source": [
        "## Find neighbors within N steps of a species"
      ]
    },
    {
      "cell_type": "code",
      "execution_count": null,
      "metadata": {},
      "outputs": [],
      "source": [
        "#| label: create_hourglass\n",
        "# select the focal species to center the neighborhood on (like in the previous examples we'll use glucose\n",
        "\n",
        "focal_species = species[species[\"s_name\"] == S_NAME_ORIGIN].index.tolist()\n",
        "\n",
        "focal_sc_species = net_utils.compartmentalize_species(sbml_dfs, focal_species)[\"sc_id\"].tolist()\n",
        "\n",
        "neighbors = neighborhoods.find_neighborhoods(\n",
        "    sbml_dfs,\n",
        "    cpr_graph,\n",
        "    compartmentalized_species=focal_sc_species,\n",
        "    network_type=\"hourglass\",\n",
        "    order=6,\n",
        ")\n",
        "\n",
        "pruned_neighborhoods = neighborhoods.prune_neighborhoods(neighbors, top_n=10)\n",
        "\n",
        "neighborhoods.plot_neighborhood(\n",
        "    pruned_neighborhoods[focal_sc_species[0]][\"graph\"], True\n",
        ")"
      ]
    }
  ],
  "metadata": {
    "kernelspec": {
      "display_name": ".venv",
      "language": "python",
      "name": "python3"
    },
    "language_info": {
      "codemirror_mode": {
        "name": "ipython",
        "version": 3
      },
      "file_extension": ".py",
      "mimetype": "text/x-python",
      "name": "python",
      "nbconvert_exporter": "python",
      "pygments_lexer": "ipython3",
      "version": "3.11.11"
    }
  },
  "nbformat": 4,
  "nbformat_minor": 4
}
