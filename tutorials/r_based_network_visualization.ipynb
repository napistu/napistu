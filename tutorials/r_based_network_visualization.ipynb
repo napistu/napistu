{
  "cells": [
    {
      "cell_type": "markdown",
      "metadata": {},
      "source": [
        "---\n",
        "title: \"Tutorial - R-Based Network Visualization\"\n",
        "author: \"Shackett\"\n",
        "date: \"May 9th 2025\"\n",
        "---\n",
        "\n",
        "Calico Pathway Resources is primarily a Python framework but it does have some R functions for network visualization and lending some interactivity to network exploration."
      ]
    }
  ],
  "metadata": {
    "kernelspec": {
      "display_name": "Python 3 (ipykernel)",
      "language": "python",
      "name": "python3",
      "path": "/Users/maya/Desktop/GITHUB/napistu/tutorials/.venv/share/jupyter/kernels/python3"
    }
  },
  "nbformat": 4,
  "nbformat_minor": 4
}
