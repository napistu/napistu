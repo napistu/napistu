{
  "cells": [
    {
      "cell_type": "markdown",
      "metadata": {},
      "source": [
        "---\n",
        "title: \"Tutorial - R-Based Network Visualization\"\n",
        "author: \"Shackett\"\n",
        "date: \"`r format(Sys.time(), '%d %B, %Y')`\"\n",
        "format:\n",
        "  html:\n",
        "    embed-resources: true\n",
        "    code-fold: true\n",
        "    code-summary: \"Show the code\"\n",
        "    toc: true\n",
        "    theme: minty\n",
        "    highlight: tango\n",
        "    code-block-bg: true\n",
        "    code-block-border-left: \"#5BB867\"\n",
        "---\n",
        "\n",
        "Calico Pathway Resources is primarily a Python framework but it does have some R functions for network visualization and lending some interactivity to network exploration."
      ]
    }
  ],
  "metadata": {
    "kernelspec": {
      "name": "python3",
      "language": "python",
      "display_name": "Python 3 (ipykernel)",
      "path": "/Users/maya/Desktop/GITHUB/napistu/tutorials/.venv/share/jupyter/kernels/python3"
    }
  },
  "nbformat": 4,
  "nbformat_minor": 4
}