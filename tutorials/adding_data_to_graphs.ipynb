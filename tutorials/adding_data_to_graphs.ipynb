{
 "cells": [
  {
   "cell_type": "markdown",
   "metadata": {},
   "source": [
    "---\n",
    "title: Tutorial - Adding Data to Graphs\n",
    "author: \"Shackett\"\n",
    "date: \"May 9th 2025\"\n",
    "---\n",
    "\n",
    "This notebook describes how we can add species- or reaction-level data to pathway representation (`SBML_dfs`), and also how we can propagate these attributes to the vertices and edges in a `napistu_graph`.\n",
    "\n",
    "## Adding data to pathways\n",
    "\n",
    "Species- and reaction-level data is associated with the `species_data` or `reactions_data` attribute of an `SBML_dfs` object. Each of these fields can include multiple sources of entity data organized as a dictionary where keys are an information source label, and values are a `pd.DataFrame`. Each DataFrame is indexed by species or reaction ids (s_ids and _r_ids) corresponding to the indecies of the `species` and `reactions` tables.\n",
    "\n",
    "The main approaches for this are either:\n",
    "1. Adding information during network creation. This is generally how reaction-centric information such as the STRING weights will be passed. \n",
    "2. Directly add species or reaction data joining data based on systematic identifiers stored in `s_Identifiers` or `r_Identifiers` attributes.\n",
    "\n",
    "## Passing information to graphs\n",
    "\n",
    "To apply network-based methods we generally want to map results onto either vertex or edge attributes. For edges this can involve passing information which can be used for weighting connections (to favor certain sources or weight based on quantitative evidence scores.) For vertices, adding attributes supports either visualization or inference approaches such as network propagation.\n",
    "\n",
    "We propagate this information by using an `entity_weights` dictionary which specifies both the values we should pluck out of entity data table (as a dictionary key plus a pd.DataFrame column) but also how we can combine these values. This would allow us to combine species_data which may be from different sets of biomolecules (such as proteomics and metabolomics), or to weight edges derived from multiple sources which may be weighted in different ways (or possess no evidence scores at all).\n",
    "\n",
    "# Demos\n",
    "\n",
    "## Adding Data to Pathways\n",
    "\n",
    "### During construction\n",
    "\n",
    "You can create `SBML_dfs` objects in multiple ways:\n",
    "1. translating results from an .sbml file\n",
    "2. direct creation from a list of component pd.DataFrames (species, compartmentalized_species, compartments, reactions, and reaction_species)\n",
    "3. using the edgelist format to specify pairwise relationships with minimal annotations\n",
    "\n",
    "Of these, the edgelist format supports directly passing edge attributes into `reactions_data`. Basically, when defining edges all of the columns which are not required variables will be added to reactions_data.\n",
    "\n",
    "Some example functions which pass attributes during creation are yeast.convert_idea_kinetics_to_sbml_dfs() and string.convert_string_to_sbml_dfs(). As a quick demo:"
   ]
  },
  {
   "cell_type": "code",
   "execution_count": 11,
   "metadata": {},
   "outputs": [],
   "source": [
    "import logging\n",
    "logger = logging.getLogger()\n",
    "logger.setLevel(\"INFO\")\n",
    "\n",
    "import tutorial_utils\n",
    "config = tutorial_utils.CprConfig(\"config.yaml\", \"downloading_pathway_data\")"
   ]
  },
  {
   "cell_type": "code",
   "execution_count": 12,
   "metadata": {},
   "outputs": [],
   "source": [
    "import pandas as pd\n",
    "\n",
    "from napistu import sbml_dfs_core\n",
    "from napistu import source\n",
    "from napistu import identifiers\n",
    "from napistu import utils\n",
    "\n",
    "# setup compartments (just treat this as uncompartmentalized for now)\n",
    "compartments_df = sbml_dfs_core._stub_compartments()\n",
    "\n",
    "# Per convention unaggregated models receive an empty source\n",
    "interaction_source = source.Source(init=True)"
   ]
  },
  {
   "cell_type": "code",
   "execution_count": 13,
   "metadata": {},
   "outputs": [],
   "source": [
    "def _get_example_edgelist_inputs():\n",
    "    interaction_edgelist = pd.DataFrame(\n",
    "        [\n",
    "            {\n",
    "                \"upstream_name\": \"A\",\n",
    "                \"downstream_name\": \"B\",\n",
    "                \"upstream_compartment\": \"cellular_component\",\n",
    "                \"downstream_compartment\": \"cellular_component\",\n",
    "                \"r_name\": \"A -> B\",\n",
    "                \"sbo_term\": \"SBO:0000020\",\n",
    "                \"r_Identifiers\": identifiers.Identifiers(\n",
    "                    [\n",
    "                        identifiers.format_uri(\n",
    "                            \"http://www.ncbi.nlm.nih.gov/pubmed/10604467\",\n",
    "                            \"BQB_IS_DESCRIBED_BY\",\n",
    "                        )\n",
    "                    ]\n",
    "                ),\n",
    "                \"r_isreversible\": False,\n",
    "                \"rxn_attr_1\": \"foo\",\n",
    "                \"rxn_attr_2\": 1,\n",
    "            },\n",
    "            {\n",
    "                \"upstream_name\": \"A\",\n",
    "                \"downstream_name\": \"C\",\n",
    "                \"upstream_compartment\": \"cellular_component\",\n",
    "                \"downstream_compartment\": \"cellular_component\",\n",
    "                \"r_name\": \"A -> C\",\n",
    "                \"sbo_term\": \"SBO:0000459\",\n",
    "                \"r_Identifiers\": identifiers.Identifiers(\n",
    "                    [\n",
    "                        identifiers.format_uri(\n",
    "                            \"http://www.ncbi.nlm.nih.gov/pubmed/10604467\",\n",
    "                            \"BQB_IS_DESCRIBED_BY\",\n",
    "                        )\n",
    "                    ]\n",
    "                ),\n",
    "                \"r_isreversible\": False,\n",
    "                \"rxn_attr_1\": \"bar\",\n",
    "                \"rxn_attr_2\": 2,\n",
    "            },\n",
    "        ],\n",
    "        index=[0, 1],\n",
    "    )\n",
    "\n",
    "    species_df = pd.DataFrame(\n",
    "        [\n",
    "            {\n",
    "                \"s_name\": \"A\",\n",
    "                \"s_Identifiers\": identifiers.Identifiers(\n",
    "                    [\n",
    "                        identifiers.format_uri(\n",
    "                            \"http://www.ensembl.org/Homo_sapiens/geneview?gene=ENSG00000153094\",\n",
    "                            \"BQB_IS\",\n",
    "                        )\n",
    "                    ]\n",
    "                ),\n",
    "                \"spec_attr\": 2,\n",
    "            },\n",
    "            {\n",
    "                \"s_name\": \"B\",\n",
    "                \"s_Identifiers\": identifiers.Identifiers(\n",
    "                    [\n",
    "                        identifiers.format_uri(\n",
    "                            \"https://purl.uniprot.org/uniprot/Q557I5\", \"BQB_IS\"\n",
    "                        )\n",
    "                    ]\n",
    "                ),\n",
    "                \"spec_attr\": 5,\n",
    "            },\n",
    "            {\n",
    "                \"s_name\": \"C\",\n",
    "                \"s_Identifiers\": identifiers.Identifiers(\n",
    "                    [\n",
    "                        identifiers.format_uri(\n",
    "                            \"http://www.ebi.ac.uk/chebi/searchId.do?chebiId=CHEBI:37136\",\n",
    "                            \"BQB_IS\",\n",
    "                        )\n",
    "                    ]\n",
    "                ),\n",
    "                \"spec_attr\": 1,\n",
    "            },\n",
    "        ],\n",
    "        index=[0, 1, 2],\n",
    "    )\n",
    "\n",
    "    compartments_df = sbml_dfs_core._stub_compartments()\n",
    "\n",
    "    interaction_source = source.Source(init=True)\n",
    "\n",
    "    return (interaction_edgelist, species_df, compartments_df, interaction_source)\n",
    "\n",
    "\n",
    "(\n",
    "    interaction_edgelist,\n",
    "    species_df,\n",
    "    compartments_df,\n",
    "    interaction_source,\n",
    ") = _get_example_edgelist_inputs()\n",
    "\n",
    "sbml_dfs = sbml_dfs_core.sbml_dfs_from_edgelist(\n",
    "    interaction_edgelist,\n",
    "    species_df,\n",
    "    compartments_df,\n",
    "    interaction_source,\n",
    "    keep_species_data=\"data\",\n",
    "    keep_reactions_data=\"data\",\n",
    ")"
   ]
  },
  {
   "cell_type": "markdown",
   "metadata": {},
   "source": [
    "#### Mounted species data "
   ]
  },
  {
   "cell_type": "code",
   "execution_count": 14,
   "metadata": {},
   "outputs": [
    {
     "data": {
      "text/html": [
       "<style type=\"text/css\">\n",
       "#T_5806e th {\n",
       "  color: limegreen;\n",
       "}\n",
       "</style>\n",
       "<table id=\"T_5806e\">\n",
       "  <thead>\n",
       "    <tr>\n",
       "      <th class=\"blank level0\" >&nbsp;</th>\n",
       "      <th id=\"T_5806e_level0_col0\" class=\"col_heading level0 col0\" >rxn_attr_1</th>\n",
       "      <th id=\"T_5806e_level0_col1\" class=\"col_heading level0 col1\" >rxn_attr_2</th>\n",
       "    </tr>\n",
       "    <tr>\n",
       "      <th class=\"index_name level0\" >r_id</th>\n",
       "      <th class=\"blank col0\" >&nbsp;</th>\n",
       "      <th class=\"blank col1\" >&nbsp;</th>\n",
       "    </tr>\n",
       "  </thead>\n",
       "  <tbody>\n",
       "    <tr>\n",
       "      <th id=\"T_5806e_level0_row0\" class=\"row_heading level0 row0\" >R00000000</th>\n",
       "      <td id=\"T_5806e_row0_col0\" class=\"data row0 col0\" >foo</td>\n",
       "      <td id=\"T_5806e_row0_col1\" class=\"data row0 col1\" >1</td>\n",
       "    </tr>\n",
       "    <tr>\n",
       "      <th id=\"T_5806e_level0_row1\" class=\"row_heading level0 row1\" >R00000001</th>\n",
       "      <td id=\"T_5806e_row1_col0\" class=\"data row1 col0\" >bar</td>\n",
       "      <td id=\"T_5806e_row1_col1\" class=\"data row1 col1\" >2</td>\n",
       "    </tr>\n",
       "  </tbody>\n",
       "</table>\n"
      ],
      "text/plain": [
       "<pandas.io.formats.style.Styler at 0x173c4ba10>"
      ]
     },
     "execution_count": 14,
     "metadata": {},
     "output_type": "execute_result"
    }
   ],
   "source": [
    "utils.style_df(sbml_dfs.reactions_data[\"data\"])"
   ]
  },
  {
   "cell_type": "markdown",
   "metadata": {},
   "source": [
    "#### Mounted reaction data"
   ]
  },
  {
   "cell_type": "code",
   "execution_count": 15,
   "metadata": {},
   "outputs": [
    {
     "data": {
      "text/html": [
       "<style type=\"text/css\">\n",
       "#T_0454a th {\n",
       "  color: limegreen;\n",
       "}\n",
       "</style>\n",
       "<table id=\"T_0454a\">\n",
       "  <thead>\n",
       "    <tr>\n",
       "      <th class=\"blank level0\" >&nbsp;</th>\n",
       "      <th id=\"T_0454a_level0_col0\" class=\"col_heading level0 col0\" >spec_attr</th>\n",
       "    </tr>\n",
       "    <tr>\n",
       "      <th class=\"index_name level0\" >s_id</th>\n",
       "      <th class=\"blank col0\" >&nbsp;</th>\n",
       "    </tr>\n",
       "  </thead>\n",
       "  <tbody>\n",
       "    <tr>\n",
       "      <th id=\"T_0454a_level0_row0\" class=\"row_heading level0 row0\" >S00000000</th>\n",
       "      <td id=\"T_0454a_row0_col0\" class=\"data row0 col0\" >2</td>\n",
       "    </tr>\n",
       "    <tr>\n",
       "      <th id=\"T_0454a_level0_row1\" class=\"row_heading level0 row1\" >S00000001</th>\n",
       "      <td id=\"T_0454a_row1_col0\" class=\"data row1 col0\" >5</td>\n",
       "    </tr>\n",
       "    <tr>\n",
       "      <th id=\"T_0454a_level0_row2\" class=\"row_heading level0 row2\" >S00000002</th>\n",
       "      <td id=\"T_0454a_row2_col0\" class=\"data row2 col0\" >1</td>\n",
       "    </tr>\n",
       "  </tbody>\n",
       "</table>\n"
      ],
      "text/plain": [
       "<pandas.io.formats.style.Styler at 0x173c34b10>"
      ]
     },
     "execution_count": 15,
     "metadata": {},
     "output_type": "execute_result"
    }
   ],
   "source": [
    "utils.style_df(sbml_dfs.species_data[\"data\"])"
   ]
  },
  {
   "cell_type": "markdown",
   "metadata": {},
   "source": [
    "## Adding entity data to an existing `SBML_dfs` object\n",
    "\n",
    "To add reaction- or species-level data to an existing `SBML_dfs` object we can create an appropriate pd.DataFrame and directly add it to the object. As with all `species_data` or `reactions_data` entries this table must be indexed by the models species or reaction ids. Because of this, the challenge in merging results determining which species in our model match entries in the to-be-added entity data. To provide some guidance on this we will consider a couple of cases: matching by names, and matching by standard identifiers.\n",
    "\n",
    "### Matching by names\n",
    "\n",
    "Matching by names or symbols is generally not a good idea because there is a many-to-many relationship between many genes and symbols. Still, lots of people do use symbols, and this is a simple case which shows how easy it is to add entity data once we've matched it to existing pathway species or reactions.\n"
   ]
  },
  {
   "cell_type": "code",
   "execution_count": 16,
   "metadata": {},
   "outputs": [
    {
     "data": {
      "text/html": [
       "<style type=\"text/css\">\n",
       "#T_9458a th {\n",
       "  color: limegreen;\n",
       "}\n",
       "</style>\n",
       "<table id=\"T_9458a\">\n",
       "  <thead>\n",
       "    <tr>\n",
       "      <th class=\"blank level0\" >&nbsp;</th>\n",
       "      <th id=\"T_9458a_level0_col0\" class=\"col_heading level0 col0\" >new_data</th>\n",
       "    </tr>\n",
       "    <tr>\n",
       "      <th class=\"index_name level0\" >s_id</th>\n",
       "      <th class=\"blank col0\" >&nbsp;</th>\n",
       "    </tr>\n",
       "  </thead>\n",
       "  <tbody>\n",
       "    <tr>\n",
       "      <th id=\"T_9458a_level0_row0\" class=\"row_heading level0 row0\" >S00000000</th>\n",
       "      <td id=\"T_9458a_row0_col0\" class=\"data row0 col0\" >2</td>\n",
       "    </tr>\n",
       "    <tr>\n",
       "      <th id=\"T_9458a_level0_row1\" class=\"row_heading level0 row1\" >S00000001</th>\n",
       "      <td id=\"T_9458a_row1_col0\" class=\"data row1 col0\" >2</td>\n",
       "    </tr>\n",
       "  </tbody>\n",
       "</table>\n"
      ],
      "text/plain": [
       "<pandas.io.formats.style.Styler at 0x173c26bd0>"
      ]
     },
     "execution_count": 16,
     "metadata": {},
     "output_type": "execute_result"
    }
   ],
   "source": [
    "new_species_data = sbml_dfs.species[0:2].assign(new_data=2)[[\"new_data\"]]\n",
    "\n",
    "new_reactions_data = pd.DataFrame(\n",
    "    [\n",
    "        {\"r_id\": sbml_dfs.reactions.index[0], \"new_data\": 2},\n",
    "        {\"r_id\": sbml_dfs.reactions.index[1], \"new_data\": 3},\n",
    "    ]\n",
    ").set_index(\"r_id\")\n",
    "\n",
    "sbml_dfs.add_species_data(\"new_data\", new_species_data)\n",
    "sbml_dfs.add_reactions_data(\"new_data\", new_reactions_data)\n",
    "\n",
    "utils.style_df(sbml_dfs.species_data[\"new_data\"])"
   ]
  },
  {
   "cell_type": "markdown",
   "metadata": {},
   "source": [
    "### Matching by identifiers\n",
    "\n",
    "Generally we will be trying to add molecular data to a network which is associated with one or more systematic ontologies. A nice way to do this is using `mechanism_matching.features_to_pathway_species()`. This function will compare a table containing all species or reactions identifiers in the pathway model to a set of query features to create a lookup table of query identifiers to pathway ids."
   ]
  },
  {
   "cell_type": "code",
   "execution_count": 17,
   "metadata": {},
   "outputs": [],
   "source": [
    "from napistu import mechanism_matching\n",
    "\n",
    "# export identifiers from pathway\n",
    "species_identifiers = sbml_dfs.get_identifiers(\"species\")\n",
    "\n",
    "feature_annotations = pd.DataFrame(\n",
    "    [\n",
    "        {\"identifier\": \"ENSG00000153094\", \"expression\": 1000},\n",
    "        {\"identifier\": \"ENSG0000000000\", \"expression\": 50},\n",
    "    ],\n",
    "    index=[0, 1],\n",
    ")\n",
    "\n",
    "updated_species_data = mechanism_matching.features_to_pathway_species(\n",
    "    feature_annotations,\n",
    "    species_identifiers,\n",
    "    ontologies={\"ensembl_gene\"},\n",
    "    feature_id_var=\"identifier\",\n",
    ")[[\"s_id\", \"expression\"]].set_index(\"s_id\")\n",
    "\n",
    "sbml_dfs.add_species_data(\"newest_data\", updated_species_data)"
   ]
  },
  {
   "cell_type": "markdown",
   "metadata": {},
   "source": [
    "#### Mounted species data"
   ]
  },
  {
   "cell_type": "code",
   "execution_count": 18,
   "metadata": {},
   "outputs": [
    {
     "data": {
      "text/plain": [
       "{'data':            spec_attr\n",
       " s_id                \n",
       " S00000000          2\n",
       " S00000001          5\n",
       " S00000002          1,\n",
       " 'new_data':            new_data\n",
       " s_id               \n",
       " S00000000         2\n",
       " S00000001         2,\n",
       " 'newest_data':            expression\n",
       " s_id                 \n",
       " S00000000        1000}"
      ]
     },
     "execution_count": 18,
     "metadata": {},
     "output_type": "execute_result"
    }
   ],
   "source": [
    "sbml_dfs.species_data"
   ]
  },
  {
   "cell_type": "markdown",
   "metadata": {},
   "source": [
    "#### Mounted reaction data"
   ]
  },
  {
   "cell_type": "code",
   "execution_count": 19,
   "metadata": {},
   "outputs": [
    {
     "data": {
      "text/plain": [
       "{'data':           rxn_attr_1  rxn_attr_2\n",
       " r_id                            \n",
       " R00000000        foo           1\n",
       " R00000001        bar           2,\n",
       " 'new_data':            new_data\n",
       " r_id               \n",
       " R00000000         2\n",
       " R00000001         3}"
      ]
     },
     "execution_count": 19,
     "metadata": {},
     "output_type": "execute_result"
    }
   ],
   "source": [
    "sbml_dfs.reactions_data"
   ]
  },
  {
   "cell_type": "markdown",
   "metadata": {},
   "source": [
    "## Passing Information to Graphs \n",
    "\n",
    "Now that we have our data of interest tied to the appropriate species and reactions in our pathway we can carry this information forward as we translate the pathway representation into a graph of vertices connected by edges.\n",
    "\n",
    "This process is controlled by the settings in the `reaction_graph_attrs` dictionary which specifies the variables which should pulled out of `species_data` or `reactions_data` and can also be used to specify how the graph should be weighted. A real-world example of this can be found in [calcification_causality.ipynb](https://github.com/calico/discovery/blob/main/projects/calcification/calcification_causality/calcification_causality.ipynb).\n"
   ]
  },
  {
   "cell_type": "code",
   "execution_count": 20,
   "metadata": {},
   "outputs": [
    {
     "name": "stderr",
     "output_type": "stream",
     "text": [
      "INFO:napistu.network.net_create:Organizing all network nodes (compartmentalized species and reactions)\n",
      "INFO:napistu.network.net_create:Formatting edges as a regulatory graph\n",
      "INFO:napistu.network.net_create:Formatting 4 reactions species as tiered edges.\n",
      "INFO:napistu.network.net_create:Adding additional attributes to edges, e.g., # of children and parents.\n",
      "INFO:napistu.network.net_create:Done preparing regulatory graph\n",
      "INFO:napistu.network.net_create:Adding reversibility and other meta-data from reactions_data\n",
      "INFO:napistu.network.net_create:Creating reverse reactions for reversible reactions on a directed graph\n",
      "INFO:napistu.network.net_create:Formatting cpr_graph output\n"
     ]
    }
   ],
   "source": [
    "from napistu.network import net_create\n",
    "\n",
    "reaction_graph_attrs = {\n",
    "    \"reactions\": {\n",
    "        \"reaction_wts\": {\"table\": \"data\", \"variable\": \"rxn_attr_1\", \"trans\": \"identity\"}\n",
    "    },\n",
    "    \"species\": {\n",
    "        \"species_var1\": {\n",
    "            \"table\": \"data\",\n",
    "            \"variable\": \"spec_attr\",\n",
    "            \"trans\": \"string_inv\",\n",
    "        },\n",
    "        \"species_var2\": {\n",
    "            \"table\": \"newest_data\",\n",
    "            \"variable\": \"expression\",\n",
    "            \"trans\": \"identity\",\n",
    "        },\n",
    "    },\n",
    "}\n",
    "\n",
    "graph_w_annotations = net_create.create_napistu_graph(\n",
    "    sbml_dfs,\n",
    "    reaction_graph_attrs,\n",
    "    directed=True,\n",
    "    graph_type=\"regulatory\"\n",
    ")"
   ]
  },
  {
   "cell_type": "markdown",
   "metadata": {},
   "source": [
    "### Graph vertices (with data)"
   ]
  },
  {
   "cell_type": "code",
   "execution_count": 21,
   "metadata": {},
   "outputs": [
    {
     "data": {
      "text/html": [
       "<style type=\"text/css\">\n",
       "#T_39cac th {\n",
       "  color: limegreen;\n",
       "}\n",
       "</style>\n",
       "<table id=\"T_39cac\">\n",
       "  <thead>\n",
       "    <tr>\n",
       "      <th class=\"blank level0\" >&nbsp;</th>\n",
       "      <th id=\"T_39cac_level0_col0\" class=\"col_heading level0 col0\" >name</th>\n",
       "      <th id=\"T_39cac_level0_col1\" class=\"col_heading level0 col1\" >node_name</th>\n",
       "      <th id=\"T_39cac_level0_col2\" class=\"col_heading level0 col2\" >node_type</th>\n",
       "    </tr>\n",
       "    <tr>\n",
       "      <th class=\"index_name level0\" >vertex ID</th>\n",
       "      <th class=\"blank col0\" >&nbsp;</th>\n",
       "      <th class=\"blank col1\" >&nbsp;</th>\n",
       "      <th class=\"blank col2\" >&nbsp;</th>\n",
       "    </tr>\n",
       "  </thead>\n",
       "  <tbody>\n",
       "    <tr>\n",
       "      <th id=\"T_39cac_level0_row0\" class=\"row_heading level0 row0\" >0</th>\n",
       "      <td id=\"T_39cac_row0_col0\" class=\"data row0 col0\" >SC00000000</td>\n",
       "      <td id=\"T_39cac_row0_col1\" class=\"data row0 col1\" >A [cellular_component]</td>\n",
       "      <td id=\"T_39cac_row0_col2\" class=\"data row0 col2\" >species</td>\n",
       "    </tr>\n",
       "    <tr>\n",
       "      <th id=\"T_39cac_level0_row1\" class=\"row_heading level0 row1\" >1</th>\n",
       "      <td id=\"T_39cac_row1_col0\" class=\"data row1 col0\" >SC00000001</td>\n",
       "      <td id=\"T_39cac_row1_col1\" class=\"data row1 col1\" >B [cellular_component]</td>\n",
       "      <td id=\"T_39cac_row1_col2\" class=\"data row1 col2\" >species</td>\n",
       "    </tr>\n",
       "    <tr>\n",
       "      <th id=\"T_39cac_level0_row2\" class=\"row_heading level0 row2\" >2</th>\n",
       "      <td id=\"T_39cac_row2_col0\" class=\"data row2 col0\" >SC00000002</td>\n",
       "      <td id=\"T_39cac_row2_col1\" class=\"data row2 col1\" >C [cellular_component]</td>\n",
       "      <td id=\"T_39cac_row2_col2\" class=\"data row2 col2\" >species</td>\n",
       "    </tr>\n",
       "    <tr>\n",
       "      <th id=\"T_39cac_level0_row3\" class=\"row_heading level0 row3\" >3</th>\n",
       "      <td id=\"T_39cac_row3_col0\" class=\"data row3 col0\" >R00000000</td>\n",
       "      <td id=\"T_39cac_row3_col1\" class=\"data row3 col1\" >A -> B</td>\n",
       "      <td id=\"T_39cac_row3_col2\" class=\"data row3 col2\" >reaction</td>\n",
       "    </tr>\n",
       "    <tr>\n",
       "      <th id=\"T_39cac_level0_row4\" class=\"row_heading level0 row4\" >4</th>\n",
       "      <td id=\"T_39cac_row4_col0\" class=\"data row4 col0\" >R00000001</td>\n",
       "      <td id=\"T_39cac_row4_col1\" class=\"data row4 col1\" >A -> C</td>\n",
       "      <td id=\"T_39cac_row4_col2\" class=\"data row4 col2\" >reaction</td>\n",
       "    </tr>\n",
       "  </tbody>\n",
       "</table>\n"
      ],
      "text/plain": [
       "<pandas.io.formats.style.Styler at 0x173d59810>"
      ]
     },
     "execution_count": 21,
     "metadata": {},
     "output_type": "execute_result"
    }
   ],
   "source": [
    "utils.style_df(graph_w_annotations.get_vertex_dataframe())"
   ]
  },
  {
   "cell_type": "markdown",
   "metadata": {},
   "source": [
    "### Graph edges (with data)"
   ]
  },
  {
   "cell_type": "code",
   "execution_count": 22,
   "metadata": {},
   "outputs": [
    {
     "data": {
      "text/html": [
       "<style type=\"text/css\">\n",
       "#T_fdbdd th {\n",
       "  color: limegreen;\n",
       "}\n",
       "</style>\n",
       "<table id=\"T_fdbdd\">\n",
       "  <thead>\n",
       "    <tr>\n",
       "      <th class=\"blank level0\" >&nbsp;</th>\n",
       "      <th id=\"T_fdbdd_level0_col0\" class=\"col_heading level0 col0\" >source</th>\n",
       "      <th id=\"T_fdbdd_level0_col1\" class=\"col_heading level0 col1\" >target</th>\n",
       "      <th id=\"T_fdbdd_level0_col2\" class=\"col_heading level0 col2\" >from</th>\n",
       "      <th id=\"T_fdbdd_level0_col3\" class=\"col_heading level0 col3\" >to</th>\n",
       "      <th id=\"T_fdbdd_level0_col4\" class=\"col_heading level0 col4\" >sbo_term</th>\n",
       "      <th id=\"T_fdbdd_level0_col5\" class=\"col_heading level0 col5\" >stoichiometry</th>\n",
       "      <th id=\"T_fdbdd_level0_col6\" class=\"col_heading level0 col6\" >sc_parents</th>\n",
       "      <th id=\"T_fdbdd_level0_col7\" class=\"col_heading level0 col7\" >sc_degree</th>\n",
       "      <th id=\"T_fdbdd_level0_col8\" class=\"col_heading level0 col8\" >species_type</th>\n",
       "      <th id=\"T_fdbdd_level0_col9\" class=\"col_heading level0 col9\" >r_id</th>\n",
       "      <th id=\"T_fdbdd_level0_col10\" class=\"col_heading level0 col10\" >sc_children</th>\n",
       "      <th id=\"T_fdbdd_level0_col11\" class=\"col_heading level0 col11\" >r_isreversible</th>\n",
       "      <th id=\"T_fdbdd_level0_col12\" class=\"col_heading level0 col12\" >reaction_wts</th>\n",
       "      <th id=\"T_fdbdd_level0_col13\" class=\"col_heading level0 col13\" >direction</th>\n",
       "    </tr>\n",
       "    <tr>\n",
       "      <th class=\"index_name level0\" >edge ID</th>\n",
       "      <th class=\"blank col0\" >&nbsp;</th>\n",
       "      <th class=\"blank col1\" >&nbsp;</th>\n",
       "      <th class=\"blank col2\" >&nbsp;</th>\n",
       "      <th class=\"blank col3\" >&nbsp;</th>\n",
       "      <th class=\"blank col4\" >&nbsp;</th>\n",
       "      <th class=\"blank col5\" >&nbsp;</th>\n",
       "      <th class=\"blank col6\" >&nbsp;</th>\n",
       "      <th class=\"blank col7\" >&nbsp;</th>\n",
       "      <th class=\"blank col8\" >&nbsp;</th>\n",
       "      <th class=\"blank col9\" >&nbsp;</th>\n",
       "      <th class=\"blank col10\" >&nbsp;</th>\n",
       "      <th class=\"blank col11\" >&nbsp;</th>\n",
       "      <th class=\"blank col12\" >&nbsp;</th>\n",
       "      <th class=\"blank col13\" >&nbsp;</th>\n",
       "    </tr>\n",
       "  </thead>\n",
       "  <tbody>\n",
       "    <tr>\n",
       "      <th id=\"T_fdbdd_level0_row0\" class=\"row_heading level0 row0\" >0</th>\n",
       "      <td id=\"T_fdbdd_row0_col0\" class=\"data row0 col0\" >3</td>\n",
       "      <td id=\"T_fdbdd_row0_col1\" class=\"data row0 col1\" >1</td>\n",
       "      <td id=\"T_fdbdd_row0_col2\" class=\"data row0 col2\" >R00000000</td>\n",
       "      <td id=\"T_fdbdd_row0_col3\" class=\"data row0 col3\" >SC00000001</td>\n",
       "      <td id=\"T_fdbdd_row0_col4\" class=\"data row0 col4\" >SBO:0000011</td>\n",
       "      <td id=\"T_fdbdd_row0_col5\" class=\"data row0 col5\" >1.000</td>\n",
       "      <td id=\"T_fdbdd_row0_col6\" class=\"data row0 col6\" >1.000</td>\n",
       "      <td id=\"T_fdbdd_row0_col7\" class=\"data row0 col7\" >1.000</td>\n",
       "      <td id=\"T_fdbdd_row0_col8\" class=\"data row0 col8\" >protein</td>\n",
       "      <td id=\"T_fdbdd_row0_col9\" class=\"data row0 col9\" >R00000000</td>\n",
       "      <td id=\"T_fdbdd_row0_col10\" class=\"data row0 col10\" >0.000</td>\n",
       "      <td id=\"T_fdbdd_row0_col11\" class=\"data row0 col11\" >False</td>\n",
       "      <td id=\"T_fdbdd_row0_col12\" class=\"data row0 col12\" >foo</td>\n",
       "      <td id=\"T_fdbdd_row0_col13\" class=\"data row0 col13\" >forward</td>\n",
       "    </tr>\n",
       "    <tr>\n",
       "      <th id=\"T_fdbdd_level0_row1\" class=\"row_heading level0 row1\" >1</th>\n",
       "      <td id=\"T_fdbdd_row1_col0\" class=\"data row1 col0\" >4</td>\n",
       "      <td id=\"T_fdbdd_row1_col1\" class=\"data row1 col1\" >2</td>\n",
       "      <td id=\"T_fdbdd_row1_col2\" class=\"data row1 col2\" >R00000001</td>\n",
       "      <td id=\"T_fdbdd_row1_col3\" class=\"data row1 col3\" >SC00000002</td>\n",
       "      <td id=\"T_fdbdd_row1_col4\" class=\"data row1 col4\" >SBO:0000011</td>\n",
       "      <td id=\"T_fdbdd_row1_col5\" class=\"data row1 col5\" >1.000</td>\n",
       "      <td id=\"T_fdbdd_row1_col6\" class=\"data row1 col6\" >1.000</td>\n",
       "      <td id=\"T_fdbdd_row1_col7\" class=\"data row1 col7\" >1.000</td>\n",
       "      <td id=\"T_fdbdd_row1_col8\" class=\"data row1 col8\" >metabolite</td>\n",
       "      <td id=\"T_fdbdd_row1_col9\" class=\"data row1 col9\" >R00000001</td>\n",
       "      <td id=\"T_fdbdd_row1_col10\" class=\"data row1 col10\" >0.000</td>\n",
       "      <td id=\"T_fdbdd_row1_col11\" class=\"data row1 col11\" >False</td>\n",
       "      <td id=\"T_fdbdd_row1_col12\" class=\"data row1 col12\" >bar</td>\n",
       "      <td id=\"T_fdbdd_row1_col13\" class=\"data row1 col13\" >forward</td>\n",
       "    </tr>\n",
       "    <tr>\n",
       "      <th id=\"T_fdbdd_level0_row2\" class=\"row_heading level0 row2\" >2</th>\n",
       "      <td id=\"T_fdbdd_row2_col0\" class=\"data row2 col0\" >0</td>\n",
       "      <td id=\"T_fdbdd_row2_col1\" class=\"data row2 col1\" >3</td>\n",
       "      <td id=\"T_fdbdd_row2_col2\" class=\"data row2 col2\" >SC00000000</td>\n",
       "      <td id=\"T_fdbdd_row2_col3\" class=\"data row2 col3\" >R00000000</td>\n",
       "      <td id=\"T_fdbdd_row2_col4\" class=\"data row2 col4\" >SBO:0000020</td>\n",
       "      <td id=\"T_fdbdd_row2_col5\" class=\"data row2 col5\" >0.000</td>\n",
       "      <td id=\"T_fdbdd_row2_col6\" class=\"data row2 col6\" >0.000</td>\n",
       "      <td id=\"T_fdbdd_row2_col7\" class=\"data row2 col7\" >2.000</td>\n",
       "      <td id=\"T_fdbdd_row2_col8\" class=\"data row2 col8\" >protein</td>\n",
       "      <td id=\"T_fdbdd_row2_col9\" class=\"data row2 col9\" >R00000000</td>\n",
       "      <td id=\"T_fdbdd_row2_col10\" class=\"data row2 col10\" >2.000</td>\n",
       "      <td id=\"T_fdbdd_row2_col11\" class=\"data row2 col11\" >False</td>\n",
       "      <td id=\"T_fdbdd_row2_col12\" class=\"data row2 col12\" >foo</td>\n",
       "      <td id=\"T_fdbdd_row2_col13\" class=\"data row2 col13\" >forward</td>\n",
       "    </tr>\n",
       "    <tr>\n",
       "      <th id=\"T_fdbdd_level0_row3\" class=\"row_heading level0 row3\" >3</th>\n",
       "      <td id=\"T_fdbdd_row3_col0\" class=\"data row3 col0\" >0</td>\n",
       "      <td id=\"T_fdbdd_row3_col1\" class=\"data row3 col1\" >4</td>\n",
       "      <td id=\"T_fdbdd_row3_col2\" class=\"data row3 col2\" >SC00000000</td>\n",
       "      <td id=\"T_fdbdd_row3_col3\" class=\"data row3 col3\" >R00000001</td>\n",
       "      <td id=\"T_fdbdd_row3_col4\" class=\"data row3 col4\" >SBO:0000459</td>\n",
       "      <td id=\"T_fdbdd_row3_col5\" class=\"data row3 col5\" >0.000</td>\n",
       "      <td id=\"T_fdbdd_row3_col6\" class=\"data row3 col6\" >0.000</td>\n",
       "      <td id=\"T_fdbdd_row3_col7\" class=\"data row3 col7\" >2.000</td>\n",
       "      <td id=\"T_fdbdd_row3_col8\" class=\"data row3 col8\" >protein</td>\n",
       "      <td id=\"T_fdbdd_row3_col9\" class=\"data row3 col9\" >R00000001</td>\n",
       "      <td id=\"T_fdbdd_row3_col10\" class=\"data row3 col10\" >2.000</td>\n",
       "      <td id=\"T_fdbdd_row3_col11\" class=\"data row3 col11\" >False</td>\n",
       "      <td id=\"T_fdbdd_row3_col12\" class=\"data row3 col12\" >bar</td>\n",
       "      <td id=\"T_fdbdd_row3_col13\" class=\"data row3 col13\" >forward</td>\n",
       "    </tr>\n",
       "  </tbody>\n",
       "</table>\n"
      ],
      "text/plain": [
       "<pandas.io.formats.style.Styler at 0x173c48210>"
      ]
     },
     "execution_count": 22,
     "metadata": {},
     "output_type": "execute_result"
    }
   ],
   "source": [
    "utils.style_df(graph_w_annotations.get_edge_dataframe())"
   ]
  }
 ],
 "metadata": {
  "kernelspec": {
   "display_name": ".venv",
   "language": "python",
   "name": "python3"
  },
  "language_info": {
   "codemirror_mode": {
    "name": "ipython",
    "version": 3
   },
   "file_extension": ".py",
   "mimetype": "text/x-python",
   "name": "python",
   "nbconvert_exporter": "python",
   "pygments_lexer": "ipython3",
   "version": "3.11.11"
  }
 },
 "nbformat": 4,
 "nbformat_minor": 2
}
